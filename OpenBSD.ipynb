{
 "metadata": {
  "name": "OpenBSD"
 },
 "nbformat": 3,
 "nbformat_minor": 0,
 "worksheets": [
  {
   "cells": [
    {
     "cell_type": "heading",
     "level": 2,
     "metadata": {},
     "source": [
      "Daten erzeugen"
     ]
    },
    {
     "cell_type": "code",
     "collapsed": false,
     "input": [
      "cd ~/projekte/openbsd/openbsd-src/"
     ],
     "language": "python",
     "metadata": {},
     "outputs": [
      {
       "output_type": "stream",
       "stream": "stdout",
       "text": [
        "/home/dloss/projekte/openbsd/openbsd-src\n"
       ]
      }
     ],
     "prompt_number": 1
    },
    {
     "cell_type": "code",
     "collapsed": false,
     "input": [
      "!git log --format=format:\"%ai, %an\" > ../commits"
     ],
     "language": "python",
     "metadata": {},
     "outputs": [],
     "prompt_number": 2
    },
    {
     "cell_type": "code",
     "collapsed": false,
     "input": [
      "cd .."
     ],
     "language": "python",
     "metadata": {},
     "outputs": [
      {
       "output_type": "stream",
       "stream": "stdout",
       "text": [
        "/home/dloss/projekte/openbsd"
       ]
      },
      {
       "output_type": "stream",
       "stream": "stdout",
       "text": [
        "\n"
       ]
      }
     ],
     "prompt_number": 3
    },
    {
     "cell_type": "code",
     "collapsed": false,
     "input": [
      "ls"
     ],
     "language": "python",
     "metadata": {},
     "outputs": [
      {
       "output_type": "stream",
       "stream": "stdout",
       "text": [
        "commits  genucommits.pdf  \u001b[0m\u001b[01;34mopenbsd-src\u001b[0m/\r\n"
       ]
      }
     ],
     "prompt_number": 4
    },
    {
     "cell_type": "code",
     "collapsed": false,
     "input": [
      "!head commits"
     ],
     "language": "python",
     "metadata": {},
     "outputs": [
      {
       "output_type": "stream",
       "stream": "stdout",
       "text": [
        "2013-04-30 13:57:02 +0000, patrick\r\n",
        "2013-04-30 13:23:52 +0000, patrick\r\n",
        "2013-04-30 13:10:45 +0000, patrick\r\n",
        "2013-04-30 13:05:44 +0000, jmc\r\n",
        "2013-04-30 13:04:25 +0000, patrick\r\n",
        "2013-04-30 13:00:21 +0000, patrick\r\n",
        "2013-04-30 12:30:40 +0000, florian\r\n",
        "2013-04-30 12:29:04 +0000, florian\r\n",
        "2013-04-30 12:07:21 +0000, eric\r\n",
        "2013-04-30 12:02:39 +0000, eric\r\n"
       ]
      }
     ],
     "prompt_number": 5
    },
    {
     "cell_type": "heading",
     "level": 2,
     "metadata": {},
     "source": [
      "CSV einlesen sdf"
     ]
    },
    {
     "cell_type": "code",
     "collapsed": false,
     "input": [
      "import pandas as pd"
     ],
     "language": "python",
     "metadata": {},
     "outputs": [],
     "prompt_number": 6
    },
    {
     "cell_type": "code",
     "collapsed": false,
     "input": [
      "%time df=pd.read_csv(\"commits\", header=None, names=[\"time\", \"author\"])"
     ],
     "language": "python",
     "metadata": {},
     "outputs": [
      {
       "output_type": "stream",
       "stream": "stdout",
       "text": [
        "CPU times: user 0.39 s, sys: 0.04 s, total: 0.43 s\n",
        "Wall time: 0.43 s\n"
       ]
      }
     ],
     "prompt_number": 7
    },
    {
     "cell_type": "code",
     "collapsed": false,
     "input": [
      "df"
     ],
     "language": "python",
     "metadata": {},
     "outputs": [
      {
       "html": [
        "<pre>\n",
        "&ltclass 'pandas.core.frame.DataFrame'&gt\n",
        "Int64Index: 142758 entries, 0 to 142757\n",
        "Data columns (total 2 columns):\n",
        "time      142758  non-null values\n",
        "author    142758  non-null values\n",
        "dtypes: object(2)\n",
        "</pre>"
       ],
       "output_type": "pyout",
       "prompt_number": 8,
       "text": [
        "<class 'pandas.core.frame.DataFrame'>\n",
        "Int64Index: 142758 entries, 0 to 142757\n",
        "Data columns (total 2 columns):\n",
        "time      142758  non-null values\n",
        "author    142758  non-null values\n",
        "dtypes: object(2)"
       ]
      }
     ],
     "prompt_number": 8
    },
    {
     "cell_type": "markdown",
     "metadata": {},
     "source": [
      "Es gibt mehr als 142000 commits seit Oktober 1995."
     ]
    },
    {
     "cell_type": "code",
     "collapsed": false,
     "input": [
      "df.head()"
     ],
     "language": "python",
     "metadata": {},
     "outputs": [
      {
       "html": [
        "<div style=\"max-height:1000px;max-width:1500px;overflow:auto;\">\n",
        "<table border=\"1\" class=\"dataframe\">\n",
        "  <thead>\n",
        "    <tr style=\"text-align: right;\">\n",
        "      <th></th>\n",
        "      <th>time</th>\n",
        "      <th>author</th>\n",
        "    </tr>\n",
        "  </thead>\n",
        "  <tbody>\n",
        "    <tr>\n",
        "      <th>0</th>\n",
        "      <td> 2013-04-30 13:57:02 +0000</td>\n",
        "      <td>  patrick</td>\n",
        "    </tr>\n",
        "    <tr>\n",
        "      <th>1</th>\n",
        "      <td> 2013-04-30 13:23:52 +0000</td>\n",
        "      <td>  patrick</td>\n",
        "    </tr>\n",
        "    <tr>\n",
        "      <th>2</th>\n",
        "      <td> 2013-04-30 13:10:45 +0000</td>\n",
        "      <td>  patrick</td>\n",
        "    </tr>\n",
        "    <tr>\n",
        "      <th>3</th>\n",
        "      <td> 2013-04-30 13:05:44 +0000</td>\n",
        "      <td>      jmc</td>\n",
        "    </tr>\n",
        "    <tr>\n",
        "      <th>4</th>\n",
        "      <td> 2013-04-30 13:04:25 +0000</td>\n",
        "      <td>  patrick</td>\n",
        "    </tr>\n",
        "  </tbody>\n",
        "</table>\n",
        "</div>"
       ],
       "output_type": "pyout",
       "prompt_number": 9,
       "text": [
        "                        time    author\n",
        "0  2013-04-30 13:57:02 +0000   patrick\n",
        "1  2013-04-30 13:23:52 +0000   patrick\n",
        "2  2013-04-30 13:10:45 +0000   patrick\n",
        "3  2013-04-30 13:05:44 +0000       jmc\n",
        "4  2013-04-30 13:04:25 +0000   patrick"
       ]
      }
     ],
     "prompt_number": 9
    },
    {
     "cell_type": "heading",
     "level": 2,
     "metadata": {},
     "source": [
      "Autoren"
     ]
    },
    {
     "cell_type": "code",
     "collapsed": false,
     "input": [
      "df.author.value_counts()"
     ],
     "language": "python",
     "metadata": {},
     "outputs": [
      {
       "output_type": "pyout",
       "prompt_number": 10,
       "text": [
        " deraadt     20602\n",
        " miod         7559\n",
        " millert      7046\n",
        " jmc          6274\n",
        " mickey       5860\n",
        " espie        4561\n",
        " henning      3327\n",
        " brad         3321\n",
        " niklas       3039\n",
        " art          3012\n",
        " kettenis     2939\n",
        " jason        2732\n",
        " markus       2368\n",
        " claudio      2216\n",
        " krw          2108\n",
        "...\n",
        " hsuenaga    1\n",
        " rfreeman    1\n",
        " tomo        1\n",
        " gonzalo     1\n",
        " kristaps    1\n",
        " joey        1\n",
        " mhitch      1\n",
        " fgont       1\n",
        " ehrhardt    1\n",
        " tqbf        1\n",
        " yanick      1\n",
        " matt        1\n",
        " obecian     1\n",
        " tobiasu     1\n",
        " felix       1\n",
        "Length: 307, dtype: int64"
       ]
      }
     ],
     "prompt_number": 10
    },
    {
     "cell_type": "heading",
     "level": 1,
     "metadata": {},
     "source": [
      "Daten bereinigen"
     ]
    },
    {
     "cell_type": "markdown",
     "metadata": {},
     "source": [
      "In echte Zeiten konvertieren (dauert lange):"
     ]
    },
    {
     "cell_type": "code",
     "collapsed": false,
     "input": [
      "%time df.index = pd.to_datetime(df['time'])"
     ],
     "language": "python",
     "metadata": {},
     "outputs": [
      {
       "output_type": "stream",
       "stream": "stdout",
       "text": [
        "CPU times: user 69.55 s, sys: 1.32 s, total: 70.87 s\n",
        "Wall time: 70.18 s\n"
       ]
      }
     ],
     "prompt_number": 11
    },
    {
     "cell_type": "code",
     "collapsed": false,
     "input": [
      "df.tail()"
     ],
     "language": "python",
     "metadata": {},
     "outputs": [
      {
       "html": [
        "<div style=\"max-height:1000px;max-width:1500px;overflow:auto;\">\n",
        "<table border=\"1\" class=\"dataframe\">\n",
        "  <thead>\n",
        "    <tr style=\"text-align: right;\">\n",
        "      <th></th>\n",
        "      <th>time</th>\n",
        "      <th>author</th>\n",
        "    </tr>\n",
        "    <tr>\n",
        "      <th>time</th>\n",
        "      <th></th>\n",
        "      <th></th>\n",
        "    </tr>\n",
        "  </thead>\n",
        "  <tbody>\n",
        "    <tr>\n",
        "      <th>1995-10-18 08:43:09</th>\n",
        "      <td> 1995-10-18 08:43:09 +0000</td>\n",
        "      <td>  deraadt</td>\n",
        "    </tr>\n",
        "    <tr>\n",
        "      <th>1995-10-18 08:43:09</th>\n",
        "      <td> 1995-10-18 08:43:09 +0000</td>\n",
        "      <td>  deraadt</td>\n",
        "    </tr>\n",
        "    <tr>\n",
        "      <th>1995-10-18 08:38:49</th>\n",
        "      <td> 1995-10-18 08:38:49 +0000</td>\n",
        "      <td>  deraadt</td>\n",
        "    </tr>\n",
        "    <tr>\n",
        "      <th>1995-10-18 08:38:49</th>\n",
        "      <td> 1995-10-18 08:38:49 +0000</td>\n",
        "      <td>  deraadt</td>\n",
        "    </tr>\n",
        "    <tr>\n",
        "      <th>1995-10-18 08:53:39</th>\n",
        "      <td> 1995-10-18 08:53:39 +0000</td>\n",
        "      <td>  deraadt</td>\n",
        "    </tr>\n",
        "  </tbody>\n",
        "</table>\n",
        "</div>"
       ],
       "output_type": "pyout",
       "prompt_number": 12,
       "text": [
        "                                          time    author\n",
        "time                                                    \n",
        "1995-10-18 08:43:09  1995-10-18 08:43:09 +0000   deraadt\n",
        "1995-10-18 08:43:09  1995-10-18 08:43:09 +0000   deraadt\n",
        "1995-10-18 08:38:49  1995-10-18 08:38:49 +0000   deraadt\n",
        "1995-10-18 08:38:49  1995-10-18 08:38:49 +0000   deraadt\n",
        "1995-10-18 08:53:39  1995-10-18 08:53:39 +0000   deraadt"
       ]
      }
     ],
     "prompt_number": 12
    },
    {
     "cell_type": "code",
     "collapsed": false,
     "input": [
      "df.sort_index(inplace=True)"
     ],
     "language": "python",
     "metadata": {},
     "outputs": [],
     "prompt_number": 13
    },
    {
     "cell_type": "code",
     "collapsed": false,
     "input": [
      "df.tail()"
     ],
     "language": "python",
     "metadata": {},
     "outputs": [
      {
       "html": [
        "<div style=\"max-height:1000px;max-width:1500px;overflow:auto;\">\n",
        "<table border=\"1\" class=\"dataframe\">\n",
        "  <thead>\n",
        "    <tr style=\"text-align: right;\">\n",
        "      <th></th>\n",
        "      <th>time</th>\n",
        "      <th>author</th>\n",
        "    </tr>\n",
        "    <tr>\n",
        "      <th>time</th>\n",
        "      <th></th>\n",
        "      <th></th>\n",
        "    </tr>\n",
        "  </thead>\n",
        "  <tbody>\n",
        "    <tr>\n",
        "      <th>2013-04-30 13:04:25</th>\n",
        "      <td> 2013-04-30 13:04:25 +0000</td>\n",
        "      <td>  patrick</td>\n",
        "    </tr>\n",
        "    <tr>\n",
        "      <th>2013-04-30 13:05:44</th>\n",
        "      <td> 2013-04-30 13:05:44 +0000</td>\n",
        "      <td>      jmc</td>\n",
        "    </tr>\n",
        "    <tr>\n",
        "      <th>2013-04-30 13:10:45</th>\n",
        "      <td> 2013-04-30 13:10:45 +0000</td>\n",
        "      <td>  patrick</td>\n",
        "    </tr>\n",
        "    <tr>\n",
        "      <th>2013-04-30 13:23:52</th>\n",
        "      <td> 2013-04-30 13:23:52 +0000</td>\n",
        "      <td>  patrick</td>\n",
        "    </tr>\n",
        "    <tr>\n",
        "      <th>2013-04-30 13:57:02</th>\n",
        "      <td> 2013-04-30 13:57:02 +0000</td>\n",
        "      <td>  patrick</td>\n",
        "    </tr>\n",
        "  </tbody>\n",
        "</table>\n",
        "</div>"
       ],
       "output_type": "pyout",
       "prompt_number": 14,
       "text": [
        "                                          time    author\n",
        "time                                                    \n",
        "2013-04-30 13:04:25  2013-04-30 13:04:25 +0000   patrick\n",
        "2013-04-30 13:05:44  2013-04-30 13:05:44 +0000       jmc\n",
        "2013-04-30 13:10:45  2013-04-30 13:10:45 +0000   patrick\n",
        "2013-04-30 13:23:52  2013-04-30 13:23:52 +0000   patrick\n",
        "2013-04-30 13:57:02  2013-04-30 13:57:02 +0000   patrick"
       ]
      }
     ],
     "prompt_number": 14
    },
    {
     "cell_type": "code",
     "collapsed": false,
     "input": [
      "del df['time']"
     ],
     "language": "python",
     "metadata": {},
     "outputs": [],
     "prompt_number": 15
    },
    {
     "cell_type": "code",
     "collapsed": false,
     "input": [
      "df[\"c\"]=1"
     ],
     "language": "python",
     "metadata": {},
     "outputs": [],
     "prompt_number": 16
    },
    {
     "cell_type": "code",
     "collapsed": false,
     "input": [
      "df['author'][2343]"
     ],
     "language": "python",
     "metadata": {},
     "outputs": [
      {
       "output_type": "pyout",
       "prompt_number": 17,
       "text": [
        "' tholo'"
       ]
      }
     ],
     "prompt_number": 17
    },
    {
     "cell_type": "markdown",
     "metadata": {},
     "source": [
      "Leerzeichen am Anfang und Ende von Authorennamen entfernen:"
     ]
    },
    {
     "cell_type": "code",
     "collapsed": false,
     "input": [
      "df['author'] = df['author'].map(lambda x: x.strip())"
     ],
     "language": "python",
     "metadata": {},
     "outputs": [],
     "prompt_number": 18
    },
    {
     "cell_type": "code",
     "collapsed": false,
     "input": [
      "df.head()"
     ],
     "language": "python",
     "metadata": {},
     "outputs": [
      {
       "html": [
        "<div style=\"max-height:1000px;max-width:1500px;overflow:auto;\">\n",
        "<table border=\"1\" class=\"dataframe\">\n",
        "  <thead>\n",
        "    <tr style=\"text-align: right;\">\n",
        "      <th></th>\n",
        "      <th>author</th>\n",
        "      <th>c</th>\n",
        "    </tr>\n",
        "    <tr>\n",
        "      <th>time</th>\n",
        "      <th></th>\n",
        "      <th></th>\n",
        "    </tr>\n",
        "  </thead>\n",
        "  <tbody>\n",
        "    <tr>\n",
        "      <th>1995-10-18 08:38:49</th>\n",
        "      <td> deraadt</td>\n",
        "      <td> 1</td>\n",
        "    </tr>\n",
        "    <tr>\n",
        "      <th>1995-10-18 08:38:49</th>\n",
        "      <td> deraadt</td>\n",
        "      <td> 1</td>\n",
        "    </tr>\n",
        "    <tr>\n",
        "      <th>1995-10-18 08:43:09</th>\n",
        "      <td> deraadt</td>\n",
        "      <td> 1</td>\n",
        "    </tr>\n",
        "    <tr>\n",
        "      <th>1995-10-18 08:43:09</th>\n",
        "      <td> deraadt</td>\n",
        "      <td> 1</td>\n",
        "    </tr>\n",
        "    <tr>\n",
        "      <th>1995-10-18 08:43:49</th>\n",
        "      <td> deraadt</td>\n",
        "      <td> 1</td>\n",
        "    </tr>\n",
        "  </tbody>\n",
        "</table>\n",
        "</div>"
       ],
       "output_type": "pyout",
       "prompt_number": 19,
       "text": [
        "                      author  c\n",
        "time                           \n",
        "1995-10-18 08:38:49  deraadt  1\n",
        "1995-10-18 08:38:49  deraadt  1\n",
        "1995-10-18 08:43:09  deraadt  1\n",
        "1995-10-18 08:43:09  deraadt  1\n",
        "1995-10-18 08:43:49  deraadt  1"
       ]
      }
     ],
     "prompt_number": 19
    },
    {
     "cell_type": "heading",
     "level": 1,
     "metadata": {},
     "source": [
      "Commits pro Person"
     ]
    },
    {
     "cell_type": "code",
     "collapsed": false,
     "input": [
      "commits_per_person = df.author.value_counts()"
     ],
     "language": "python",
     "metadata": {},
     "outputs": [],
     "prompt_number": 20
    },
    {
     "cell_type": "code",
     "collapsed": false,
     "input": [
      "commits_per_person.describe()"
     ],
     "language": "python",
     "metadata": {},
     "outputs": [
      {
       "output_type": "pyout",
       "prompt_number": 21,
       "text": [
        "count      307.000000\n",
        "mean       465.009772\n",
        "std       1495.620881\n",
        "min          1.000000\n",
        "25%         13.000000\n",
        "50%         68.000000\n",
        "75%        350.000000\n",
        "max      20602.000000\n",
        "dtype: float64"
       ]
      }
     ],
     "prompt_number": 21
    },
    {
     "cell_type": "markdown",
     "metadata": {},
     "source": [
      "307 Committer? (zumindest 307 verschiedene Commit-Author Namen)"
     ]
    },
    {
     "cell_type": "heading",
     "level": 3,
     "metadata": {},
     "source": [
      "grafisch"
     ]
    },
    {
     "cell_type": "code",
     "collapsed": false,
     "input": [
      "%pylab inline"
     ],
     "language": "python",
     "metadata": {},
     "outputs": [
      {
       "output_type": "stream",
       "stream": "stdout",
       "text": [
        "\n",
        "Welcome to pylab, a matplotlib-based Python environment [backend: module://IPython.zmq.pylab.backend_inline].\n",
        "For more information, type 'help(pylab)'.\n"
       ]
      }
     ],
     "prompt_number": 22
    },
    {
     "cell_type": "markdown",
     "metadata": {},
     "source": [
      "Gr\u00f6\u00dfe der Grafik heraufsetzen:"
     ]
    },
    {
     "cell_type": "code",
     "collapsed": false,
     "input": [
      "import matplotlib.pyplot as plt\n",
      "plt.figsize(10,6)"
     ],
     "language": "python",
     "metadata": {},
     "outputs": [],
     "prompt_number": 23
    },
    {
     "cell_type": "code",
     "collapsed": false,
     "input": [
      "commits_per_person.plot()"
     ],
     "language": "python",
     "metadata": {},
     "outputs": [
      {
       "output_type": "pyout",
       "prompt_number": 24,
       "text": [
        "<matplotlib.axes.AxesSubplot at 0x1679a10>"
       ]
      },
      {
       "output_type": "display_data",
       "png": "[encoded data removed]"
      }
     ],
     "prompt_number": 24
    },
    {
     "cell_type": "code",
     "collapsed": false,
     "input": [
      "top30=commits_per_person[:30]\n",
      "top30"
     ],
     "language": "python",
     "metadata": {},
     "outputs": [
      {
       "output_type": "pyout",
       "prompt_number": 25,
       "text": [
        "deraadt     20602\n",
        "miod         7559\n",
        "millert      7046\n",
        "jmc          6274\n",
        "mickey       5860\n",
        "espie        4561\n",
        "henning      3327\n",
        "brad         3321\n",
        "niklas       3039\n",
        "art          3012\n",
        "kettenis     2939\n",
        "jason        2732\n",
        "markus       2368\n",
        "claudio      2216\n",
        "krw          2108\n",
        "dlg          2053\n",
        "drahn        1840\n",
        "jsg          1790\n",
        "angelos      1671\n",
        "aaron        1643\n",
        "nicm         1551\n",
        "otto         1550\n",
        "itojun       1520\n",
        "fgsch        1401\n",
        "damien       1349\n",
        "tedu         1306\n",
        "djm          1269\n",
        "reyk         1120\n",
        "downsj       1109\n",
        "schwarze     1069\n",
        "dtype: int64"
       ]
      }
     ],
     "prompt_number": 25
    },
    {
     "cell_type": "code",
     "collapsed": false,
     "input": [
      "top30.plot(kind=\"barh\")"
     ],
     "language": "python",
     "metadata": {},
     "outputs": [
      {
       "output_type": "pyout",
       "prompt_number": 26,
       "text": [
        "<matplotlib.axes.AxesSubplot at 0x52f3f90>"
       ]
      },
      {
       "output_type": "display_data",
       "png": "[encoded data removed]"
      }
     ],
     "prompt_number": 26
    },
    {
     "cell_type": "heading",
     "level": 3,
     "metadata": {},
     "source": [
      "Genuesen"
     ]
    },
    {
     "cell_type": "code",
     "collapsed": false,
     "input": [
      "commits_per_person['markus']"
     ],
     "language": "python",
     "metadata": {},
     "outputs": [
      {
       "output_type": "pyout",
       "prompt_number": 27,
       "text": [
        "2368"
       ]
      }
     ],
     "prompt_number": 27
    },
    {
     "cell_type": "code",
     "collapsed": false,
     "input": [
      "genuesen = [\"markus\", \"bluhm\", \"mpf\", \"hshoexer\", \"grunk\"]\n",
      "genu_commits = commits_per_person.ix[genuesen]\n",
      "genu_commits"
     ],
     "language": "python",
     "metadata": {},
     "outputs": [
      {
       "output_type": "pyout",
       "prompt_number": 28,
       "text": [
        "markus      2368\n",
        "bluhm        338\n",
        "mpf          252\n",
        "hshoexer     591\n",
        "grunk         83\n",
        "dtype: int64"
       ]
      }
     ],
     "prompt_number": 28
    },
    {
     "cell_type": "code",
     "collapsed": false,
     "input": [
      "bluhm = df[df.author == \"bluhm\"]"
     ],
     "language": "python",
     "metadata": {},
     "outputs": [],
     "prompt_number": 29
    },
    {
     "cell_type": "code",
     "collapsed": false,
     "input": [
      "mpf = df[df.author == \"mpf\"]"
     ],
     "language": "python",
     "metadata": {},
     "outputs": [],
     "prompt_number": 30
    },
    {
     "cell_type": "code",
     "collapsed": false,
     "input": [
      "bluhm.c.cumsum().plot(style=\"r\", label=\"bluhm\")\n",
      "mpf.c.cumsum().plot(style=\"--\", label=\"mpf\")\n",
      "title(\"mpf vs. bluhm\")\n",
      "legend(loc=\"best\")"
     ],
     "language": "python",
     "metadata": {},
     "outputs": [
      {
       "output_type": "pyout",
       "prompt_number": 31,
       "text": [
        "<matplotlib.legend.Legend at 0x552ded0>"
       ]
      },
      {
       "output_type": "display_data",
       "png": "[encoded data removed]"
      }
     ],
     "prompt_number": 31
    },
    {
     "cell_type": "code",
     "collapsed": false,
     "input": [
      "markus = df[df.author == \"markus\"]\n",
      "hshoexer = df[df.author == \"hshoexer\"]\n",
      "grunk = df[df.author == \"grunk\"]"
     ],
     "language": "python",
     "metadata": {},
     "outputs": [],
     "prompt_number": 32
    },
    {
     "cell_type": "code",
     "collapsed": false,
     "input": [
      "bluhm.c.cumsum().plot(style=\"r.\", label=\"bluhm\", alpha=0.2)\n",
      "mpf.c.cumsum().plot(style=\"--.\", label=\"mpf\", alpha=0.2)\n",
      "\n",
      "hshoexer.c.cumsum().plot(style=\"g-..\", label=\"hshoexer\")\n",
      "grunk.c.cumsum().plot(style=\"m--.\", label=\"grunk\")\n",
      "markus.c.cumsum().plot(style='k:.', label=\"markus\", alpha=0.2)\n",
      "legend(loc=0)\n",
      "savefig(\"genucommits.pdf\")"
     ],
     "language": "python",
     "metadata": {},
     "outputs": [
      {
       "output_type": "display_data",
       "png": "[encoded data removed]"
      }
     ],
     "prompt_number": 33
    },
    {
     "cell_type": "heading",
     "level": 3,
     "metadata": {},
     "source": [
      "Die ersten Commits"
     ]
    },
    {
     "cell_type": "code",
     "collapsed": false,
     "input": [
      "bluhm.head(1)"
     ],
     "language": "python",
     "metadata": {},
     "outputs": [
      {
       "html": [
        "<div style=\"max-height:1000px;max-width:1500px;overflow:auto;\">\n",
        "<table border=\"1\" class=\"dataframe\">\n",
        "  <thead>\n",
        "    <tr style=\"text-align: right;\">\n",
        "      <th></th>\n",
        "      <th>author</th>\n",
        "      <th>c</th>\n",
        "    </tr>\n",
        "    <tr>\n",
        "      <th>time</th>\n",
        "      <th></th>\n",
        "      <th></th>\n",
        "    </tr>\n",
        "  </thead>\n",
        "  <tbody>\n",
        "    <tr>\n",
        "      <th>2007-01-24 13:24:58</th>\n",
        "      <td> bluhm</td>\n",
        "      <td> 1</td>\n",
        "    </tr>\n",
        "  </tbody>\n",
        "</table>\n",
        "</div>"
       ],
       "output_type": "pyout",
       "prompt_number": 34,
       "text": [
        "                    author  c\n",
        "time                         \n",
        "2007-01-24 13:24:58  bluhm  1"
       ]
      }
     ],
     "prompt_number": 34
    },
    {
     "cell_type": "code",
     "collapsed": false,
     "input": [
      "mpf.head(1)"
     ],
     "language": "python",
     "metadata": {},
     "outputs": [
      {
       "html": [
        "<div style=\"max-height:1000px;max-width:1500px;overflow:auto;\">\n",
        "<table border=\"1\" class=\"dataframe\">\n",
        "  <thead>\n",
        "    <tr style=\"text-align: right;\">\n",
        "      <th></th>\n",
        "      <th>author</th>\n",
        "      <th>c</th>\n",
        "    </tr>\n",
        "    <tr>\n",
        "      <th>time</th>\n",
        "      <th></th>\n",
        "      <th></th>\n",
        "    </tr>\n",
        "  </thead>\n",
        "  <tbody>\n",
        "    <tr>\n",
        "      <th>2004-01-05 23:53:24</th>\n",
        "      <td> mpf</td>\n",
        "      <td> 1</td>\n",
        "    </tr>\n",
        "  </tbody>\n",
        "</table>\n",
        "</div>"
       ],
       "output_type": "pyout",
       "prompt_number": 35,
       "text": [
        "                    author  c\n",
        "time                         \n",
        "2004-01-05 23:53:24    mpf  1"
       ]
      }
     ],
     "prompt_number": 35
    },
    {
     "cell_type": "code",
     "collapsed": false,
     "input": [
      "markus.head(1)"
     ],
     "language": "python",
     "metadata": {},
     "outputs": [
      {
       "html": [
        "<div style=\"max-height:1000px;max-width:1500px;overflow:auto;\">\n",
        "<table border=\"1\" class=\"dataframe\">\n",
        "  <thead>\n",
        "    <tr style=\"text-align: right;\">\n",
        "      <th></th>\n",
        "      <th>author</th>\n",
        "      <th>c</th>\n",
        "    </tr>\n",
        "    <tr>\n",
        "      <th>time</th>\n",
        "      <th></th>\n",
        "      <th></th>\n",
        "    </tr>\n",
        "  </thead>\n",
        "  <tbody>\n",
        "    <tr>\n",
        "      <th>1999-10-03 19:17:40</th>\n",
        "      <td> markus</td>\n",
        "      <td> 1</td>\n",
        "    </tr>\n",
        "  </tbody>\n",
        "</table>\n",
        "</div>"
       ],
       "output_type": "pyout",
       "prompt_number": 36,
       "text": [
        "                     author  c\n",
        "time                          \n",
        "1999-10-03 19:17:40  markus  1"
       ]
      }
     ],
     "prompt_number": 36
    },
    {
     "cell_type": "heading",
     "level": 3,
     "metadata": {},
     "source": [
      "Die letzten Commits"
     ]
    },
    {
     "cell_type": "code",
     "collapsed": false,
     "input": [
      "hshoexer.tail(1)"
     ],
     "language": "python",
     "metadata": {},
     "outputs": [
      {
       "html": [
        "<div style=\"max-height:1000px;max-width:1500px;overflow:auto;\">\n",
        "<table border=\"1\" class=\"dataframe\">\n",
        "  <thead>\n",
        "    <tr style=\"text-align: right;\">\n",
        "      <th></th>\n",
        "      <th>author</th>\n",
        "      <th>c</th>\n",
        "    </tr>\n",
        "    <tr>\n",
        "      <th>time</th>\n",
        "      <th></th>\n",
        "      <th></th>\n",
        "    </tr>\n",
        "  </thead>\n",
        "  <tbody>\n",
        "    <tr>\n",
        "      <th>2009-01-29 10:05:50</th>\n",
        "      <td> hshoexer</td>\n",
        "      <td> 1</td>\n",
        "    </tr>\n",
        "  </tbody>\n",
        "</table>\n",
        "</div>"
       ],
       "output_type": "pyout",
       "prompt_number": 37,
       "text": [
        "                       author  c\n",
        "time                            \n",
        "2009-01-29 10:05:50  hshoexer  1"
       ]
      }
     ],
     "prompt_number": 37
    },
    {
     "cell_type": "code",
     "collapsed": false,
     "input": [
      "grunk.tail(1)"
     ],
     "language": "python",
     "metadata": {},
     "outputs": [
      {
       "html": [
        "<div style=\"max-height:1000px;max-width:1500px;overflow:auto;\">\n",
        "<table border=\"1\" class=\"dataframe\">\n",
        "  <thead>\n",
        "    <tr style=\"text-align: right;\">\n",
        "      <th></th>\n",
        "      <th>author</th>\n",
        "      <th>c</th>\n",
        "    </tr>\n",
        "    <tr>\n",
        "      <th>time</th>\n",
        "      <th></th>\n",
        "      <th></th>\n",
        "    </tr>\n",
        "  </thead>\n",
        "  <tbody>\n",
        "    <tr>\n",
        "      <th>2009-10-01 11:37:33</th>\n",
        "      <td> grunk</td>\n",
        "      <td> 1</td>\n",
        "    </tr>\n",
        "  </tbody>\n",
        "</table>\n",
        "</div>"
       ],
       "output_type": "pyout",
       "prompt_number": 38,
       "text": [
        "                    author  c\n",
        "time                         \n",
        "2009-10-01 11:37:33  grunk  1"
       ]
      }
     ],
     "prompt_number": 38
    },
    {
     "cell_type": "heading",
     "level": 3,
     "metadata": {},
     "source": [
      "Commits 2013"
     ]
    },
    {
     "cell_type": "code",
     "collapsed": true,
     "input": [
      "df.ix['2013']"
     ],
     "language": "python",
     "metadata": {},
     "outputs": [
      {
       "html": [
        "<pre>\n",
        "&ltclass 'pandas.core.frame.DataFrame'&gt\n",
        "DatetimeIndex: 2208 entries, 2013-01-01 00:02:01 to 2013-04-30 13:57:02\n",
        "Data columns (total 2 columns):\n",
        "author    2208  non-null values\n",
        "c         2208  non-null values\n",
        "dtypes: int64(1), object(1)\n",
        "</pre>"
       ],
       "output_type": "pyout",
       "prompt_number": 39,
       "text": [
        "<class 'pandas.core.frame.DataFrame'>\n",
        "DatetimeIndex: 2208 entries, 2013-01-01 00:02:01 to 2013-04-30 13:57:02\n",
        "Data columns (total 2 columns):\n",
        "author    2208  non-null values\n",
        "c         2208  non-null values\n",
        "dtypes: int64(1), object(1)"
       ]
      }
     ],
     "prompt_number": 39
    },
    {
     "cell_type": "heading",
     "level": 2,
     "metadata": {},
     "source": [
      "Commits \u00fcber die Zeit"
     ]
    },
    {
     "cell_type": "code",
     "collapsed": false,
     "input": [
      "df.c.cumsum().plot()"
     ],
     "language": "python",
     "metadata": {},
     "outputs": [
      {
       "output_type": "pyout",
       "prompt_number": 40,
       "text": [
        "<matplotlib.axes.AxesSubplot at 0x5986890>"
       ]
      },
      {
       "output_type": "display_data",
       "png": "[encoded data removed]"
      }
     ],
     "prompt_number": 40
    },
    {
     "cell_type": "markdown",
     "metadata": {},
     "source": [
      "Recht stetiges Wachstum. Wird aber langsamer. Hmm...??"
     ]
    },
    {
     "cell_type": "heading",
     "level": 3,
     "metadata": {},
     "source": [
      "Peak OpenBSD?"
     ]
    },
    {
     "cell_type": "code",
     "collapsed": false,
     "input": [
      "cmon=df.resample(\"M\", how=\"sum\").c.cumsum()"
     ],
     "language": "python",
     "metadata": {},
     "outputs": [],
     "prompt_number": 41
    },
    {
     "cell_type": "code",
     "collapsed": false,
     "input": [
      "y=cmon.values\n",
      "y"
     ],
     "language": "python",
     "metadata": {},
     "outputs": [
      {
       "output_type": "pyout",
       "prompt_number": 42,
       "text": [
        "array([   196,    394,    799,   1126,   1346,   1533,   1717,   2333,\n",
        "         2927,   3335,   4039,   4735,   5330,   5652,   6147,   6673,\n",
        "         7358,   7750,   8560,   9297,   9932,  10709,  11221,  11802,\n",
        "        12294,  12741,  13141,  13417,  13852,  14484,  14816,  15259,\n",
        "        15621,  16203,  16686,  17279,  17585,  18047,  18438,  18854,\n",
        "        19585,  20143,  20553,  21058,  21493,  22162,  22726,  23338,\n",
        "        23865,  24392,  25050,  25898,  26408,  27032,  27949,  28426,\n",
        "        29173,  29757,  30220,  30767,  31434,  31930,  32382,  33241,\n",
        "        34017,  34937,  35577,  36533,  38236,  39212,  40442,  41478,\n",
        "        42122,  42838,  43539,  44341,  45358,  46182,  46972,  47909,\n",
        "        49421,  50387,  50882,  51505,  52007,  52619,  53370,  54163,\n",
        "        54931,  55779,  56657,  57733,  58839,  59647,  60389,  60960,\n",
        "        61640,  62143,  62986,  64162,  65225,  65917,  66718,  67519,\n",
        "        68404,  69346,  70226,  71031,  71647,  72483,  73487,  74358,\n",
        "        74941,  76016,  77245,  78447,  79155,  80005,  80827,  81584,\n",
        "        82619,  83757,  84943,  85879,  86559,  87673,  88622,  89883,\n",
        "        91002,  91834,  92737,  93233,  94028,  95103,  95887,  96582,\n",
        "        97511,  98444,  99362, 100740, 101582, 102054, 102470, 103309,\n",
        "       104166, 105154, 105726, 106269, 106742, 107278, 107791, 108603,\n",
        "       109685, 110339, 110897, 111336, 111906, 112698, 113396, 114075,\n",
        "       114624, 115236, 115970, 116685, 117807, 118466, 119210, 119672,\n",
        "       120410, 121375, 122024, 122700, 123310, 123819, 124533, 125124,\n",
        "       126019, 127017, 127556, 128249, 128767, 129158, 129603, 130165,\n",
        "       130300, 130706, 131552, 132037, 132555, 133557, 133780, 134245,\n",
        "       134582, 134995, 135294, 135748, 135950, 136323, 136820, 137161,\n",
        "       137500, 138145, 138737, 139254, 139748, 140222, 140550, 141060,\n",
        "       141355, 142187, 142758])"
       ]
      }
     ],
     "prompt_number": 42
    },
    {
     "cell_type": "code",
     "collapsed": false,
     "input": [
      "x=arange(cmon.size)\n",
      "x"
     ],
     "language": "python",
     "metadata": {},
     "outputs": [
      {
       "output_type": "pyout",
       "prompt_number": 43,
       "text": [
        "array([  0,   1,   2,   3,   4,   5,   6,   7,   8,   9,  10,  11,  12,\n",
        "        13,  14,  15,  16,  17,  18,  19,  20,  21,  22,  23,  24,  25,\n",
        "        26,  27,  28,  29,  30,  31,  32,  33,  34,  35,  36,  37,  38,\n",
        "        39,  40,  41,  42,  43,  44,  45,  46,  47,  48,  49,  50,  51,\n",
        "        52,  53,  54,  55,  56,  57,  58,  59,  60,  61,  62,  63,  64,\n",
        "        65,  66,  67,  68,  69,  70,  71,  72,  73,  74,  75,  76,  77,\n",
        "        78,  79,  80,  81,  82,  83,  84,  85,  86,  87,  88,  89,  90,\n",
        "        91,  92,  93,  94,  95,  96,  97,  98,  99, 100, 101, 102, 103,\n",
        "       104, 105, 106, 107, 108, 109, 110, 111, 112, 113, 114, 115, 116,\n",
        "       117, 118, 119, 120, 121, 122, 123, 124, 125, 126, 127, 128, 129,\n",
        "       130, 131, 132, 133, 134, 135, 136, 137, 138, 139, 140, 141, 142,\n",
        "       143, 144, 145, 146, 147, 148, 149, 150, 151, 152, 153, 154, 155,\n",
        "       156, 157, 158, 159, 160, 161, 162, 163, 164, 165, 166, 167, 168,\n",
        "       169, 170, 171, 172, 173, 174, 175, 176, 177, 178, 179, 180, 181,\n",
        "       182, 183, 184, 185, 186, 187, 188, 189, 190, 191, 192, 193, 194,\n",
        "       195, 196, 197, 198, 199, 200, 201, 202, 203, 204, 205, 206, 207,\n",
        "       208, 209, 210])"
       ]
      }
     ],
     "prompt_number": 43
    },
    {
     "cell_type": "code",
     "collapsed": false,
     "input": [
      "p=np.polyfit(x,y, 3)\n",
      "p"
     ],
     "language": "python",
     "metadata": {},
     "outputs": [
      {
       "output_type": "pyout",
       "prompt_number": 44,
       "text": [
        "array([ -1.87535016e-02,   6.07155155e+00,   2.17719734e+02,\n",
        "         1.83929708e+03])"
       ]
      }
     ],
     "prompt_number": 44
    },
    {
     "cell_type": "code",
     "collapsed": false,
     "input": [
      "x1=arange(300)"
     ],
     "language": "python",
     "metadata": {},
     "outputs": [],
     "prompt_number": 45
    },
    {
     "cell_type": "code",
     "collapsed": false,
     "input": [
      "plot(x,y)\n",
      "plot(x1,np.polyval(p,x1), \"r\")\n",
      "xlabel(\"months\")"
     ],
     "language": "python",
     "metadata": {},
     "outputs": [
      {
       "output_type": "pyout",
       "prompt_number": 46,
       "text": [
        "<matplotlib.text.Text at 0x5ef8210>"
       ]
      },
      {
       "output_type": "display_data",
       "png": "[encoded data removed]"
      }
     ],
     "prompt_number": 46
    },
    {
     "cell_type": "code",
     "collapsed": false,
     "input": [
      "np.polyval(p,x1).max() "
     ],
     "language": "python",
     "metadata": {},
     "outputs": [
      {
       "output_type": "pyout",
       "prompt_number": 47,
       "text": [
        "144967.34021697595"
       ]
      }
     ],
     "prompt_number": 47
    },
    {
     "cell_type": "code",
     "collapsed": false,
     "input": [
      "y.max()"
     ],
     "language": "python",
     "metadata": {},
     "outputs": [
      {
       "output_type": "pyout",
       "prompt_number": 48,
       "text": [
        "142758"
       ]
      }
     ],
     "prompt_number": 48
    },
    {
     "cell_type": "code",
     "collapsed": false,
     "input": [
      "pd.Series(np.polyval(p,x1)).idxmax()"
     ],
     "language": "python",
     "metadata": {},
     "outputs": [
      {
       "output_type": "pyout",
       "prompt_number": 49,
       "text": [
        "232"
       ]
      }
     ],
     "prompt_number": 49
    },
    {
     "cell_type": "code",
     "collapsed": false,
     "input": [
      "pd.Series(x).idxmax()"
     ],
     "language": "python",
     "metadata": {},
     "outputs": [
      {
       "output_type": "pyout",
       "prompt_number": 50,
       "text": [
        "210"
       ]
      }
     ],
     "prompt_number": 50
    },
    {
     "cell_type": "heading",
     "level": 2,
     "metadata": {},
     "source": [
      "Commits pro Tag"
     ]
    },
    {
     "cell_type": "code",
     "collapsed": false,
     "input": [
      "per_day=df.resample(\"D\", how=\"sum\")"
     ],
     "language": "python",
     "metadata": {},
     "outputs": [],
     "prompt_number": 51
    },
    {
     "cell_type": "code",
     "collapsed": false,
     "input": [
      "per_day.head()"
     ],
     "language": "python",
     "metadata": {},
     "outputs": [
      {
       "html": [
        "<div style=\"max-height:1000px;max-width:1500px;overflow:auto;\">\n",
        "<table border=\"1\" class=\"dataframe\">\n",
        "  <thead>\n",
        "    <tr style=\"text-align: right;\">\n",
        "      <th></th>\n",
        "      <th>c</th>\n",
        "    </tr>\n",
        "    <tr>\n",
        "      <th>time</th>\n",
        "      <th></th>\n",
        "    </tr>\n",
        "  </thead>\n",
        "  <tbody>\n",
        "    <tr>\n",
        "      <th>1995-10-18</th>\n",
        "      <td> 52</td>\n",
        "    </tr>\n",
        "    <tr>\n",
        "      <th>1995-10-19</th>\n",
        "      <td> 16</td>\n",
        "    </tr>\n",
        "    <tr>\n",
        "      <th>1995-10-20</th>\n",
        "      <td>  4</td>\n",
        "    </tr>\n",
        "    <tr>\n",
        "      <th>1995-10-21</th>\n",
        "      <td>  8</td>\n",
        "    </tr>\n",
        "    <tr>\n",
        "      <th>1995-10-22</th>\n",
        "      <td> 14</td>\n",
        "    </tr>\n",
        "  </tbody>\n",
        "</table>\n",
        "</div>"
       ],
       "output_type": "pyout",
       "prompt_number": 52,
       "text": [
        "             c\n",
        "time          \n",
        "1995-10-18  52\n",
        "1995-10-19  16\n",
        "1995-10-20   4\n",
        "1995-10-21   8\n",
        "1995-10-22  14"
       ]
      }
     ],
     "prompt_number": 52
    },
    {
     "cell_type": "heading",
     "level": 4,
     "metadata": {},
     "source": [
      "Der produktivste Tag"
     ]
    },
    {
     "cell_type": "code",
     "collapsed": false,
     "input": [
      "per_day.c.max()"
     ],
     "language": "python",
     "metadata": {},
     "outputs": [
      {
       "output_type": "pyout",
       "prompt_number": 53,
       "text": [
        "221.0"
       ]
      }
     ],
     "prompt_number": 53
    },
    {
     "cell_type": "code",
     "collapsed": false,
     "input": [
      "per_day.c.idxmax()"
     ],
     "language": "python",
     "metadata": {},
     "outputs": [
      {
       "output_type": "pyout",
       "prompt_number": 54,
       "text": [
        "<Timestamp: 2001-06-25 00:00:00>"
       ]
      }
     ],
     "prompt_number": 54
    },
    {
     "cell_type": "code",
     "collapsed": false,
     "input": [
      "df.ix[\"2001-06-25\"]"
     ],
     "language": "python",
     "metadata": {},
     "outputs": [
      {
       "html": [
        "<pre>\n",
        "&ltclass 'pandas.core.frame.DataFrame'&gt\n",
        "DatetimeIndex: 221 entries, 2001-06-25 00:00:44 to 2001-06-25 23:49:28\n",
        "Data columns (total 2 columns):\n",
        "author    221  non-null values\n",
        "c         221  non-null values\n",
        "dtypes: int64(1), object(1)\n",
        "</pre>"
       ],
       "output_type": "pyout",
       "prompt_number": 55,
       "text": [
        "<class 'pandas.core.frame.DataFrame'>\n",
        "DatetimeIndex: 221 entries, 2001-06-25 00:00:44 to 2001-06-25 23:49:28\n",
        "Data columns (total 2 columns):\n",
        "author    221  non-null values\n",
        "c         221  non-null values\n",
        "dtypes: int64(1), object(1)"
       ]
      }
     ],
     "prompt_number": 55
    },
    {
     "cell_type": "code",
     "collapsed": false,
     "input": [
      "per_month=df.resample(\"M\", how=\"sum\")\n",
      "per_month.max()"
     ],
     "language": "python",
     "metadata": {},
     "outputs": [
      {
       "output_type": "pyout",
       "prompt_number": 56,
       "text": [
        "c    1703\n",
        "dtype: int64"
       ]
      }
     ],
     "prompt_number": 56
    },
    {
     "cell_type": "code",
     "collapsed": false,
     "input": [
      "per_month.idxmax()"
     ],
     "language": "python",
     "metadata": {},
     "outputs": [
      {
       "output_type": "pyout",
       "prompt_number": 57,
       "text": [
        "c   2001-06-30 00:00:00\n",
        "dtype: datetime64[ns]"
       ]
      }
     ],
     "prompt_number": 57
    },
    {
     "cell_type": "markdown",
     "metadata": {},
     "source": [
      "Die meisten Commits gab es im Juni 2001: 1699 St\u00fcck"
     ]
    },
    {
     "cell_type": "code",
     "collapsed": false,
     "input": [
      "per_month.c.describe()"
     ],
     "language": "python",
     "metadata": {},
     "outputs": [
      {
       "output_type": "pyout",
       "prompt_number": 58,
       "text": [
        "count     211.000000\n",
        "mean      676.578199\n",
        "std       261.998541\n",
        "min       135.000000\n",
        "25%       495.000000\n",
        "50%       645.000000\n",
        "75%       840.500000\n",
        "max      1703.000000\n",
        "dtype: float64"
       ]
      }
     ],
     "prompt_number": 58
    },
    {
     "cell_type": "markdown",
     "metadata": {},
     "source": [
      "Die Anzahl der Commits schwankt stark."
     ]
    },
    {
     "cell_type": "code",
     "collapsed": false,
     "input": [
      "per_month.c.plot()"
     ],
     "language": "python",
     "metadata": {},
     "outputs": [
      {
       "output_type": "pyout",
       "prompt_number": 59,
       "text": [
        "<matplotlib.axes.AxesSubplot at 0x688fb50>"
       ]
      },
      {
       "output_type": "display_data",
       "png": "[encoded data removed]"
      }
     ],
     "prompt_number": 59
    },
    {
     "cell_type": "code",
     "collapsed": false,
     "input": [
      "pd.rolling_mean(per_month.c, 15).plot()"
     ],
     "language": "python",
     "metadata": {},
     "outputs": [
      {
       "output_type": "pyout",
       "prompt_number": 60,
       "text": [
        "<matplotlib.axes.AxesSubplot at 0x6eb2490>"
       ]
      },
      {
       "output_type": "display_data",
       "png": "[encoded data removed]"
      }
     ],
     "prompt_number": 60
    },
    {
     "cell_type": "heading",
     "level": 2,
     "metadata": {},
     "source": [
      "Wann wird typischerweise committet (Wochentag, Uhrzeit)?"
     ]
    },
    {
     "cell_type": "markdown",
     "metadata": {},
     "source": [
      "Neue Spalte erzeugen mit dem Zeitstempel, denn der Index l\u00e4sst sich nicht so gut auswerten."
     ]
    },
    {
     "cell_type": "code",
     "collapsed": false,
     "input": [
      "df[\"datetime\"]=df.index\n",
      "df.head()"
     ],
     "language": "python",
     "metadata": {},
     "outputs": [
      {
       "html": [
        "<div style=\"max-height:1000px;max-width:1500px;overflow:auto;\">\n",
        "<table border=\"1\" class=\"dataframe\">\n",
        "  <thead>\n",
        "    <tr style=\"text-align: right;\">\n",
        "      <th></th>\n",
        "      <th>author</th>\n",
        "      <th>c</th>\n",
        "      <th>datetime</th>\n",
        "    </tr>\n",
        "    <tr>\n",
        "      <th>time</th>\n",
        "      <th></th>\n",
        "      <th></th>\n",
        "      <th></th>\n",
        "    </tr>\n",
        "  </thead>\n",
        "  <tbody>\n",
        "    <tr>\n",
        "      <th>1995-10-18 08:38:49</th>\n",
        "      <td> deraadt</td>\n",
        "      <td> 1</td>\n",
        "      <td>1995-10-18 08:38:49</td>\n",
        "    </tr>\n",
        "    <tr>\n",
        "      <th>1995-10-18 08:38:49</th>\n",
        "      <td> deraadt</td>\n",
        "      <td> 1</td>\n",
        "      <td>1995-10-18 08:38:49</td>\n",
        "    </tr>\n",
        "    <tr>\n",
        "      <th>1995-10-18 08:43:09</th>\n",
        "      <td> deraadt</td>\n",
        "      <td> 1</td>\n",
        "      <td>1995-10-18 08:43:09</td>\n",
        "    </tr>\n",
        "    <tr>\n",
        "      <th>1995-10-18 08:43:09</th>\n",
        "      <td> deraadt</td>\n",
        "      <td> 1</td>\n",
        "      <td>1995-10-18 08:43:09</td>\n",
        "    </tr>\n",
        "    <tr>\n",
        "      <th>1995-10-18 08:43:49</th>\n",
        "      <td> deraadt</td>\n",
        "      <td> 1</td>\n",
        "      <td>1995-10-18 08:43:49</td>\n",
        "    </tr>\n",
        "  </tbody>\n",
        "</table>\n",
        "</div>"
       ],
       "output_type": "pyout",
       "prompt_number": 61,
       "text": [
        "                      author  c            datetime\n",
        "time                                               \n",
        "1995-10-18 08:38:49  deraadt  1 1995-10-18 08:38:49\n",
        "1995-10-18 08:38:49  deraadt  1 1995-10-18 08:38:49\n",
        "1995-10-18 08:43:09  deraadt  1 1995-10-18 08:43:09\n",
        "1995-10-18 08:43:09  deraadt  1 1995-10-18 08:43:09\n",
        "1995-10-18 08:43:49  deraadt  1 1995-10-18 08:43:49"
       ]
      }
     ],
     "prompt_number": 61
    },
    {
     "cell_type": "code",
     "collapsed": false,
     "input": [
      "df['weekday'] = df['datetime'].apply(lambda x: x.isoweekday())"
     ],
     "language": "python",
     "metadata": {},
     "outputs": [],
     "prompt_number": 62
    },
    {
     "cell_type": "markdown",
     "metadata": {},
     "source": [
      "Montag = 1, Sonntag = 7"
     ]
    },
    {
     "cell_type": "code",
     "collapsed": false,
     "input": [
      "df.head()"
     ],
     "language": "python",
     "metadata": {},
     "outputs": [
      {
       "html": [
        "<div style=\"max-height:1000px;max-width:1500px;overflow:auto;\">\n",
        "<table border=\"1\" class=\"dataframe\">\n",
        "  <thead>\n",
        "    <tr style=\"text-align: right;\">\n",
        "      <th></th>\n",
        "      <th>author</th>\n",
        "      <th>c</th>\n",
        "      <th>datetime</th>\n",
        "      <th>weekday</th>\n",
        "    </tr>\n",
        "    <tr>\n",
        "      <th>time</th>\n",
        "      <th></th>\n",
        "      <th></th>\n",
        "      <th></th>\n",
        "      <th></th>\n",
        "    </tr>\n",
        "  </thead>\n",
        "  <tbody>\n",
        "    <tr>\n",
        "      <th>1995-10-18 08:38:49</th>\n",
        "      <td> deraadt</td>\n",
        "      <td> 1</td>\n",
        "      <td>1995-10-18 08:38:49</td>\n",
        "      <td> 3</td>\n",
        "    </tr>\n",
        "    <tr>\n",
        "      <th>1995-10-18 08:38:49</th>\n",
        "      <td> deraadt</td>\n",
        "      <td> 1</td>\n",
        "      <td>1995-10-18 08:38:49</td>\n",
        "      <td> 3</td>\n",
        "    </tr>\n",
        "    <tr>\n",
        "      <th>1995-10-18 08:43:09</th>\n",
        "      <td> deraadt</td>\n",
        "      <td> 1</td>\n",
        "      <td>1995-10-18 08:43:09</td>\n",
        "      <td> 3</td>\n",
        "    </tr>\n",
        "    <tr>\n",
        "      <th>1995-10-18 08:43:09</th>\n",
        "      <td> deraadt</td>\n",
        "      <td> 1</td>\n",
        "      <td>1995-10-18 08:43:09</td>\n",
        "      <td> 3</td>\n",
        "    </tr>\n",
        "    <tr>\n",
        "      <th>1995-10-18 08:43:49</th>\n",
        "      <td> deraadt</td>\n",
        "      <td> 1</td>\n",
        "      <td>1995-10-18 08:43:49</td>\n",
        "      <td> 3</td>\n",
        "    </tr>\n",
        "  </tbody>\n",
        "</table>\n",
        "</div>"
       ],
       "output_type": "pyout",
       "prompt_number": 63,
       "text": [
        "                      author  c            datetime  weekday\n",
        "time                                                        \n",
        "1995-10-18 08:38:49  deraadt  1 1995-10-18 08:38:49        3\n",
        "1995-10-18 08:38:49  deraadt  1 1995-10-18 08:38:49        3\n",
        "1995-10-18 08:43:09  deraadt  1 1995-10-18 08:43:09        3\n",
        "1995-10-18 08:43:09  deraadt  1 1995-10-18 08:43:09        3\n",
        "1995-10-18 08:43:49  deraadt  1 1995-10-18 08:43:49        3"
       ]
      }
     ],
     "prompt_number": 63
    },
    {
     "cell_type": "code",
     "collapsed": false,
     "input": [
      "wd=df.ix[:,[\"c\",\"weekday\"]]"
     ],
     "language": "python",
     "metadata": {},
     "outputs": [],
     "prompt_number": 64
    },
    {
     "cell_type": "code",
     "collapsed": false,
     "input": [
      "per_weekday=wd.groupby(\"weekday\")"
     ],
     "language": "python",
     "metadata": {},
     "outputs": [],
     "prompt_number": 65
    },
    {
     "cell_type": "code",
     "collapsed": false,
     "input": [
      "per_weekday.sum()"
     ],
     "language": "python",
     "metadata": {},
     "outputs": [
      {
       "html": [
        "<div style=\"max-height:1000px;max-width:1500px;overflow:auto;\">\n",
        "<table border=\"1\" class=\"dataframe\">\n",
        "  <thead>\n",
        "    <tr style=\"text-align: right;\">\n",
        "      <th></th>\n",
        "      <th>c</th>\n",
        "    </tr>\n",
        "    <tr>\n",
        "      <th>weekday</th>\n",
        "      <th></th>\n",
        "    </tr>\n",
        "  </thead>\n",
        "  <tbody>\n",
        "    <tr>\n",
        "      <th>1</th>\n",
        "      <td> 22131</td>\n",
        "    </tr>\n",
        "    <tr>\n",
        "      <th>2</th>\n",
        "      <td> 22230</td>\n",
        "    </tr>\n",
        "    <tr>\n",
        "      <th>3</th>\n",
        "      <td> 21833</td>\n",
        "    </tr>\n",
        "    <tr>\n",
        "      <th>4</th>\n",
        "      <td> 21516</td>\n",
        "    </tr>\n",
        "    <tr>\n",
        "      <th>5</th>\n",
        "      <td> 20204</td>\n",
        "    </tr>\n",
        "    <tr>\n",
        "      <th>6</th>\n",
        "      <td> 16665</td>\n",
        "    </tr>\n",
        "    <tr>\n",
        "      <th>7</th>\n",
        "      <td> 18179</td>\n",
        "    </tr>\n",
        "  </tbody>\n",
        "</table>\n",
        "</div>"
       ],
       "output_type": "pyout",
       "prompt_number": 66,
       "text": [
        "             c\n",
        "weekday       \n",
        "1        22131\n",
        "2        22230\n",
        "3        21833\n",
        "4        21516\n",
        "5        20204\n",
        "6        16665\n",
        "7        18179"
       ]
      }
     ],
     "prompt_number": 66
    },
    {
     "cell_type": "markdown",
     "metadata": {},
     "source": [
      "Die meisten Commits am Wochenanfang. Am Wochenende weniger (insbesondere Samstag)."
     ]
    },
    {
     "cell_type": "code",
     "collapsed": false,
     "input": [
      "per_weekday.sum().plot(kind=\"bar\")"
     ],
     "language": "python",
     "metadata": {},
     "outputs": [
      {
       "output_type": "pyout",
       "prompt_number": 67,
       "text": [
        "<matplotlib.axes.AxesSubplot at 0x694aa10>"
       ]
      },
      {
       "output_type": "display_data",
       "png": "[encoded data removed]"
      }
     ],
     "prompt_number": 67
    },
    {
     "cell_type": "code",
     "collapsed": false,
     "input": [
      "df['hour'] = df['datetime'].apply(lambda x: x.hour)"
     ],
     "language": "python",
     "metadata": {},
     "outputs": [],
     "prompt_number": 68
    },
    {
     "cell_type": "code",
     "collapsed": false,
     "input": [
      "per_hour = df.groupby('hour')['c'].sum()\n",
      "per_hour.plot(kind=\"bar\")"
     ],
     "language": "python",
     "metadata": {},
     "outputs": [
      {
       "output_type": "pyout",
       "prompt_number": 69,
       "text": [
        "<matplotlib.axes.AxesSubplot at 0x7d137d0>"
       ]
      },
      {
       "output_type": "display_data",
       "png": "[encoded data removed]"
      }
     ],
     "prompt_number": 69
    },
    {
     "cell_type": "markdown",
     "metadata": {},
     "source": [
      "Die meisten Commits abends."
     ]
    }
   ],
   "metadata": {}
  }
 ]
}