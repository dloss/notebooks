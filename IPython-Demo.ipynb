{
 "metadata": {
  "name": "IPython-Demo"
 },
 "nbformat": 3,
 "nbformat_minor": 0,
 "worksheets": [
  {
   "cells": [
    {
     "cell_type": "code",
     "collapsed": false,
     "input": [
      "print \"Hallo Welt!\""
     ],
     "language": "python",
     "metadata": {},
     "outputs": [
      {
       "output_type": "stream",
       "stream": "stdout",
       "text": [
        "Hallo Welt!\n"
       ]
      }
     ],
     "prompt_number": 1
    },
    {
     "cell_type": "code",
     "collapsed": false,
     "input": [
      "2**200"
     ],
     "language": "python",
     "metadata": {},
     "outputs": [
      {
       "output_type": "pyout",
       "prompt_number": 2,
       "text": [
        "1606938044258990275541962092341162602522202993782792835301376L"
       ]
      }
     ],
     "prompt_number": 2
    },
    {
     "cell_type": "code",
     "collapsed": false,
     "input": [
      "# Multi-line editing. Syntax-coloring.\n",
      "for num in ['eins', 'zwei', 'drei']:\n",
      "    print \"Line %s\" % num"
     ],
     "language": "python",
     "metadata": {},
     "outputs": [
      {
       "output_type": "stream",
       "stream": "stdout",
       "text": [
        "Line eins\n",
        "Line zwei\n",
        "Line drei\n"
       ]
      }
     ],
     "prompt_number": 3
    },
    {
     "cell_type": "heading",
     "level": 1,
     "metadata": {},
     "source": [
      "\u00dcberschriften"
     ]
    },
    {
     "cell_type": "markdown",
     "metadata": {},
     "source": [
      "Normaler Text in ganzen S\u00e4tzen. Formatiert als Markdown: *hervorgehoben* **fett**"
     ]
    },
    {
     "cell_type": "heading",
     "level": 2,
     "metadata": {},
     "source": [
      "Hilfe und Tab-Completion"
     ]
    },
    {
     "cell_type": "code",
     "collapsed": false,
     "input": [
      "s=\"hallo welt\"\n",
      "#s?\n",
      "#s.encode(\n",
      "s.encode(\"base64\")"
     ],
     "language": "python",
     "metadata": {},
     "outputs": [
      {
       "output_type": "pyout",
       "prompt_number": 4,
       "text": [
        "'aGFsbG8gd2VsdA==\\n'"
       ]
      }
     ],
     "prompt_number": 4
    },
    {
     "cell_type": "heading",
     "level": 2,
     "metadata": {},
     "source": [
      "Dateiformat: JSON"
     ]
    },
    {
     "cell_type": "markdown",
     "metadata": {},
     "source": [
      "Abspeichern als JSON, wieder einladen"
     ]
    },
    {
     "cell_type": "heading",
     "level": 1,
     "metadata": {},
     "source": [
      "Shell-Kommandos"
     ]
    },
    {
     "cell_type": "code",
     "collapsed": false,
     "input": [
      "!ls -l"
     ],
     "language": "python",
     "metadata": {},
     "outputs": [
      {
       "output_type": "stream",
       "stream": "stdout",
       "text": [
        "insgesamt 10272\r\n",
        "-rw-rw-rw-  1 dloss dloss  302868 Mai  2 14:41 Bitcoin.ipynb\r\n",
        "-rw-rw-rw-  1 dloss dloss    1147 Mai  2 14:37 bitcoin_weighted_prices.json\r\n",
        "drwxrwxr-x  2 dloss dloss    4096 Apr 29 18:42 bundesliga\r\n",
        "-rw-rw-rw-  1 dloss dloss  119335 Apr  7 16:37 bundesliga.ipynb\r\n",
        "-rw-rw-r--  1 dloss dloss  408138 Mai  2 16:28 Chapter1_Introduction.ipynb\r\n",
        "drwxrwxr-x  7 dloss dloss   12288 Apr 29 18:42 crosscompute-tutorials\r\n",
        "drwxrwxrwx  3 dloss dloss    4096 Mai  1 17:46 datasets\r\n",
        "-rw-rw-rw-  1 dloss dloss 2353817 Mai  3 09:54 datenanalyse-ipython-pandas.pdf\r\n",
        "-rw-rw-rw-  1 dloss dloss 2727936 Mai  2 15:30 datenanalyse-ipython-pandas.ppt\r\n",
        "-rw-rw-rw-  1 dloss dloss  792146 Apr  7 17:00 E1_BEZIRK_201112.csv\r\n",
        "-rw-rw-rw-  1 dloss dloss  225923 Nov 24 20:17 ergebnisse-1963-2010.zip\r\n",
        "-rw-r--r--  1 dloss dloss    2048 Mai  2 15:38 foo.db\r\n",
        "-rw-rw-rw-  1 dloss dloss    2037 Apr 20 12:59 genua-vortrag.txt\r\n",
        "drwxrwxrwx  4 dloss dloss    4096 Mai  1 17:03 hpf\r\n",
        "-rw-rw-rw-  1 dloss dloss  326577 Mai  2 13:58 hpf-admin.ipynb\r\n",
        "-rw-rw-rw-  1 dloss dloss  148820 Mai  2 15:41 IPython-Demo.ipynb\r\n",
        "-rw-rw-r--  1 dloss dloss   27092 Mai  1 16:35 ipy.vim\r\n",
        "-rw-rw-r--  1 dloss dloss     217 Mai  3 10:14 links.txt\r\n",
        "-rw-rw-rw-  1 dloss dloss  861410 Apr 27 21:29 mtgox.csv\r\n",
        "-rw-rw-rw-  1 dloss dloss  861218 Mai  2 16:33 mtgoxUSD.csv\r\n",
        "-rw-rw-rw-  1 dloss dloss  167366 Apr  7 18:28 Muenchen.ipynb\r\n",
        "-rw-rw-r--  1 dloss dloss   21907 Mai  2 16:23 mypicture.pdf\r\n",
        "drwxrwxr-x  6 dloss dloss    4096 Mai  1 13:25 notebooks\r\n",
        "-rw-rw-rw-  1 dloss dloss  355731 Mai  2 15:37 OpenBSD.ipynb\r\n",
        "drwxrwxr-x 11 dloss dloss    4096 Mai  2 10:59 other\r\n",
        "-rw-rw-rw-  1 dloss dloss   54449 M\u00e4r 28 21:00 pandas_basics.ipynb\r\n",
        "-rw-rw-rw-  1 dloss dloss   84604 M\u00e4r 30 21:11 Pandas Cookbook.ipynb\r\n",
        "drwxrwxr-x  3 dloss dloss    4096 Apr 29 18:49 pandas-demo\r\n",
        "drwxrwxr-x  3 dloss dloss    4096 Apr 29 18:53 pcap\r\n",
        "-rw-rw-rw-  1 dloss dloss   31161 Mai  2 13:02 pcap.ipynb\r\n",
        "-rw-rw-rw-  1 dloss dloss   26785 Mai  1 13:01 Pi.ipynb\r\n",
        "-rw-rw-rw-  1 dloss dloss  191731 Apr 28 22:17 python-slices.graffle\r\n",
        "-rw-rw-r--  1 dloss dloss   76393 Mai  1 16:30 stock_data.csv\r\n",
        "drwxrwxr-x  3 dloss dloss   12288 Apr 29 18:42 tippkick\r\n",
        "-rw-rw-r--  1 dloss dloss    7943 Mai  1 16:30 tips.csv\r\n",
        "drwxr-xr-x  7 dloss dloss    4096 Apr 30 23:08 tutorials\r\n",
        "-rw-rw-r--  1 dloss dloss    2267 Mai  2 16:12 Vortrag.ipynb\r\n"
       ]
      }
     ],
     "prompt_number": 5
    },
    {
     "cell_type": "code",
     "collapsed": false,
     "input": [
      "!head -20 IPython-Demo.ipynb"
     ],
     "language": "python",
     "metadata": {},
     "outputs": [
      {
       "output_type": "stream",
       "stream": "stdout",
       "text": [
        "{\r\n",
        " \"metadata\": {\r\n",
        "  \"name\": \"IPython-Demo\"\r\n",
        " },\r\n",
        " \"nbformat\": 3,\r\n",
        " \"nbformat_minor\": 0,\r\n",
        " \"worksheets\": [\r\n",
        "  {\r\n",
        "   \"cells\": [\r\n",
        "    {\r\n",
        "     \"cell_type\": \"code\",\r\n",
        "     \"collapsed\": false,\r\n",
        "     \"input\": [\r\n",
        "      \"print \\\"Hallo Welt!\\\"\"\r\n",
        "     ],\r\n",
        "     \"language\": \"python\",\r\n",
        "     \"metadata\": {},\r\n",
        "     \"outputs\": [\r\n",
        "      {\r\n",
        "       \"output_type\": \"stream\",\r\n"
       ]
      }
     ],
     "prompt_number": 6
    },
    {
     "cell_type": "markdown",
     "metadata": {},
     "source": [
      "Python-Variablen \u00fcbergeben"
     ]
    },
    {
     "cell_type": "code",
     "collapsed": false,
     "input": [
      "interface=\"eth0\"\n",
      "data = !ifconfig $interface\n",
      "data.fields()"
     ],
     "language": "python",
     "metadata": {},
     "outputs": [
      {
       "output_type": "pyout",
       "prompt_number": 7,
       "text": [
        "[['/bin/sh:', '1:', 'ifconfig:', 'not', 'found']]"
       ]
      }
     ],
     "prompt_number": 7
    },
    {
     "cell_type": "code",
     "collapsed": false,
     "input": [
      "# Interrupt with CTRL-m i\n",
      "!ping -c 6 8.8.8.8"
     ],
     "language": "python",
     "metadata": {},
     "outputs": [
      {
       "output_type": "stream",
       "stream": "stdout",
       "text": [
        "PING 8.8.8.8 (8.8.8.8) 56(84) bytes of data.\r\n",
        "From 192.168.253.1 icmp_seq=1 Destination Port Unreachable\r\n"
       ]
      },
      {
       "output_type": "stream",
       "stream": "stdout",
       "text": [
        "From 192.168.253.1 icmp_seq=2 Destination Port Unreachable\r\n"
       ]
      },
      {
       "output_type": "stream",
       "stream": "stdout",
       "text": [
        "From 192.168.253.1 icmp_seq=3 Destination Port Unreachable\r\n"
       ]
      },
      {
       "output_type": "stream",
       "stream": "stdout",
       "text": [
        "From 192.168.253.1 icmp_seq=4 Destination Port Unreachable\r\n"
       ]
      },
      {
       "output_type": "stream",
       "stream": "stdout",
       "text": [
        "From 192.168.253.1 icmp_seq=5 Destination Port Unreachable\r\n"
       ]
      },
      {
       "output_type": "stream",
       "stream": "stdout",
       "text": [
        "From 192.168.253.1 icmp_seq=6 Destination Port Unreachable\r\n",
        "\r\n",
        "--- 8.8.8.8 ping statistics ---\r\n",
        "6 packets transmitted, 0 received, +6 errors, 100% packet loss, time 5001ms\r\n",
        "\r\n"
       ]
      }
     ],
     "prompt_number": 8
    },
    {
     "cell_type": "heading",
     "level": 3,
     "metadata": {},
     "source": [
      "Andere Programmiersprachen"
     ]
    },
    {
     "cell_type": "code",
     "collapsed": false,
     "input": [
      "%%ruby\n",
      "name = \"Ruby\"\n",
      "3.times { puts \"Hallo #{ name }\" }"
     ],
     "language": "python",
     "metadata": {},
     "outputs": [
      {
       "output_type": "stream",
       "stream": "stdout",
       "text": [
        "Hallo Ruby\n",
        "Hallo Ruby\n",
        "Hallo Ruby\n"
       ]
      }
     ],
     "prompt_number": 9
    },
    {
     "cell_type": "code",
     "collapsed": false,
     "input": [
      "%%perl\n",
      "# https://github.com/peelle/Perl-Euler-Solutions/blob/master/1/solution.pl\n",
      "# Straight forward iteration over each number\n",
      "my $sum_of_multiples = 0;\n",
      " \n",
      "foreach my $number ( 1..999 ) {\n",
      "# using modulus to filter\n",
      "next if ( $number % 3 and $number % 5 );\n",
      "$sum_of_multiples += $number;\n",
      "}\n",
      "\n",
      "print $sum_of_multiples;"
     ],
     "language": "python",
     "metadata": {},
     "outputs": [
      {
       "output_type": "stream",
       "stream": "stdout",
       "text": [
        "233168"
       ]
      }
     ],
     "prompt_number": 10
    },
    {
     "cell_type": "code",
     "collapsed": false,
     "input": [
      "%%bash --out output --err error\n",
      "echo \"Zeilen:\"\n",
      "for i in a b c d; do echo $i; done"
     ],
     "language": "python",
     "metadata": {},
     "outputs": [],
     "prompt_number": 11
    },
    {
     "cell_type": "markdown",
     "metadata": {},
     "source": [
      "Stdout wurde an *output* \u00fcbergeben:"
     ]
    },
    {
     "cell_type": "code",
     "collapsed": false,
     "input": [
      "print output"
     ],
     "language": "python",
     "metadata": {},
     "outputs": [
      {
       "output_type": "stream",
       "stream": "stdout",
       "text": [
        "Zeilen:\n",
        "a\n",
        "b\n",
        "c\n",
        "d\n",
        "\n"
       ]
      }
     ],
     "prompt_number": 12
    },
    {
     "cell_type": "code",
     "collapsed": false,
     "input": [
      "%%script lua\n",
      "function allwords ()\n",
      "  local line = \"Hallo Lua program\"\n",
      "  local pos = 1           -- current position in the line\n",
      "  return function ()      -- iterator function\n",
      "    while line do         -- repeat while there are lines\n",
      "      local s, e = string.find(line, \"%w+\", pos)\n",
      "      if s then           -- found a word?\n",
      "        pos = e + 1       -- next position is after this word\n",
      "        return string.sub(line, s, e)     -- return the word\n",
      "      else\n",
      "        line = io.read()  -- word not found; try next line\n",
      "        pos = 1           -- restart from first position\n",
      "      end\n",
      "    end\n",
      "    return nil            -- no more lines: end of traversal\n",
      "  end\n",
      "end\n",
      "\n",
      "\n",
      "-- use example\n",
      "for word in allwords() do\n",
      "  print(word)\n",
      "end"
     ],
     "language": "python",
     "metadata": {},
     "outputs": [
      {
       "output_type": "stream",
       "stream": "stdout",
       "text": [
        "Hallo\n",
        "Lua\n",
        "program\n"
       ]
      }
     ],
     "prompt_number": 13
    },
    {
     "cell_type": "heading",
     "level": 1,
     "metadata": {},
     "source": [
      "Plotting"
     ]
    },
    {
     "cell_type": "code",
     "collapsed": false,
     "input": [
      "%pylab inline"
     ],
     "language": "python",
     "metadata": {},
     "outputs": [
      {
       "output_type": "stream",
       "stream": "stdout",
       "text": [
        "\n",
        "Welcome to pylab, a matplotlib-based Python environment [backend: module://IPython.zmq.pylab.backend_inline].\n",
        "For more information, type 'help(pylab)'.\n"
       ]
      }
     ],
     "prompt_number": 14
    },
    {
     "cell_type": "code",
     "collapsed": false,
     "input": [
      "x = np.random.normal(size=1000)\n",
      "y = np.random.normal(size=1000)\n",
      "scatter(x, y, alpha=0.2)\n",
      "savefig(\"mypicture.pdf\")"
     ],
     "language": "python",
     "metadata": {},
     "outputs": [
      {
       "output_type": "display_data",
       "png": "[encoded data removed]"
      }
     ],
     "prompt_number": 15
    },
    {
     "cell_type": "code",
     "collapsed": false,
     "input": [
      "x = np.linspace(1, 18, 100)\n",
      "y = x[:, np.newaxis]\n",
      "im = y * np.sin(x) \n",
      "plt.imshow(im, cmap=matplotlib.cm.gray)"
     ],
     "language": "python",
     "metadata": {},
     "outputs": [
      {
       "output_type": "pyout",
       "prompt_number": 16,
       "text": [
        "<matplotlib.image.AxesImage at 0x2c99850>"
       ]
      },
      {
       "output_type": "display_data",
       "png": "[encoded data removed]"
      }
     ],
     "prompt_number": 16
    },
    {
     "cell_type": "heading",
     "level": 3,
     "metadata": {},
     "source": [
      "Matplotlib Gallery"
     ]
    },
    {
     "cell_type": "code",
     "collapsed": false,
     "input": [
      "%load http://matplotlib.org/mpl_examples/api/radar_chart.py"
     ],
     "language": "python",
     "metadata": {},
     "outputs": [],
     "prompt_number": 17
    },
    {
     "cell_type": "code",
     "collapsed": false,
     "input": [
      "\"\"\"\n",
      "Example of creating a radar chart (a.k.a. a spider or star chart) [1]_.\n",
      "\n",
      "Although this example allows a frame of either 'circle' or 'polygon', polygon\n",
      "frames don't have proper gridlines (the lines are circles instead of polygons).\n",
      "It's possible to get a polygon grid by setting GRIDLINE_INTERPOLATION_STEPS in\n",
      "matplotlib.axis to the desired number of vertices, but the orientation of the\n",
      "polygon is not aligned with the radial axes.\n",
      "\n",
      ".. [1] http://en.wikipedia.org/wiki/Radar_chart\n",
      "\"\"\"\n",
      "import numpy as np\n",
      "\n",
      "import matplotlib.pyplot as plt\n",
      "from matplotlib.path import Path\n",
      "from matplotlib.spines import Spine\n",
      "from matplotlib.projections.polar import PolarAxes\n",
      "from matplotlib.projections import register_projection\n",
      "\n",
      "\n",
      "def radar_factory(num_vars, frame='circle'):\n",
      "    \"\"\"Create a radar chart with `num_vars` axes.\n",
      "\n",
      "    This function creates a RadarAxes projection and registers it.\n",
      "\n",
      "    Parameters\n",
      "    ----------\n",
      "    num_vars : int\n",
      "        Number of variables for radar chart.\n",
      "    frame : {'circle' | 'polygon'}\n",
      "        Shape of frame surrounding axes.\n",
      "\n",
      "    \"\"\"\n",
      "    # calculate evenly-spaced axis angles\n",
      "    theta = 2*np.pi * np.linspace(0, 1-1./num_vars, num_vars)\n",
      "    # rotate theta such that the first axis is at the top\n",
      "    theta += np.pi/2\n",
      "\n",
      "    def draw_poly_patch(self):\n",
      "        verts = unit_poly_verts(theta)\n",
      "        return plt.Polygon(verts, closed=True, edgecolor='k')\n",
      "\n",
      "    def draw_circle_patch(self):\n",
      "        # unit circle centered on (0.5, 0.5)\n",
      "        return plt.Circle((0.5, 0.5), 0.5)\n",
      "\n",
      "    patch_dict = {'polygon': draw_poly_patch, 'circle': draw_circle_patch}\n",
      "    if frame not in patch_dict:\n",
      "        raise ValueError('unknown value for `frame`: %s' % frame)\n",
      "\n",
      "    class RadarAxes(PolarAxes):\n",
      "\n",
      "        name = 'radar'\n",
      "        # use 1 line segment to connect specified points\n",
      "        RESOLUTION = 1\n",
      "        # define draw_frame method\n",
      "        draw_patch = patch_dict[frame]\n",
      "\n",
      "        def fill(self, *args, **kwargs):\n",
      "            \"\"\"Override fill so that line is closed by default\"\"\"\n",
      "            closed = kwargs.pop('closed', True)\n",
      "            return super(RadarAxes, self).fill(closed=closed, *args, **kwargs)\n",
      "\n",
      "        def plot(self, *args, **kwargs):\n",
      "            \"\"\"Override plot so that line is closed by default\"\"\"\n",
      "            lines = super(RadarAxes, self).plot(*args, **kwargs)\n",
      "            for line in lines:\n",
      "                self._close_line(line)\n",
      "\n",
      "        def _close_line(self, line):\n",
      "            x, y = line.get_data()\n",
      "            # FIXME: markers at x[0], y[0] get doubled-up\n",
      "            if x[0] != x[-1]:\n",
      "                x = np.concatenate((x, [x[0]]))\n",
      "                y = np.concatenate((y, [y[0]]))\n",
      "                line.set_data(x, y)\n",
      "\n",
      "        def set_varlabels(self, labels):\n",
      "            self.set_thetagrids(theta * 180/np.pi, labels)\n",
      "\n",
      "        def _gen_axes_patch(self):\n",
      "            return self.draw_patch()\n",
      "\n",
      "        def _gen_axes_spines(self):\n",
      "            if frame == 'circle':\n",
      "                return PolarAxes._gen_axes_spines(self)\n",
      "            # The following is a hack to get the spines (i.e. the axes frame)\n",
      "            # to draw correctly for a polygon frame.\n",
      "\n",
      "            # spine_type must be 'left', 'right', 'top', 'bottom', or `circle`.\n",
      "            spine_type = 'circle'\n",
      "            verts = unit_poly_verts(theta)\n",
      "            # close off polygon by repeating first vertex\n",
      "            verts.append(verts[0])\n",
      "            path = Path(verts)\n",
      "\n",
      "            spine = Spine(self, spine_type, path)\n",
      "            spine.set_transform(self.transAxes)\n",
      "            return {'polar': spine}\n",
      "\n",
      "    register_projection(RadarAxes)\n",
      "    return theta\n",
      "\n",
      "\n",
      "def unit_poly_verts(theta):\n",
      "    \"\"\"Return vertices of polygon for subplot axes.\n",
      "\n",
      "    This polygon is circumscribed by a unit circle centered at (0.5, 0.5)\n",
      "    \"\"\"\n",
      "    x0, y0, r = [0.5] * 3\n",
      "    verts = [(r*np.cos(t) + x0, r*np.sin(t) + y0) for t in theta]\n",
      "    return verts\n",
      "\n",
      "\n",
      "def example_data():\n",
      "    #The following data is from the Denver Aerosol Sources and Health study.\n",
      "    #See  doi:10.1016/j.atmosenv.2008.12.017\n",
      "    #\n",
      "    #The data are pollution source profile estimates for five modeled pollution\n",
      "    #sources (e.g., cars, wood-burning, etc) that emit 7-9 chemical species.\n",
      "    #The radar charts are experimented with here to see if we can nicely\n",
      "    #visualize how the modeled source profiles change across four scenarios:\n",
      "    #  1) No gas-phase species present, just seven particulate counts on\n",
      "    #     Sulfate\n",
      "    #     Nitrate\n",
      "    #     Elemental Carbon (EC)\n",
      "    #     Organic Carbon fraction 1 (OC)\n",
      "    #     Organic Carbon fraction 2 (OC2)\n",
      "    #     Organic Carbon fraction 3 (OC3)\n",
      "    #     Pyrolized Organic Carbon (OP)\n",
      "    #  2)Inclusion of gas-phase specie carbon monoxide (CO)\n",
      "    #  3)Inclusion of gas-phase specie ozone (O3).\n",
      "    #  4)Inclusion of both gas-phase speciesis present...\n",
      "    data = {\n",
      "        'column names':\n",
      "            ['Sulfate', 'Nitrate', 'EC', 'OC1', 'OC2', 'OC3', 'OP', 'CO',\n",
      "             'O3'],\n",
      "        'Basecase':\n",
      "            [[0.88, 0.01, 0.03, 0.03, 0.00, 0.06, 0.01, 0.00, 0.00],\n",
      "             [0.07, 0.95, 0.04, 0.05, 0.00, 0.02, 0.01, 0.00, 0.00],\n",
      "             [0.01, 0.02, 0.85, 0.19, 0.05, 0.10, 0.00, 0.00, 0.00],\n",
      "             [0.02, 0.01, 0.07, 0.01, 0.21, 0.12, 0.98, 0.00, 0.00],\n",
      "             [0.01, 0.01, 0.02, 0.71, 0.74, 0.70, 0.00, 0.00, 0.00]],\n",
      "        'With CO':\n",
      "            [[0.88, 0.02, 0.02, 0.02, 0.00, 0.05, 0.00, 0.05, 0.00],\n",
      "             [0.08, 0.94, 0.04, 0.02, 0.00, 0.01, 0.12, 0.04, 0.00],\n",
      "             [0.01, 0.01, 0.79, 0.10, 0.00, 0.05, 0.00, 0.31, 0.00],\n",
      "             [0.00, 0.02, 0.03, 0.38, 0.31, 0.31, 0.00, 0.59, 0.00],\n",
      "             [0.02, 0.02, 0.11, 0.47, 0.69, 0.58, 0.88, 0.00, 0.00]],\n",
      "        'With O3':\n",
      "            [[0.89, 0.01, 0.07, 0.00, 0.00, 0.05, 0.00, 0.00, 0.03],\n",
      "             [0.07, 0.95, 0.05, 0.04, 0.00, 0.02, 0.12, 0.00, 0.00],\n",
      "             [0.01, 0.02, 0.86, 0.27, 0.16, 0.19, 0.00, 0.00, 0.00],\n",
      "             [0.01, 0.03, 0.00, 0.32, 0.29, 0.27, 0.00, 0.00, 0.95],\n",
      "             [0.02, 0.00, 0.03, 0.37, 0.56, 0.47, 0.87, 0.00, 0.00]],\n",
      "        'CO & O3':\n",
      "            [[0.87, 0.01, 0.08, 0.00, 0.00, 0.04, 0.00, 0.00, 0.01],\n",
      "             [0.09, 0.95, 0.02, 0.03, 0.00, 0.01, 0.13, 0.06, 0.00],\n",
      "             [0.01, 0.02, 0.71, 0.24, 0.13, 0.16, 0.00, 0.50, 0.00],\n",
      "             [0.01, 0.03, 0.00, 0.28, 0.24, 0.23, 0.00, 0.44, 0.88],\n",
      "             [0.02, 0.00, 0.18, 0.45, 0.64, 0.55, 0.86, 0.00, 0.16]]}\n",
      "    return data\n",
      "\n",
      "\n",
      "if __name__ == '__main__':\n",
      "    N = 9\n",
      "    theta = radar_factory(N, frame='polygon')\n",
      "\n",
      "    data = example_data()\n",
      "    spoke_labels = data.pop('column names')\n",
      "\n",
      "    fig = plt.figure(figsize=(9, 9))\n",
      "    fig.subplots_adjust(wspace=0.25, hspace=0.20, top=0.85, bottom=0.05)\n",
      "\n",
      "    colors = ['b', 'r', 'g', 'm', 'y']\n",
      "    # Plot the four cases from the example data on separate axes\n",
      "    for n, title in enumerate(data.keys()):\n",
      "        ax = fig.add_subplot(2, 2, n+1, projection='radar')\n",
      "        plt.rgrids([0.2, 0.4, 0.6, 0.8])\n",
      "        ax.set_title(title, weight='bold', size='medium', position=(0.5, 1.1),\n",
      "                     horizontalalignment='center', verticalalignment='center')\n",
      "        for d, color in zip(data[title], colors):\n",
      "            ax.plot(theta, d, color=color)\n",
      "            ax.fill(theta, d, facecolor=color, alpha=0.25)\n",
      "        ax.set_varlabels(spoke_labels)\n",
      "\n",
      "    # add legend relative to top-left plot\n",
      "    plt.subplot(2, 2, 1)\n",
      "    labels = ('Factor 1', 'Factor 2', 'Factor 3', 'Factor 4', 'Factor 5')\n",
      "    legend = plt.legend(labels, loc=(0.9, .95), labelspacing=0.1)\n",
      "    plt.setp(legend.get_texts(), fontsize='small')\n",
      "\n",
      "    plt.figtext(0.5, 0.965, '5-Factor Solution Profiles Across Four Scenarios',\n",
      "                ha='center', color='black', weight='bold', size='large')\n",
      "    plt.show()\n"
     ],
     "language": "python",
     "metadata": {},
     "outputs": []
    },
    {
     "cell_type": "heading",
     "level": 1,
     "metadata": {},
     "source": [
      "Rich display"
     ]
    },
    {
     "cell_type": "code",
     "collapsed": false,
     "input": [
      "from IPython.core.display import Image, HTML, SVG"
     ],
     "language": "python",
     "metadata": {},
     "outputs": [],
     "prompt_number": 18
    },
    {
     "cell_type": "code",
     "collapsed": false,
     "input": [
      "Image(filename=\"/usr/share/doc/texlive-doc/latex/ctable/penguin.jpg\")"
     ],
     "language": "python",
     "metadata": {},
     "outputs": [
      {
       "jpeg": "[encoded data removed]",
       "output_type": "pyout",
       "prompt_number": 19,
       "text": [
        "<IPython.core.display.Image at 0x2c85690>"
       ]
      }
     ],
     "prompt_number": 19
    },
    {
     "cell_type": "code",
     "collapsed": false,
     "input": [
      "SVG(filename=\"/usr/share/doc/ipython/examples/notebooks/python-logo.svg\")"
     ],
     "language": "python",
     "metadata": {},
     "outputs": [
      {
       "output_type": "pyout",
       "prompt_number": 20,
       "svg": [
        "<svg height=\"115.02pt\" id=\"svg2\" inkscape:version=\"0.43\" sodipodi:docbase=\"/home/sdeibel\" sodipodi:docname=\"logo-python-generic.svg\" sodipodi:version=\"0.32\" version=\"1.0\" width=\"388.84pt\" xmlns=\"http://www.w3.org/2000/svg\" xmlns:cc=\"http://web.resource.org/cc/\" xmlns:dc=\"http://purl.org/dc/elements/1.1/\" xmlns:inkscape=\"http://www.inkscape.org/namespaces/inkscape\" xmlns:rdf=\"http://www.w3.org/1999/02/22-rdf-syntax-ns#\" xmlns:sodipodi=\"http://inkscape.sourceforge.net/DTD/sodipodi-0.dtd\" xmlns:svg=\"http://www.w3.org/2000/svg\" xmlns:xlink=\"http://www.w3.org/1999/xlink\">\n",
        "  <metadata id=\"metadata2193\">\n",
        "    <rdf:RDF>\n",
        "      <cc:Work rdf:about=\"\">\n",
        "        <dc:format>image/svg+xml</dc:format>\n",
        "        <dc:type rdf:resource=\"http://purl.org/dc/dcmitype/StillImage\"/>\n",
        "      </cc:Work>\n",
        "    </rdf:RDF>\n",
        "  </metadata>\n",
        "  <sodipodi:namedview bordercolor=\"#666666\" borderopacity=\"1.0\" id=\"base\" inkscape:current-layer=\"svg2\" inkscape:cx=\"243.02499\" inkscape:cy=\"71.887497\" inkscape:pageopacity=\"0.0\" inkscape:pageshadow=\"2\" inkscape:window-height=\"543\" inkscape:window-width=\"791\" inkscape:window-x=\"0\" inkscape:window-y=\"0\" inkscape:zoom=\"1.4340089\" pagecolor=\"#ffffff\"/>\n",
        "  <defs id=\"defs4\">\n",
        "    <linearGradient id=\"linearGradient2795\">\n",
        "      <stop id=\"stop2797\" offset=\"0\" style=\"stop-color:#b8b8b8;stop-opacity:0.49803922\"/>\n",
        "      <stop id=\"stop2799\" offset=\"1\" style=\"stop-color:#7f7f7f;stop-opacity:0\"/>\n",
        "    </linearGradient>\n",
        "    <linearGradient id=\"linearGradient2787\">\n",
        "      <stop id=\"stop2789\" offset=\"0\" style=\"stop-color:#7f7f7f;stop-opacity:0.5\"/>\n",
        "      <stop id=\"stop2791\" offset=\"1\" style=\"stop-color:#7f7f7f;stop-opacity:0\"/>\n",
        "    </linearGradient>\n",
        "    <linearGradient id=\"linearGradient3676\">\n",
        "      <stop id=\"stop3678\" offset=\"0\" style=\"stop-color:#b2b2b2;stop-opacity:0.5\"/>\n",
        "      <stop id=\"stop3680\" offset=\"1\" style=\"stop-color:#b3b3b3;stop-opacity:0\"/>\n",
        "    </linearGradient>\n",
        "    <linearGradient id=\"linearGradient3236\">\n",
        "      <stop id=\"stop3244\" offset=\"0\" style=\"stop-color:#f4f4f4;stop-opacity:1\"/>\n",
        "      <stop id=\"stop3240\" offset=\"1\" style=\"stop-color:#ffffff;stop-opacity:1\"/>\n",
        "    </linearGradient>\n",
        "    <linearGradient id=\"linearGradient4671\">\n",
        "      <stop id=\"stop4673\" offset=\"0\" style=\"stop-color:#ffd43b;stop-opacity:1\"/>\n",
        "      <stop id=\"stop4675\" offset=\"1\" style=\"stop-color:#ffe873;stop-opacity:1\"/>\n",
        "    </linearGradient>\n",
        "    <linearGradient id=\"linearGradient4689\">\n",
        "      <stop id=\"stop4691\" offset=\"0\" style=\"stop-color:#5a9fd4;stop-opacity:1\"/>\n",
        "      <stop id=\"stop4693\" offset=\"1\" style=\"stop-color:#306998;stop-opacity:1\"/>\n",
        "    </linearGradient>\n",
        "    <linearGradient gradientTransform=\"translate(100.2702,99.61116)\" gradientUnits=\"userSpaceOnUse\" id=\"linearGradient2987\" x1=\"224.23996\" x2=\"-65.308502\" xlink:href=\"#linearGradient4671\" y1=\"144.75717\" y2=\"144.75717\"/>\n",
        "    <linearGradient gradientTransform=\"translate(100.2702,99.61116)\" gradientUnits=\"userSpaceOnUse\" id=\"linearGradient2990\" x1=\"172.94208\" x2=\"26.670298\" xlink:href=\"#linearGradient4689\" y1=\"77.475983\" y2=\"76.313133\"/>\n",
        "    <linearGradient gradientTransform=\"translate(100.2702,99.61116)\" gradientUnits=\"userSpaceOnUse\" id=\"linearGradient2587\" x1=\"172.94208\" x2=\"26.670298\" xlink:href=\"#linearGradient4689\" y1=\"77.475983\" y2=\"76.313133\"/>\n",
        "    <linearGradient gradientTransform=\"translate(100.2702,99.61116)\" gradientUnits=\"userSpaceOnUse\" id=\"linearGradient2589\" x1=\"224.23996\" x2=\"-65.308502\" xlink:href=\"#linearGradient4671\" y1=\"144.75717\" y2=\"144.75717\"/>\n",
        "    <linearGradient gradientTransform=\"translate(100.2702,99.61116)\" gradientUnits=\"userSpaceOnUse\" id=\"linearGradient2248\" x1=\"172.94208\" x2=\"26.670298\" xlink:href=\"#linearGradient4689\" y1=\"77.475983\" y2=\"76.313133\"/>\n",
        "    <linearGradient gradientTransform=\"translate(100.2702,99.61116)\" gradientUnits=\"userSpaceOnUse\" id=\"linearGradient2250\" x1=\"224.23996\" x2=\"-65.308502\" xlink:href=\"#linearGradient4671\" y1=\"144.75717\" y2=\"144.75717\"/>\n",
        "    <linearGradient gradientTransform=\"matrix(0.562541,0,0,0.567972,-11.5974,-7.60954)\" gradientUnits=\"userSpaceOnUse\" id=\"linearGradient2255\" x1=\"224.23996\" x2=\"-65.308502\" xlink:href=\"#linearGradient4671\" y1=\"144.75717\" y2=\"144.75717\"/>\n",
        "    <linearGradient gradientTransform=\"matrix(0.562541,0,0,0.567972,-11.5974,-7.60954)\" gradientUnits=\"userSpaceOnUse\" id=\"linearGradient2258\" x1=\"172.94208\" x2=\"26.670298\" xlink:href=\"#linearGradient4689\" y1=\"76.176224\" y2=\"76.313133\"/>\n",
        "    <radialGradient cx=\"61.518883\" cy=\"132.28575\" fx=\"61.518883\" fy=\"132.28575\" gradientTransform=\"matrix(1,0,0,0.177966,0,108.7434)\" gradientUnits=\"userSpaceOnUse\" id=\"radialGradient2801\" r=\"29.036913\" xlink:href=\"#linearGradient2795\"/>\n",
        "    <linearGradient gradientTransform=\"matrix(0.562541,0,0,0.567972,-9.399749,-5.305317)\" gradientUnits=\"userSpaceOnUse\" id=\"linearGradient1475\" x1=\"150.96111\" x2=\"112.03144\" xlink:href=\"#linearGradient4671\" y1=\"192.35176\" y2=\"137.27299\"/>\n",
        "    <linearGradient gradientTransform=\"matrix(0.562541,0,0,0.567972,-9.399749,-5.305317)\" gradientUnits=\"userSpaceOnUse\" id=\"linearGradient1478\" x1=\"26.648937\" x2=\"135.66525\" xlink:href=\"#linearGradient4689\" y1=\"20.603781\" y2=\"114.39767\"/>\n",
        "    <radialGradient cx=\"61.518883\" cy=\"132.28575\" fx=\"61.518883\" fy=\"132.28575\" gradientTransform=\"matrix(2.382716e-8,-0.296405,1.43676,4.683673e-7,-128.544,150.5202)\" gradientUnits=\"userSpaceOnUse\" id=\"radialGradient1480\" r=\"29.036913\" xlink:href=\"#linearGradient2795\"/>\n",
        "  </defs>\n",
        "  <g id=\"g2303\">\n",
        "    <path d=\"M 184.61344,61.929363 C 184.61344,47.367213 180.46118,39.891193 172.15666,39.481813 C 168.85239,39.325863 165.62611,39.852203 162.48754,41.070593 C 159.98254,41.967323 158.2963,42.854313 157.40931,43.751043 L 157.40931,78.509163 C 162.72147,81.842673 167.43907,83.392453 171.55234,83.148783 C 180.25649,82.573703 184.61344,75.507063 184.61344,61.929363 z M 194.85763,62.533683 C 194.85763,69.931723 193.12265,76.072393 189.63319,80.955683 C 185.7441,86.482283 180.35396,89.328433 173.46277,89.484393 C 168.26757,89.650093 162.91642,88.022323 157.40931,84.610843 L 157.40931,116.20116 L 148.50047,113.02361 L 148.50047,42.903043 C 149.96253,41.109583 151.84372,39.569543 154.12454,38.263433 C 159.42696,35.173603 165.86978,33.584823 173.45302,33.506853 L 173.57973,33.633563 C 180.50991,33.545833 185.85132,36.391993 189.60395,42.162263 C 193.10315,47.454933 194.85763,54.238913 194.85763,62.533683 z \" id=\"path46\" style=\"fill:#646464;fill-opacity:1\"/>\n",
        "    <path d=\"M 249.30487,83.265743 C 249.30487,93.188283 248.31067,100.05998 246.32227,103.88084 C 244.32411,107.7017 240.52275,110.75254 234.90842,113.02361 C 230.35653,114.81707 225.43425,115.79178 220.15133,115.95748 L 218.67952,110.34316 C 224.05016,109.61213 227.83204,108.88109 230.02513,108.15006 C 234.34309,106.688 237.30621,104.44617 238.93397,101.44406 C 240.24008,98.997543 240.88339,94.328693 240.88339,87.418003 L 240.88339,85.098203 C 234.79146,87.866373 228.40711,89.240713 221.73036,89.240713 C 217.34417,89.240713 213.47457,87.866373 210.14107,85.098203 C 206.39818,82.086343 204.52674,78.265483 204.52674,73.635623 L 204.52674,36.557693 L 213.43558,33.506853 L 213.43558,70.828453 C 213.43558,74.815013 214.7222,77.885353 217.29543,80.039463 C 219.86866,82.193563 223.20217,83.226753 227.2862,83.148783 C 231.37023,83.061053 235.74667,81.482023 240.39603,78.392203 L 240.39603,34.851953 L 249.30487,34.851953 L 249.30487,83.265743 z \" id=\"path48\" style=\"fill:#646464;fill-opacity:1\"/>\n",
        "    <path d=\"M 284.08249,88.997033 C 283.02006,89.084753 282.04535,89.123743 281.14862,89.123743 C 276.10937,89.123743 272.18129,87.924853 269.37413,85.517323 C 266.57671,83.109793 265.17314,79.786033 265.17314,75.546053 L 265.17314,40.456523 L 259.07146,40.456523 L 259.07146,34.851953 L 265.17314,34.851953 L 265.17314,19.968143 L 274.07223,16.800333 L 274.07223,34.851953 L 284.08249,34.851953 L 284.08249,40.456523 L 274.07223,40.456523 L 274.07223,75.302373 C 274.07223,78.645623 274.96896,81.014163 276.76243,82.398253 C 278.30247,83.538663 280.74899,84.191723 284.08249,84.357423 L 284.08249,88.997033 z \" id=\"path50\" style=\"fill:#646464;fill-opacity:1\"/>\n",
        "    <path d=\"M 338.02288,88.266003 L 329.11404,88.266003 L 329.11404,53.878273 C 329.11404,50.379063 328.29528,47.367213 326.66753,44.852463 C 324.78634,42.006313 322.17411,40.583233 318.82112,40.583233 C 314.73708,40.583233 309.6296,42.737343 303.4987,47.045563 L 303.4987,88.266003 L 294.58985,88.266003 L 294.58985,6.0687929 L 303.4987,3.2616329 L 303.4987,40.700203 C 309.191,36.557693 315.40963,34.481563 322.16436,34.481563 C 326.88196,34.481563 330.70282,36.070333 333.62694,39.238143 C 336.56082,42.405943 338.02288,46.353513 338.02288,51.071103 L 338.02288,88.266003 L 338.02288,88.266003 z \" id=\"path52\" style=\"fill:#646464;fill-opacity:1\"/>\n",
        "    <path d=\"M 385.37424,60.525783 C 385.37424,54.930953 384.31182,50.310833 382.19669,46.655673 C 379.68195,42.201253 375.77337,39.852203 370.49044,39.608523 C 360.72386,40.173863 355.85032,47.172273 355.85032,60.584263 C 355.85032,66.734683 356.86401,71.871393 358.91089,75.994413 C 361.52312,81.248093 365.44145,83.840823 370.66589,83.753103 C 380.47146,83.675123 385.37424,75.935933 385.37424,60.525783 z M 395.13109,60.584263 C 395.13109,68.547643 393.09395,75.175663 389.02941,80.468333 C 384.5555,86.394563 378.37584,89.367423 370.49044,89.367423 C 362.67328,89.367423 356.58135,86.394563 352.18541,80.468333 C 348.19885,75.175663 346.21044,68.547643 346.21044,60.584263 C 346.21044,53.098503 348.36455,46.801883 352.67276,41.674913 C 357.22466,36.236033 363.20937,33.506853 370.6074,33.506853 C 378.00545,33.506853 384.02914,36.236033 388.66877,41.674913 C 392.97697,46.801883 395.13109,53.098503 395.13109,60.584263 z \" id=\"path54\" style=\"fill:#646464;fill-opacity:1\"/>\n",
        "    <path d=\"M 446.20583,88.266003 L 437.29699,88.266003 L 437.29699,51.928853 C 437.29699,47.942293 436.0981,44.832973 433.70032,42.591133 C 431.30253,40.359053 428.10549,39.277123 424.11893,39.364853 C 419.8887,39.442833 415.86314,40.826913 412.04229,43.507363 L 412.04229,88.266003 L 403.13345,88.266003 L 403.13345,42.405943 C 408.26042,38.672813 412.97801,36.236033 417.28621,35.095623 C 421.35076,34.033193 424.93769,33.506853 428.02752,33.506853 C 430.14264,33.506853 432.13104,33.711543 434.00248,34.120913 C 437.50169,34.929923 440.34783,36.430973 442.54093,38.633823 C 444.98744,41.070593 446.20583,43.994723 446.20583,47.415943 L 446.20583,88.266003 z \" id=\"path56\" style=\"fill:#646464;fill-opacity:1\"/>\n",
        "    <path d=\"M 60.510156,6.3979729 C 55.926503,6.4192712 51.549217,6.8101906 47.697656,7.4917229 C 36.35144,9.4962267 34.291407,13.691825 34.291406,21.429223 L 34.291406,31.647973 L 61.103906,31.647973 L 61.103906,35.054223 L 34.291406,35.054223 L 24.228906,35.054223 C 16.436447,35.054223 9.6131468,39.73794 7.4789058,48.647973 C 5.0170858,58.860939 4.9078907,65.233996 7.4789058,75.897973 C 9.3848341,83.835825 13.936449,89.491721 21.728906,89.491723 L 30.947656,89.491723 L 30.947656,77.241723 C 30.947656,68.391821 38.6048,60.585475 47.697656,60.585473 L 74.478906,60.585473 C 81.933857,60.585473 87.885159,54.447309 87.885156,46.960473 L 87.885156,21.429223 C 87.885156,14.162884 81.755176,8.7044455 74.478906,7.4917229 C 69.872919,6.7249976 65.093809,6.3766746 60.510156,6.3979729 z M 46.010156,14.616723 C 48.779703,14.616723 51.041406,16.915369 51.041406,19.741723 C 51.041404,22.558059 48.779703,24.835473 46.010156,24.835473 C 43.23068,24.835472 40.978906,22.558058 40.978906,19.741723 C 40.978905,16.91537 43.23068,14.616723 46.010156,14.616723 z \" id=\"path1948\" style=\"fill:url(#linearGradient1478);fill-opacity:1\"/>\n",
        "    <path d=\"M 91.228906,35.054223 L 91.228906,46.960473 C 91.228906,56.191228 83.403011,63.960472 74.478906,63.960473 L 47.697656,63.960473 C 40.361823,63.960473 34.291407,70.238956 34.291406,77.585473 L 34.291406,103.11672 C 34.291406,110.38306 40.609994,114.65704 47.697656,116.74172 C 56.184987,119.23733 64.323893,119.68835 74.478906,116.74172 C 81.229061,114.78733 87.885159,110.85411 87.885156,103.11672 L 87.885156,92.897973 L 61.103906,92.897973 L 61.103906,89.491723 L 87.885156,89.491723 L 101.29141,89.491723 C 109.08387,89.491723 111.98766,84.056315 114.69765,75.897973 C 117.49698,67.499087 117.37787,59.422197 114.69765,48.647973 C 112.77187,40.890532 109.09378,35.054223 101.29141,35.054223 L 91.228906,35.054223 z M 76.166406,99.710473 C 78.945884,99.710476 81.197656,101.98789 81.197656,104.80422 C 81.197654,107.63057 78.945881,109.92922 76.166406,109.92922 C 73.396856,109.92922 71.135156,107.63057 71.135156,104.80422 C 71.135158,101.98789 73.396853,99.710473 76.166406,99.710473 z \" id=\"path1950\" style=\"fill:url(#linearGradient1475);fill-opacity:1\"/>\n",
        "    <path d=\"M 463.5544,26.909383 L 465.11635,26.909383 L 465.11635,17.113143 L 468.81648,17.113143 L 468.81648,15.945483 L 459.85427,15.945483 L 459.85427,17.113143 L 463.5544,17.113143 L 463.5544,26.909383 M 470.20142,26.909383 L 471.53589,26.909383 L 471.53589,17.962353 L 474.4323,26.908259 L 475.91799,26.908259 L 478.93615,17.992683 L 478.93615,26.909383 L 480.39194,26.909383 L 480.39194,15.945483 L 478.46605,15.945483 L 475.16774,25.33834 L 472.35477,15.945483 L 470.20142,15.945483 L 470.20142,26.909383\" id=\"text3004\" style=\"font-size:15.16445827px;font-style:normal;font-weight:normal;line-height:125%;fill:#646464;fill-opacity:1;stroke:none;stroke-width:1px;stroke-linecap:butt;stroke-linejoin:miter;stroke-opacity:1;font-family:Bitstream Vera Sans\"/>\n",
        "    <path d=\"M 110.46717 132.28575 A 48.948284 8.6066771 0 1 1  12.570599,132.28575 A 48.948284 8.6066771 0 1 1  110.46717 132.28575 z\" id=\"path1894\" style=\"opacity:0.44382019;fill:url(#radialGradient1480);fill-opacity:1;fill-rule:nonzero;stroke:none;stroke-width:20;stroke-miterlimit:4;stroke-dasharray:none;stroke-opacity:1\" transform=\"matrix(0.73406,0,0,0.809524,16.24958,27.00935)\"/>\n",
        "  </g>\n",
        "</svg>"
       ],
       "text": [
        "<IPython.core.display.SVG at 0x2c851d0>"
       ]
      }
     ],
     "prompt_number": 20
    },
    {
     "cell_type": "code",
     "collapsed": false,
     "input": [
      "from IPython.display import HTML\n",
      "HTML('<iframe src=http://www.genua.de width=650 height=250></iframe>')"
     ],
     "language": "python",
     "metadata": {},
     "outputs": [
      {
       "html": [
        "<iframe src=http://www.genua.de width=650 height=250></iframe>"
       ],
       "output_type": "pyout",
       "prompt_number": 21,
       "text": [
        "<IPython.core.display.HTML at 0x1f65d10>"
       ]
      }
     ],
     "prompt_number": 21
    },
    {
     "cell_type": "code",
     "collapsed": false,
     "input": [
      "from IPython.display import YouTubeVideo\n",
      "YouTubeVideo(\"2G5YTlheCbw\")"
     ],
     "language": "python",
     "metadata": {},
     "outputs": [
      {
       "html": [
        "\n",
        "            <iframe\n",
        "                width=\"400\"\n",
        "                height=\"300\"\n",
        "                src=\"http://www.youtube.com/embed/2G5YTlheCbw\"\n",
        "                frameborder=\"0\"\n",
        "                allowfullscreen\n",
        "            ></iframe>\n",
        "        "
       ],
       "output_type": "pyout",
       "prompt_number": 22,
       "text": [
        "<IPython.lib.display.YouTubeVideo at 0x2bc0f50>"
       ]
      }
     ],
     "prompt_number": 22
    },
    {
     "cell_type": "code",
     "collapsed": false,
     "input": [
      "import IPython\n",
      "IPython.display.Math(r\"\\sum_{n=1}^\\infty \\frac{1}{n^2} = \\frac{\\pi^2}{6}\")"
     ],
     "language": "python",
     "metadata": {},
     "outputs": [
      {
       "latex": [
        "$$\\sum_{n=1}^\\infty \\frac{1}{n^2} = \\frac{\\pi^2}{6}$$"
       ],
       "output_type": "pyout",
       "prompt_number": 23,
       "text": [
        "<IPython.core.display.Math at 0x2bc0f90>"
       ]
      }
     ],
     "prompt_number": 23
    },
    {
     "cell_type": "markdown",
     "metadata": {},
     "source": [
      "LaTeX innerhalb von Markdown geht auch: $\\frac{1}{\\sqrt{ 2 \\pi \\sigma^2 }} e^{ - \\frac{ (x - \\mu)^2 } {2 \\sigma^2} }$"
     ]
    },
    {
     "cell_type": "heading",
     "level": 3,
     "metadata": {},
     "source": [
      "Darstellungen f\u00fcr eigene Objekte:"
     ]
    },
    {
     "cell_type": "code",
     "collapsed": false,
     "input": [
      "class Disc(object):\n",
      "    def __init__(self, size, color='red'):\n",
      "        self.size = size\n",
      "        self.color = color\n",
      "        \n",
      "    def _repr_svg_(self):\n",
      "        return \"\"\"<svg xmlns=\"http://www.w3.org/2000/svg\" version=\"1.1\">\n",
      "                  <circle cx=\"{0:d}\" cy=\"{0:d}\" r=\"{0:d}\" fill=\"{1:s}\" />\n",
      "                  </svg>\"\"\".format(self.size, self.color)"
     ],
     "language": "python",
     "metadata": {},
     "outputs": [],
     "prompt_number": 24
    },
    {
     "cell_type": "code",
     "collapsed": false,
     "input": [
      "Disc(65, \"blue\")"
     ],
     "language": "python",
     "metadata": {},
     "outputs": [
      {
       "output_type": "pyout",
       "prompt_number": 25,
       "svg": [
        "<svg xmlns=\"http://www.w3.org/2000/svg\" version=\"1.1\">\n",
        "                  <circle cx=\"65\" cy=\"65\" r=\"65\" fill=\"blue\" />\n",
        "                  </svg>"
       ],
       "text": [
        "<__main__.Disc at 0x2bc0510>"
       ]
      }
     ],
     "prompt_number": 25
    },
    {
     "cell_type": "heading",
     "level": 1,
     "metadata": {},
     "source": [
      "SymPy"
     ]
    },
    {
     "cell_type": "code",
     "collapsed": false,
     "input": [
      "from sympy import *\n",
      "%load_ext sympy.interactive.ipythonprinting\n",
      "x = Symbol('x')"
     ],
     "language": "python",
     "metadata": {},
     "outputs": [
      {
       "output_type": "stream",
       "stream": "stderr",
       "text": [
        "/usr/lib/pymodules/python2.7/mpl_toolkits/__init__.py:2: UserWarning: Module mpl_toolkits was already imported from /usr/lib/pymodules/python2.7/mpl_toolkits/__init__.pyc, but /usr/local/lib/python2.7/dist-packages is being added to sys.path\n",
        "  __import__('pkg_resources').declare_namespace(__name__)\n"
       ]
      }
     ],
     "prompt_number": 26
    },
    {
     "cell_type": "code",
     "collapsed": false,
     "input": [
      "pi.evalf(100)"
     ],
     "language": "python",
     "metadata": {},
     "outputs": [
      {
       "latex": [
        "$$3.141592653589793238462643383279502884197169399375105820974944592307816406286208998628034825342117068$$"
       ],
       "output_type": "pyout",
       "png": "[encoded data removed]",
       "prompt_number": 27,
       "text": [
        "3.1415926535897932384626433832795028841971693993751058209749445923078164062862\n",
        "08998628034825342117068"
       ]
      }
     ],
     "prompt_number": 27
    },
    {
     "cell_type": "code",
     "collapsed": false,
     "input": [
      "(pi+x*2)**3"
     ],
     "language": "python",
     "metadata": {},
     "outputs": [
      {
       "latex": [
        "$$\\left(2 x + \\pi\\right)^{3}$$"
       ],
       "output_type": "pyout",
       "png": "[encoded data removed]",
       "prompt_number": 28,
       "text": [
        "         3\n",
        "(2\u22c5x + \u03c0) "
       ]
      }
     ],
     "prompt_number": 28
    },
    {
     "cell_type": "code",
     "collapsed": false,
     "input": [
      "((pi+x*2)**3).expand()"
     ],
     "language": "python",
     "metadata": {},
     "outputs": [
      {
       "latex": [
        "$$8 x^{3} + 12 \\pi x^{2} + 6 \\pi^{2} x + \\pi^{3}$$"
       ],
       "output_type": "pyout",
       "png": "[encoded data removed]",
       "prompt_number": 29,
       "text": [
        "   3         2      2      3\n",
        "8\u22c5x  + 12\u22c5\u03c0\u22c5x  + 6\u22c5\u03c0 \u22c5x + \u03c0 "
       ]
      }
     ],
     "prompt_number": 29
    },
    {
     "cell_type": "heading",
     "level": 1,
     "metadata": {},
     "source": [
      "SQL Extension"
     ]
    },
    {
     "cell_type": "code",
     "collapsed": false,
     "input": [
      "%load_ext sql"
     ],
     "language": "python",
     "metadata": {},
     "outputs": [],
     "prompt_number": 30
    },
    {
     "cell_type": "code",
     "collapsed": false,
     "input": [
      "rm -rf foo.db"
     ],
     "language": "python",
     "metadata": {},
     "outputs": [],
     "prompt_number": 31
    },
    {
     "cell_type": "code",
     "collapsed": false,
     "input": [
      "%sql sqlite:///foo.db"
     ],
     "language": "python",
     "metadata": {},
     "outputs": [
      {
       "output_type": "pyout",
       "prompt_number": 32,
       "text": [
        "u'Connected: None@foo.db'"
       ]
      }
     ],
     "prompt_number": 32
    },
    {
     "cell_type": "code",
     "collapsed": false,
     "input": [
      "%%sql sqlite:///foo.db\n",
      "CREATE TABLE writer (first_name, last_name, year_of_death);\n",
      "INSERT INTO writer VALUES ('William', 'Shakespeare', 1616);\n",
      "INSERT INTO writer VALUES ('Bertold', 'Brecht', 1956);"
     ],
     "language": "python",
     "metadata": {},
     "outputs": [
      {
       "latex": [
        "$$\\begin{bmatrix}\\end{bmatrix}$$"
       ],
       "output_type": "pyout",
       "prompt_number": 33,
       "text": [
        "[]"
       ]
      }
     ],
     "prompt_number": 33
    },
    {
     "cell_type": "code",
     "collapsed": false,
     "input": [
      "%%sql select * from writer"
     ],
     "language": "python",
     "metadata": {},
     "outputs": [
      {
       "html": [
        "<table>\n",
        "    <tr>\n",
        "        <th>first_name</th>\n",
        "        <th>last_name</th>\n",
        "        <th>year_of_death</th>\n",
        "    </tr>\n",
        "    <tr>\n",
        "        <td>William</td>\n",
        "        <td>Shakespeare</td>\n",
        "        <td>1616</td>\n",
        "    </tr>\n",
        "    <tr>\n",
        "        <td>Bertold</td>\n",
        "        <td>Brecht</td>\n",
        "        <td>1956</td>\n",
        "    </tr>\n",
        "</table>"
       ],
       "output_type": "pyout",
       "prompt_number": 34,
       "text": [
        "[(u'William', u'Shakespeare', 1616), (u'Bertold', u'Brecht', 1956)]"
       ]
      }
     ],
     "prompt_number": 34
    }
   ],
   "metadata": {}
  }
 ]
}