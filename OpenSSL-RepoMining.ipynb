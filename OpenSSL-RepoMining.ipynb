{
 "metadata": {
  "name": ""
 },
 "nbformat": 3,
 "nbformat_minor": 0,
 "worksheets": [
  {
   "cells": [
    {
     "cell_type": "heading",
     "level": 1,
     "metadata": {},
     "source": [
      "OpenSSL Repository Mining"
     ]
    },
    {
     "cell_type": "markdown",
     "metadata": {},
     "source": [
      "Dirk Loss / @dloss, v1.0, 2014-04-17"
     ]
    },
    {
     "cell_type": "markdown",
     "metadata": {},
     "source": [
      "The OpenSSL project has a public git repository. Let's clone it and see if we can use it to answer some simple questions."
     ]
    },
    {
     "cell_type": "code",
     "collapsed": false,
     "input": [
      "%time !git clone git://git.openssl.org/openssl.git"
     ],
     "language": "python",
     "metadata": {},
     "outputs": [
      {
       "output_type": "stream",
       "stream": "stdout",
       "text": [
        "Cloning into 'openssl'...\r\n"
       ]
      },
      {
       "output_type": "stream",
       "stream": "stdout",
       "text": [
        "remote: Counting objects: 85346   \u001b[K\r"
       ]
      },
      {
       "output_type": "stream",
       "stream": "stdout",
       "text": [
        "remote: Counting objects: 138452, done.\u001b[K\r\n"
       ]
      },
      {
       "output_type": "stream",
       "stream": "stdout",
       "text": [
        "remote: Compressing objects:   0% (1/29938)   \u001b[K\r",
        "remote: Compressing objects:   1% (300/29938)   \u001b[K\r",
        "remote: Compressing objects:   2% (599/29938)   \u001b[K\r",
        "remote: Compressing objects:   3% (899/29938)   \u001b[K\r",
        "remote: Compressing objects:   4% (1198/29938)   \u001b[K\r",
        "remote: Compressing objects:   5% (1497/29938)   \u001b[K\r",
        "remote: Compressing objects:   6% (1797/29938)   \u001b[K\r",
        "remote: Compressing objects:   7% (2096/29938)   \u001b[K\r",
        "remote: Compressing objects:   8% (2396/29938)   \u001b[K\r",
        "remote: Compressing objects:   9% (2695/29938)   \u001b[K\r",
        "remote: Compressing objects:  10% (2994/29938)   \u001b[K\r",
        "remote: Compressing objects:  11% (3294/29938)   \u001b[K\r",
        "remote: Compressing objects:  12% (3593/29938)   \u001b[K\r"
       ]
      },
      {
       "output_type": "stream",
       "stream": "stdout",
       "text": [
        "remote: Compressing objects:  13% (3892/29938)   \u001b[K\r",
        "remote: Compressing objects:  14% (4192/29938)   \u001b[K\r",
        "remote: Compressing objects:  15% (4491/29938)   \u001b[K\r",
        "remote: Compressing objects:  16% (4791/29938)   \u001b[K\r",
        "remote: Compressing objects:  17% (5090/29938)   \u001b[K\r",
        "remote: Compressing objects:  18% (5389/29938)   \u001b[K\r",
        "remote: Compressing objects:  19% (5689/29938)   \u001b[K\r",
        "remote: Compressing objects:  20% (5988/29938)   \u001b[K\r",
        "remote: Compressing objects:  21% (6287/29938)   \u001b[K\r",
        "remote: Compressing objects:  22% (6587/29938)   \u001b[K\r",
        "remote: Compressing objects:  23% (6886/29938)   \u001b[K\r",
        "remote: Compressing objects:  24% (7186/29938)   \u001b[K\r",
        "remote: Compressing objects:  25% (7485/29938)   \u001b[K\r",
        "remote: Compressing objects:  26% (7784/29938)   \u001b[K\r",
        "remote: Compressing objects:  27% (8084/29938)   \u001b[K\r",
        "remote: Compressing objects:  28% (8383/29938)   \u001b[K\r",
        "remote: Compressing objects:  29% (8683/29938)   \u001b[K\r",
        "remote: Compressing objects:  30% (8982/29938)   \u001b[K\r",
        "remote: Compressing objects:  31% (9281/29938)   \u001b[K\r",
        "remote: Compressing objects:  32% (9581/29938)   \u001b[K\r"
       ]
      },
      {
       "output_type": "stream",
       "stream": "stdout",
       "text": [
        "remote: Compressing objects:  33% (9880/29938)   \u001b[K\r",
        "remote: Compressing objects:  34% (10179/29938)   \u001b[K\r",
        "remote: Compressing objects:  35% (10479/29938)   \u001b[K\r",
        "remote: Compressing objects:  36% (10778/29938)   \u001b[K\r",
        "remote: Compressing objects:  37% (11078/29938)   \u001b[K\r",
        "remote: Compressing objects:  38% (11377/29938)   \u001b[K\r",
        "remote: Compressing objects:  39% (11676/29938)   \u001b[K\r",
        "remote: Compressing objects:  40% (11976/29938)   \u001b[K\r",
        "remote: Compressing objects:  41% (12275/29938)   \u001b[K\r",
        "remote: Compressing objects:  42% (12574/29938)   \u001b[K\r",
        "remote: Compressing objects:  43% (12874/29938)   \u001b[K\r",
        "remote: Compressing objects:  44% (13173/29938)   \u001b[K\r",
        "remote: Compressing objects:  45% (13473/29938)   \u001b[K\r",
        "remote: Compressing objects:  46% (13772/29938)   \u001b[K\r",
        "remote: Compressing objects:  47% (14071/29938)   \u001b[K\r",
        "remote: Compressing objects:  48% (14371/29938)   \u001b[K\r"
       ]
      },
      {
       "output_type": "stream",
       "stream": "stdout",
       "text": [
        "remote: Compressing objects:  49% (14670/29938)   \u001b[K\r",
        "remote: Compressing objects:  50% (14969/29938)   \u001b[K\r",
        "remote: Compressing objects:  51% (15269/29938)   \u001b[K\r",
        "remote: Compressing objects:  52% (15568/29938)   \u001b[K\r",
        "remote: Compressing objects:  53% (15868/29938)   \u001b[K\r",
        "remote: Compressing objects:  54% (16167/29938)   \u001b[K\r",
        "remote: Compressing objects:  55% (16466/29938)   \u001b[K\r",
        "remote: Compressing objects:  56% (16766/29938)   \u001b[K\r"
       ]
      },
      {
       "output_type": "stream",
       "stream": "stdout",
       "text": [
        "remote: Compressing objects:  57% (17065/29938)   \u001b[K\r",
        "remote: Compressing objects:  58% (17365/29938)   \u001b[K\r",
        "remote: Compressing objects:  59% (17664/29938)   \u001b[K\r",
        "remote: Compressing objects:  60% (17963/29938)   \u001b[K\r",
        "remote: Compressing objects:  61% (18263/29938)   \u001b[K\r",
        "remote: Compressing objects:  62% (18562/29938)   \u001b[K\r",
        "remote: Compressing objects:  63% (18861/29938)   \u001b[K\r",
        "remote: Compressing objects:  64% (19161/29938)   \u001b[K\r",
        "remote: Compressing objects:  65% (19460/29938)   \u001b[K\r",
        "remote: Compressing objects:  66% (19760/29938)   \u001b[K\r",
        "remote: Compressing objects:  67% (20059/29938)   \u001b[K\r"
       ]
      },
      {
       "output_type": "stream",
       "stream": "stdout",
       "text": [
        "remote: Compressing objects:  68% (20358/29938)   \u001b[K\r",
        "remote: Compressing objects:  69% (20658/29938)   \u001b[K\r",
        "remote: Compressing objects:  70% (20957/29938)   \u001b[K\r",
        "remote: Compressing objects:  71% (21256/29938)   \u001b[K\r",
        "remote: Compressing objects:  72% (21556/29938)   \u001b[K\r",
        "remote: Compressing objects:  73% (21855/29938)   \u001b[K\r"
       ]
      },
      {
       "output_type": "stream",
       "stream": "stdout",
       "text": [
        "remote: Compressing objects:  74% (22155/29938)   \u001b[K\r",
        "remote: Compressing objects:  75% (22454/29938)   \u001b[K\r",
        "remote: Compressing objects:  76% (22753/29938)   \u001b[K\r"
       ]
      },
      {
       "output_type": "stream",
       "stream": "stdout",
       "text": [
        "remote: Compressing objects:  77% (23053/29938)   \u001b[K\r",
        "remote: Compressing objects:  78% (23352/29938)   \u001b[K\r",
        "remote: Compressing objects:  79% (23652/29938)   \u001b[K\r",
        "remote: Compressing objects:  80% (23951/29938)   \u001b[K\r",
        "remote: Compressing objects:  81% (24250/29938)   \u001b[K\r",
        "remote: Compressing objects:  82% (24550/29938)   \u001b[K\r",
        "remote: Compressing objects:  83% (24849/29938)   \u001b[K\r"
       ]
      },
      {
       "output_type": "stream",
       "stream": "stdout",
       "text": [
        "remote: Compressing objects:  84% (25148/29938)   \u001b[K\r",
        "remote: Compressing objects:  85% (25448/29938)   \u001b[K\r",
        "remote: Compressing objects:  86% (25747/29938)   \u001b[K\r",
        "remote: Compressing objects:  87% (26047/29938)   \u001b[K\r",
        "remote: Compressing objects:  88% (26346/29938)   \u001b[K\r"
       ]
      },
      {
       "output_type": "stream",
       "stream": "stdout",
       "text": [
        "remote: Compressing objects:  89% (26645/29938)   \u001b[K\r",
        "remote: Compressing objects:  90% (26945/29938)   \u001b[K\r"
       ]
      },
      {
       "output_type": "stream",
       "stream": "stdout",
       "text": [
        "remote: Compressing objects:  91% (27244/29938)   \u001b[K\r",
        "remote: Compressing objects:  92% (27543/29938)   \u001b[K\r"
       ]
      },
      {
       "output_type": "stream",
       "stream": "stdout",
       "text": [
        "remote: Compressing objects:  93% (27843/29938)   \u001b[K\r",
        "remote: Compressing objects:  94% (28142/29938)   \u001b[K\r"
       ]
      },
      {
       "output_type": "stream",
       "stream": "stdout",
       "text": [
        "remote: Compressing objects:  95% (28442/29938)   \u001b[K\r"
       ]
      },
      {
       "output_type": "stream",
       "stream": "stdout",
       "text": [
        "remote: Compressing objects:  96% (28741/29938)   \u001b[K\r"
       ]
      },
      {
       "output_type": "stream",
       "stream": "stdout",
       "text": [
        "remote: Compressing objects:  97% (29040/29938)   \u001b[K\r"
       ]
      },
      {
       "output_type": "stream",
       "stream": "stdout",
       "text": [
        "remote: Compressing objects:  98% (29340/29938)   \u001b[K\r"
       ]
      },
      {
       "output_type": "stream",
       "stream": "stdout",
       "text": [
        "remote: Compressing objects:  98% (29626/29938)   \u001b[K\r",
        "remote: Compressing objects:  99% (29639/29938)   \u001b[K\r"
       ]
      },
      {
       "output_type": "stream",
       "stream": "stdout",
       "text": [
        "remote: Compressing objects: 100% (29938/29938)   \u001b[K\r",
        "remote: Compressing objects: 100% (29938/29938), done.\u001b[K\r\n",
        "Receiving objects:   0% (1/138452)   \r"
       ]
      },
      {
       "output_type": "stream",
       "stream": "stdout",
       "text": [
        "Receiving objects:   1% (1385/138452)   \r"
       ]
      },
      {
       "output_type": "stream",
       "stream": "stdout",
       "text": [
        "Receiving objects:   2% (2770/138452), 324.00 KiB | 624.00 KiB/s   \r"
       ]
      },
      {
       "output_type": "stream",
       "stream": "stdout",
       "text": [
        "Receiving objects:   2% (3715/138452), 324.00 KiB | 624.00 KiB/s   \r"
       ]
      },
      {
       "output_type": "stream",
       "stream": "stdout",
       "text": [
        "Receiving objects:   3% (4154/138452), 756.00 KiB | 741.00 KiB/s   \r"
       ]
      },
      {
       "output_type": "stream",
       "stream": "stdout",
       "text": [
        "Receiving objects:   4% (5539/138452), 1.08 MiB | 721.00 KiB/s   \r"
       ]
      },
      {
       "output_type": "stream",
       "stream": "stdout",
       "text": [
        "Receiving objects:   5% (6923/138452), 1.08 MiB | 721.00 KiB/s   \r"
       ]
      },
      {
       "output_type": "stream",
       "stream": "stdout",
       "text": [
        "Receiving objects:   5% (7285/138452), 1.08 MiB | 721.00 KiB/s   \r"
       ]
      },
      {
       "output_type": "stream",
       "stream": "stdout",
       "text": [
        "Receiving objects:   6% (8308/138452), 1.45 MiB | 726.00 KiB/s   \r"
       ]
      },
      {
       "output_type": "stream",
       "stream": "stdout",
       "text": [
        "Receiving objects:   7% (9692/138452), 1.86 MiB | 745.00 KiB/s   \r"
       ]
      },
      {
       "output_type": "stream",
       "stream": "stdout",
       "text": [
        "Receiving objects:   8% (11077/138452), 1.86 MiB | 745.00 KiB/s   \r"
       ]
      },
      {
       "output_type": "stream",
       "stream": "stdout",
       "text": [
        "Receiving objects:   8% (11387/138452), 1.86 MiB | 745.00 KiB/s   \r"
       ]
      },
      {
       "output_type": "stream",
       "stream": "stdout",
       "text": [
        "Receiving objects:   9% (12461/138452), 2.22 MiB | 745.00 KiB/s   \r"
       ]
      },
      {
       "output_type": "stream",
       "stream": "stdout",
       "text": [
        "Receiving objects:  10% (13846/138452), 2.57 MiB | 738.00 KiB/s   \r"
       ]
      },
      {
       "output_type": "stream",
       "stream": "stdout",
       "text": [
        "Receiving objects:  10% (14773/138452), 2.57 MiB | 738.00 KiB/s   \r"
       ]
      },
      {
       "output_type": "stream",
       "stream": "stdout",
       "text": [
        "Receiving objects:  11% (15230/138452), 2.92 MiB | 735.00 KiB/s   \r"
       ]
      },
      {
       "output_type": "stream",
       "stream": "stdout",
       "text": [
        "Receiving objects:  12% (16615/138452), 2.92 MiB | 735.00 KiB/s   \r"
       ]
      },
      {
       "output_type": "stream",
       "stream": "stdout",
       "text": [
        "Receiving objects:  13% (17999/138452), 3.28 MiB | 735.00 KiB/s   \r"
       ]
      },
      {
       "output_type": "stream",
       "stream": "stdout",
       "text": [
        "Receiving objects:  13% (18178/138452), 3.28 MiB | 735.00 KiB/s   \r"
       ]
      },
      {
       "output_type": "stream",
       "stream": "stdout",
       "text": [
        "Receiving objects:  14% (19384/138452), 3.63 MiB | 744.00 KiB/s   \r"
       ]
      },
      {
       "output_type": "stream",
       "stream": "stdout",
       "text": [
        "Receiving objects:  15% (20768/138452), 3.99 MiB | 732.00 KiB/s   \r"
       ]
      },
      {
       "output_type": "stream",
       "stream": "stdout",
       "text": [
        "Receiving objects:  15% (21967/138452), 3.99 MiB | 732.00 KiB/s   \r"
       ]
      },
      {
       "output_type": "stream",
       "stream": "stdout",
       "text": [
        "Receiving objects:  16% (22153/138452), 4.36 MiB | 740.00 KiB/s   \r"
       ]
      },
      {
       "output_type": "stream",
       "stream": "stdout",
       "text": [
        "Receiving objects:  16% (22499/138452), 4.75 MiB | 743.00 KiB/s   \r"
       ]
      },
      {
       "output_type": "stream",
       "stream": "stdout",
       "text": [
        "Receiving objects:  16% (23111/138452), 5.58 MiB | 758.00 KiB/s   \r"
       ]
      },
      {
       "output_type": "stream",
       "stream": "stdout",
       "text": [
        "Receiving objects:  17% (23537/138452), 6.42 MiB | 787.00 KiB/s   \r"
       ]
      },
      {
       "output_type": "stream",
       "stream": "stdout",
       "text": [
        "Receiving objects:  17% (23792/138452), 6.42 MiB | 787.00 KiB/s   \r"
       ]
      },
      {
       "output_type": "stream",
       "stream": "stdout",
       "text": [
        "Receiving objects:  17% (24498/138452), 7.25 MiB | 816.00 KiB/s   \r"
       ]
      },
      {
       "output_type": "stream",
       "stream": "stdout",
       "text": [
        "Receiving objects:  18% (24922/138452), 7.68 MiB | 829.00 KiB/s   \r"
       ]
      },
      {
       "output_type": "stream",
       "stream": "stdout",
       "text": [
        "Receiving objects:  18% (25222/138452), 8.07 MiB | 834.00 KiB/s   \r"
       ]
      },
      {
       "output_type": "stream",
       "stream": "stdout",
       "text": [
        "Receiving objects:  18% (25947/138452), 8.91 MiB | 843.00 KiB/s   \r"
       ]
      },
      {
       "output_type": "stream",
       "stream": "stdout",
       "text": [
        "Receiving objects:  19% (26306/138452), 9.32 MiB | 839.00 KiB/s   \r"
       ]
      },
      {
       "output_type": "stream",
       "stream": "stdout",
       "text": [
        "Receiving objects:  20% (27691/138452), 9.72 MiB | 835.00 KiB/s   \r"
       ]
      },
      {
       "output_type": "stream",
       "stream": "stdout",
       "text": [
        "Receiving objects:  20% (28446/138452), 9.72 MiB | 835.00 KiB/s   \r"
       ]
      },
      {
       "output_type": "stream",
       "stream": "stdout",
       "text": [
        "Receiving objects:  21% (29075/138452), 9.72 MiB | 835.00 KiB/s   \r"
       ]
      },
      {
       "output_type": "stream",
       "stream": "stdout",
       "text": [
        "Receiving objects:  22% (30460/138452), 10.53 MiB | 832.00 KiB/s   \r"
       ]
      },
      {
       "output_type": "stream",
       "stream": "stdout",
       "text": [
        "Receiving objects:  22% (30839/138452), 10.53 MiB | 832.00 KiB/s   \r"
       ]
      },
      {
       "output_type": "stream",
       "stream": "stdout",
       "text": [
        "Receiving objects:  23% (31844/138452), 10.93 MiB | 828.00 KiB/s   \r"
       ]
      },
      {
       "output_type": "stream",
       "stream": "stdout",
       "text": [
        "Receiving objects:  23% (32642/138452), 11.35 MiB | 825.00 KiB/s   \r"
       ]
      },
      {
       "output_type": "stream",
       "stream": "stdout",
       "text": [
        "Receiving objects:  24% (33229/138452), 11.77 MiB | 830.00 KiB/s   \r"
       ]
      },
      {
       "output_type": "stream",
       "stream": "stdout",
       "text": [
        "Receiving objects:  25% (34613/138452), 12.18 MiB | 828.00 KiB/s   \r"
       ]
      },
      {
       "output_type": "stream",
       "stream": "stdout",
       "text": [
        "Receiving objects:  25% (35515/138452), 12.18 MiB | 828.00 KiB/s   \r"
       ]
      },
      {
       "output_type": "stream",
       "stream": "stdout",
       "text": [
        "Receiving objects:  26% (35998/138452), 12.61 MiB | 832.00 KiB/s   \r"
       ]
      },
      {
       "output_type": "stream",
       "stream": "stdout",
       "text": [
        "Receiving objects:  27% (37383/138452), 13.04 MiB | 836.00 KiB/s   \r"
       ]
      },
      {
       "output_type": "stream",
       "stream": "stdout",
       "text": [
        "Receiving objects:  27% (37782/138452), 13.04 MiB | 836.00 KiB/s   \r"
       ]
      },
      {
       "output_type": "stream",
       "stream": "stdout",
       "text": [
        "Receiving objects:  28% (38767/138452), 13.38 MiB | 823.00 KiB/s   \r"
       ]
      },
      {
       "output_type": "stream",
       "stream": "stdout",
       "text": [
        "Receiving objects:  28% (39960/138452), 13.78 MiB | 822.00 KiB/s   \r"
       ]
      },
      {
       "output_type": "stream",
       "stream": "stdout",
       "text": [
        "Receiving objects:  29% (40152/138452), 13.78 MiB | 822.00 KiB/s   \r"
       ]
      },
      {
       "output_type": "stream",
       "stream": "stdout",
       "text": [
        "Receiving objects:  30% (41536/138452), 14.44 MiB | 787.00 KiB/s   \r"
       ]
      },
      {
       "output_type": "stream",
       "stream": "stdout",
       "text": [
        "Receiving objects:  30% (41802/138452), 14.44 MiB | 787.00 KiB/s   \r"
       ]
      },
      {
       "output_type": "stream",
       "stream": "stdout",
       "text": [
        "Receiving objects:  31% (42921/138452), 14.93 MiB | 707.00 KiB/s   \r"
       ]
      },
      {
       "output_type": "stream",
       "stream": "stdout",
       "text": [
        "Receiving objects:  31% (43014/138452), 14.93 MiB | 707.00 KiB/s   \r"
       ]
      },
      {
       "output_type": "stream",
       "stream": "stdout",
       "text": [
        "Receiving objects:  32% (44305/138452), 15.30 MiB | 603.00 KiB/s   \r"
       ]
      },
      {
       "output_type": "stream",
       "stream": "stdout",
       "text": [
        "Receiving objects:  32% (44473/138452), 15.30 MiB | 603.00 KiB/s   \r"
       ]
      },
      {
       "output_type": "stream",
       "stream": "stdout",
       "text": [
        "Receiving objects:  32% (45463/138452), 15.80 MiB | 542.00 KiB/s   \r"
       ]
      },
      {
       "output_type": "stream",
       "stream": "stdout",
       "text": [
        "Receiving objects:  33% (45690/138452), 15.80 MiB | 542.00 KiB/s   \r"
       ]
      },
      {
       "output_type": "stream",
       "stream": "stdout",
       "text": [
        "Receiving objects:  33% (46675/138452), 16.23 MiB | 463.00 KiB/s   \r"
       ]
      },
      {
       "output_type": "stream",
       "stream": "stdout",
       "text": [
        "Receiving objects:  34% (47074/138452), 16.46 MiB | 451.00 KiB/s   \r"
       ]
      },
      {
       "output_type": "stream",
       "stream": "stdout",
       "text": [
        "Receiving objects:  34% (48055/138452), 16.69 MiB | 446.00 KiB/s   \r"
       ]
      },
      {
       "output_type": "stream",
       "stream": "stdout",
       "text": [
        "Receiving objects:  35% (48459/138452), 16.69 MiB | 446.00 KiB/s   \r"
       ]
      },
      {
       "output_type": "stream",
       "stream": "stdout",
       "text": [
        "Receiving objects:  35% (49646/138452), 17.14 MiB | 453.00 KiB/s   \r"
       ]
      },
      {
       "output_type": "stream",
       "stream": "stdout",
       "text": [
        "Receiving objects:  36% (49843/138452), 17.14 MiB | 453.00 KiB/s   \r"
       ]
      },
      {
       "output_type": "stream",
       "stream": "stdout",
       "text": [
        "Receiving objects:  37% (51228/138452), 17.67 MiB | 470.00 KiB/s   \r"
       ]
      },
      {
       "output_type": "stream",
       "stream": "stdout",
       "text": [
        "Receiving objects:  37% (51309/138452), 17.67 MiB | 470.00 KiB/s   \r"
       ]
      },
      {
       "output_type": "stream",
       "stream": "stdout",
       "text": [
        "Receiving objects:  38% (52612/138452), 18.19 MiB | 484.00 KiB/s   \r"
       ]
      },
      {
       "output_type": "stream",
       "stream": "stdout",
       "text": [
        "Receiving objects:  38% (52781/138452), 18.19 MiB | 484.00 KiB/s   \r"
       ]
      },
      {
       "output_type": "stream",
       "stream": "stdout",
       "text": [
        "Receiving objects:  39% (53997/138452), 18.46 MiB | 496.00 KiB/s   \r"
       ]
      },
      {
       "output_type": "stream",
       "stream": "stdout",
       "text": [
        "Receiving objects:  39% (54239/138452), 18.69 MiB | 498.00 KiB/s   \r"
       ]
      },
      {
       "output_type": "stream",
       "stream": "stdout",
       "text": [
        "Receiving objects:  39% (54984/138452), 19.21 MiB | 511.00 KiB/s   \r"
       ]
      },
      {
       "output_type": "stream",
       "stream": "stdout",
       "text": [
        "Receiving objects:  40% (55381/138452), 19.21 MiB | 511.00 KiB/s   \r"
       ]
      },
      {
       "output_type": "stream",
       "stream": "stdout",
       "text": [
        "Receiving objects:  41% (56766/138452), 19.51 MiB | 527.00 KiB/s   \r"
       ]
      },
      {
       "output_type": "stream",
       "stream": "stdout",
       "text": [
        "Receiving objects:  41% (57258/138452), 19.81 MiB | 541.00 KiB/s   \r"
       ]
      },
      {
       "output_type": "stream",
       "stream": "stdout",
       "text": [
        "Receiving objects:  42% (58150/138452), 19.81 MiB | 541.00 KiB/s   \r"
       ]
      },
      {
       "output_type": "stream",
       "stream": "stdout",
       "text": [
        "Receiving objects:  42% (59201/138452), 20.54 MiB | 576.00 KiB/s   \r"
       ]
      },
      {
       "output_type": "stream",
       "stream": "stdout",
       "text": [
        "Receiving objects:  43% (59535/138452), 20.54 MiB | 576.00 KiB/s   \r"
       ]
      },
      {
       "output_type": "stream",
       "stream": "stdout",
       "text": [
        "Receiving objects:  44% (60919/138452), 20.96 MiB | 618.00 KiB/s   \r"
       ]
      },
      {
       "output_type": "stream",
       "stream": "stdout",
       "text": [
        "Receiving objects:  44% (61280/138452), 21.39 MiB | 641.00 KiB/s   \r"
       ]
      },
      {
       "output_type": "stream",
       "stream": "stdout",
       "text": [
        "Receiving objects:  45% (62304/138452), 21.39 MiB | 641.00 KiB/s   \r"
       ]
      },
      {
       "output_type": "stream",
       "stream": "stdout",
       "text": [
        "Receiving objects:  45% (63564/138452), 21.86 MiB | 692.00 KiB/s   \r"
       ]
      },
      {
       "output_type": "stream",
       "stream": "stdout",
       "text": [
        "Receiving objects:  46% (63688/138452), 22.28 MiB | 726.00 KiB/s   \r"
       ]
      },
      {
       "output_type": "stream",
       "stream": "stdout",
       "text": [
        "Receiving objects:  47% (65073/138452), 22.70 MiB | 765.00 KiB/s   \r"
       ]
      },
      {
       "output_type": "stream",
       "stream": "stdout",
       "text": [
        "Receiving objects:  47% (65905/138452), 22.70 MiB | 765.00 KiB/s   \r"
       ]
      },
      {
       "output_type": "stream",
       "stream": "stdout",
       "text": [
        "Receiving objects:  48% (66457/138452), 23.13 MiB | 796.00 KiB/s   \r"
       ]
      },
      {
       "output_type": "stream",
       "stream": "stdout",
       "text": [
        "Receiving objects:  49% (67842/138452), 23.55 MiB | 826.00 KiB/s   \r"
       ]
      },
      {
       "output_type": "stream",
       "stream": "stdout",
       "text": [
        "Receiving objects:  49% (68422/138452), 23.55 MiB | 826.00 KiB/s   \r"
       ]
      },
      {
       "output_type": "stream",
       "stream": "stdout",
       "text": [
        "Receiving objects:  50% (69226/138452), 23.97 MiB | 844.00 KiB/s   \r"
       ]
      },
      {
       "output_type": "stream",
       "stream": "stdout",
       "text": [
        "Receiving objects:  50% (70002/138452), 24.36 MiB | 845.00 KiB/s   \r"
       ]
      },
      {
       "output_type": "stream",
       "stream": "stdout",
       "text": [
        "Receiving objects:  51% (70611/138452), 24.71 MiB | 827.00 KiB/s   \r"
       ]
      },
      {
       "output_type": "stream",
       "stream": "stdout",
       "text": [
        "Receiving objects:  51% (71440/138452), 25.13 MiB | 845.00 KiB/s   \r"
       ]
      },
      {
       "output_type": "stream",
       "stream": "stdout",
       "text": [
        "Receiving objects:  52% (71996/138452), 25.55 MiB | 835.00 KiB/s   \r"
       ]
      },
      {
       "output_type": "stream",
       "stream": "stdout",
       "text": [
        "Receiving objects:  53% (73380/138452), 25.97 MiB | 834.00 KiB/s   \r"
       ]
      },
      {
       "output_type": "stream",
       "stream": "stdout",
       "text": [
        "Receiving objects:  53% (73728/138452), 25.97 MiB | 834.00 KiB/s   \r"
       ]
      },
      {
       "output_type": "stream",
       "stream": "stdout",
       "text": [
        "Receiving objects:  54% (74765/138452), 26.39 MiB | 835.00 KiB/s   \r"
       ]
      },
      {
       "output_type": "stream",
       "stream": "stdout",
       "text": [
        "Receiving objects:  55% (76149/138452), 26.82 MiB | 834.00 KiB/s   \r"
       ]
      },
      {
       "output_type": "stream",
       "stream": "stdout",
       "text": [
        "Receiving objects:  56% (77534/138452), 26.82 MiB | 834.00 KiB/s   \r"
       ]
      },
      {
       "output_type": "stream",
       "stream": "stdout",
       "text": [
        "Receiving objects:  56% (77613/138452), 26.82 MiB | 834.00 KiB/s   \r"
       ]
      },
      {
       "output_type": "stream",
       "stream": "stdout",
       "text": [
        "Receiving objects:  57% (78918/138452), 27.24 MiB | 833.00 KiB/s   \r"
       ]
      },
      {
       "output_type": "stream",
       "stream": "stdout",
       "text": [
        "Receiving objects:  58% (80303/138452), 27.24 MiB | 833.00 KiB/s   \r"
       ]
      },
      {
       "output_type": "stream",
       "stream": "stdout",
       "text": [
        "Receiving objects:  59% (81687/138452), 27.24 MiB | 833.00 KiB/s   \r"
       ]
      },
      {
       "output_type": "stream",
       "stream": "stdout",
       "text": [
        "Receiving objects:  60% (83072/138452), 27.66 MiB | 832.00 KiB/s   \r"
       ]
      },
      {
       "output_type": "stream",
       "stream": "stdout",
       "text": [
        "Receiving objects:  61% (84456/138452), 27.66 MiB | 832.00 KiB/s   \r"
       ]
      },
      {
       "output_type": "stream",
       "stream": "stdout",
       "text": [
        "Receiving objects:  61% (85590/138452), 27.66 MiB | 832.00 KiB/s   \r"
       ]
      },
      {
       "output_type": "stream",
       "stream": "stdout",
       "text": [
        "Receiving objects:  62% (85841/138452), 28.08 MiB | 838.00 KiB/s   \r"
       ]
      },
      {
       "output_type": "stream",
       "stream": "stdout",
       "text": [
        "Receiving objects:  63% (87225/138452), 28.08 MiB | 838.00 KiB/s   \r"
       ]
      },
      {
       "output_type": "stream",
       "stream": "stdout",
       "text": [
        "Receiving objects:  64% (88610/138452), 28.51 MiB | 857.00 KiB/s   \r"
       ]
      },
      {
       "output_type": "stream",
       "stream": "stdout",
       "text": [
        "Receiving objects:  65% (89994/138452), 28.51 MiB | 857.00 KiB/s   \r"
       ]
      },
      {
       "output_type": "stream",
       "stream": "stdout",
       "text": [
        "Receiving objects:  65% (90969/138452), 28.51 MiB | 857.00 KiB/s   \r"
       ]
      },
      {
       "output_type": "stream",
       "stream": "stdout",
       "text": [
        "Receiving objects:  66% (91379/138452), 28.51 MiB | 857.00 KiB/s   \r"
       ]
      },
      {
       "output_type": "stream",
       "stream": "stdout",
       "text": [
        "Receiving objects:  67% (92763/138452), 28.93 MiB | 858.00 KiB/s   \r"
       ]
      },
      {
       "output_type": "stream",
       "stream": "stdout",
       "text": [
        "Receiving objects:  68% (94148/138452), 28.93 MiB | 858.00 KiB/s   \r"
       ]
      },
      {
       "output_type": "stream",
       "stream": "stdout",
       "text": [
        "Receiving objects:  68% (95071/138452), 29.36 MiB | 857.00 KiB/s   \r"
       ]
      },
      {
       "output_type": "stream",
       "stream": "stdout",
       "text": [
        "Receiving objects:  69% (95532/138452), 29.76 MiB | 854.00 KiB/s   \r"
       ]
      },
      {
       "output_type": "stream",
       "stream": "stdout",
       "text": [
        "Receiving objects:  70% (96917/138452), 29.76 MiB | 854.00 KiB/s   \r"
       ]
      },
      {
       "output_type": "stream",
       "stream": "stdout",
       "text": [
        "Receiving objects:  71% (98301/138452), 29.76 MiB | 854.00 KiB/s   \r"
       ]
      },
      {
       "output_type": "stream",
       "stream": "stdout",
       "text": [
        "Receiving objects:  72% (99686/138452), 30.11 MiB | 836.00 KiB/s   \r"
       ]
      },
      {
       "output_type": "stream",
       "stream": "stdout",
       "text": [
        "Receiving objects:  72% (100867/138452), 30.11 MiB | 836.00 KiB/s   \r",
        "Receiving objects:  73% (101070/138452), 30.11 MiB | 836.00 KiB/s   \r"
       ]
      },
      {
       "output_type": "stream",
       "stream": "stdout",
       "text": [
        "Receiving objects:  74% (102455/138452), 30.50 MiB | 830.00 KiB/s   \r"
       ]
      },
      {
       "output_type": "stream",
       "stream": "stdout",
       "text": [
        "Receiving objects:  75% (103839/138452), 30.89 MiB | 822.00 KiB/s   \r"
       ]
      },
      {
       "output_type": "stream",
       "stream": "stdout",
       "text": [
        "Receiving objects:  75% (104723/138452), 30.89 MiB | 822.00 KiB/s   \r"
       ]
      },
      {
       "output_type": "stream",
       "stream": "stdout",
       "text": [
        "Receiving objects:  76% (105224/138452), 31.23 MiB | 806.00 KiB/s   \r"
       ]
      },
      {
       "output_type": "stream",
       "stream": "stdout",
       "text": [
        "Receiving objects:  77% (106609/138452), 31.23 MiB | 806.00 KiB/s   \r"
       ]
      },
      {
       "output_type": "stream",
       "stream": "stdout",
       "text": [
        "Receiving objects:  78% (107993/138452), 31.57 MiB | 788.00 KiB/s   \r"
       ]
      },
      {
       "output_type": "stream",
       "stream": "stdout",
       "text": [
        "Receiving objects:  78% (108457/138452), 31.57 MiB | 788.00 KiB/s   \r"
       ]
      },
      {
       "output_type": "stream",
       "stream": "stdout",
       "text": [
        "Receiving objects:  79% (109378/138452), 31.93 MiB | 773.00 KiB/s   \r"
       ]
      },
      {
       "output_type": "stream",
       "stream": "stdout",
       "text": [
        "Receiving objects:  79% (109921/138452), 32.31 MiB | 761.00 KiB/s   \r"
       ]
      },
      {
       "output_type": "stream",
       "stream": "stdout",
       "text": [
        "Receiving objects:  80% (110762/138452), 33.05 MiB | 741.00 KiB/s   \r"
       ]
      },
      {
       "output_type": "stream",
       "stream": "stdout",
       "text": [
        "Receiving objects:  80% (111800/138452), 33.05 MiB | 741.00 KiB/s   \r"
       ]
      },
      {
       "output_type": "stream",
       "stream": "stdout",
       "text": [
        "Receiving objects:  81% (112147/138452), 33.05 MiB | 741.00 KiB/s   \r"
       ]
      },
      {
       "output_type": "stream",
       "stream": "stdout",
       "text": [
        "Receiving objects:  82% (113531/138452), 33.43 MiB | 746.00 KiB/s   \r"
       ]
      },
      {
       "output_type": "stream",
       "stream": "stdout",
       "text": [
        "Receiving objects:  83% (114916/138452), 33.43 MiB | 746.00 KiB/s   \r"
       ]
      },
      {
       "output_type": "stream",
       "stream": "stdout",
       "text": [
        "Receiving objects:  84% (116300/138452), 33.83 MiB | 748.00 KiB/s   \r"
       ]
      },
      {
       "output_type": "stream",
       "stream": "stdout",
       "text": [
        "Receiving objects:  84% (117521/138452), 33.83 MiB | 748.00 KiB/s   \r"
       ]
      },
      {
       "output_type": "stream",
       "stream": "stdout",
       "text": [
        "Receiving objects:  85% (117685/138452), 33.83 MiB | 748.00 KiB/s   \r"
       ]
      },
      {
       "output_type": "stream",
       "stream": "stdout",
       "text": [
        "Receiving objects:  86% (119069/138452), 34.25 MiB | 757.00 KiB/s   \r"
       ]
      },
      {
       "output_type": "stream",
       "stream": "stdout",
       "text": [
        "Receiving objects:  87% (120454/138452), 34.25 MiB | 757.00 KiB/s   \r"
       ]
      },
      {
       "output_type": "stream",
       "stream": "stdout",
       "text": [
        "Receiving objects:  88% (121838/138452), 34.25 MiB | 757.00 KiB/s   \r"
       ]
      },
      {
       "output_type": "stream",
       "stream": "stdout",
       "text": [
        "Receiving objects:  89% (123223/138452), 34.66 MiB | 757.00 KiB/s   \r"
       ]
      },
      {
       "output_type": "stream",
       "stream": "stdout",
       "text": [
        "Receiving objects:  89% (123576/138452), 34.66 MiB | 757.00 KiB/s   \r"
       ]
      },
      {
       "output_type": "stream",
       "stream": "stdout",
       "text": [
        "Receiving objects:  90% (124607/138452), 34.66 MiB | 757.00 KiB/s   \r"
       ]
      },
      {
       "output_type": "stream",
       "stream": "stdout",
       "text": [
        "Receiving objects:  91% (125992/138452), 35.05 MiB | 769.00 KiB/s   \r"
       ]
      },
      {
       "output_type": "stream",
       "stream": "stdout",
       "text": [
        "Receiving objects:  92% (127376/138452), 35.05 MiB | 769.00 KiB/s   \r"
       ]
      },
      {
       "output_type": "stream",
       "stream": "stdout",
       "text": [
        "Receiving objects:  92% (128371/138452), 35.39 MiB | 764.00 KiB/s   \r",
        "Receiving objects:  93% (128761/138452), 35.39 MiB | 764.00 KiB/s   \r"
       ]
      },
      {
       "output_type": "stream",
       "stream": "stdout",
       "text": [
        "Receiving objects:  94% (130145/138452), 35.75 MiB | 760.00 KiB/s   \r"
       ]
      },
      {
       "output_type": "stream",
       "stream": "stdout",
       "text": [
        "Receiving objects:  95% (131530/138452), 36.04 MiB | 743.00 KiB/s   \r"
       ]
      },
      {
       "output_type": "stream",
       "stream": "stdout",
       "text": [
        "Receiving objects:  95% (132006/138452), 36.04 MiB | 743.00 KiB/s   \r"
       ]
      },
      {
       "output_type": "stream",
       "stream": "stdout",
       "text": [
        "Receiving objects:  96% (132914/138452), 36.36 MiB | 732.00 KiB/s   \r"
       ]
      },
      {
       "output_type": "stream",
       "stream": "stdout",
       "text": [
        "Receiving objects:  97% (134299/138452), 36.36 MiB | 732.00 KiB/s   \r"
       ]
      },
      {
       "output_type": "stream",
       "stream": "stdout",
       "text": [
        "Receiving objects:  97% (135432/138452), 36.68 MiB | 721.00 KiB/s   \r"
       ]
      },
      {
       "output_type": "stream",
       "stream": "stdout",
       "text": [
        "Receiving objects:  98% (135683/138452), 36.68 MiB | 721.00 KiB/s   \r"
       ]
      },
      {
       "output_type": "stream",
       "stream": "stdout",
       "text": [
        "Receiving objects:  98% (136771/138452), 37.09 MiB | 624.00 KiB/s   \r"
       ]
      },
      {
       "output_type": "stream",
       "stream": "stdout",
       "text": [
        "Receiving objects:  99% (137068/138452), 37.27 MiB | 583.00 KiB/s   \r"
       ]
      },
      {
       "output_type": "stream",
       "stream": "stdout",
       "text": [
        "Receiving objects:  99% (138081/138452), 37.46 MiB | 538.00 KiB/s   \r"
       ]
      },
      {
       "output_type": "stream",
       "stream": "stdout",
       "text": [
        "remote: Total 138452 (delta 110293), reused 135887 (delta 108259)\u001b[K\r\n",
        "Receiving objects: 100% (138452/138452), 37.68 MiB | 507.00 KiB/s   \r",
        "Receiving objects: 100% (138452/138452), 37.76 MiB | 481.00 KiB/s, done.\r\n",
        "Resolving deltas:   0% (0/110293)   \r"
       ]
      },
      {
       "output_type": "stream",
       "stream": "stdout",
       "text": [
        "Resolving deltas:   1% (1227/110293)   \r"
       ]
      },
      {
       "output_type": "stream",
       "stream": "stdout",
       "text": [
        "Resolving deltas:   2% (2351/110293)   \r"
       ]
      },
      {
       "output_type": "stream",
       "stream": "stdout",
       "text": [
        "Resolving deltas:   3% (3406/110293)   \r"
       ]
      },
      {
       "output_type": "stream",
       "stream": "stdout",
       "text": [
        "Resolving deltas:   4% (4746/110293)   \r"
       ]
      },
      {
       "output_type": "stream",
       "stream": "stdout",
       "text": [
        "Resolving deltas:   5% (5708/110293)   \r"
       ]
      },
      {
       "output_type": "stream",
       "stream": "stdout",
       "text": [
        "Resolving deltas:   6% (6668/110293)   \r"
       ]
      },
      {
       "output_type": "stream",
       "stream": "stdout",
       "text": [
        "Resolving deltas:   7% (7875/110293)   \r"
       ]
      },
      {
       "output_type": "stream",
       "stream": "stdout",
       "text": [
        "Resolving deltas:   8% (8865/110293)   \r"
       ]
      },
      {
       "output_type": "stream",
       "stream": "stdout",
       "text": [
        "Resolving deltas:   9% (10148/110293)   \r"
       ]
      },
      {
       "output_type": "stream",
       "stream": "stdout",
       "text": [
        "Resolving deltas:  10% (11035/110293)   \r"
       ]
      },
      {
       "output_type": "stream",
       "stream": "stdout",
       "text": [
        "Resolving deltas:  11% (12456/110293)   \r",
        "Resolving deltas:  12% (13383/110293)   \r"
       ]
      },
      {
       "output_type": "stream",
       "stream": "stdout",
       "text": [
        "Resolving deltas:  13% (14426/110293)   \r"
       ]
      },
      {
       "output_type": "stream",
       "stream": "stdout",
       "text": [
        "Resolving deltas:  14% (15443/110293)   \r"
       ]
      },
      {
       "output_type": "stream",
       "stream": "stdout",
       "text": [
        "Resolving deltas:  15% (16548/110293)   \r",
        "Resolving deltas:  15% (16905/110293)   \r"
       ]
      },
      {
       "output_type": "stream",
       "stream": "stdout",
       "text": [
        "Resolving deltas:  16% (17653/110293)   \r"
       ]
      },
      {
       "output_type": "stream",
       "stream": "stdout",
       "text": [
        "Resolving deltas:  17% (18762/110293)   \r"
       ]
      },
      {
       "output_type": "stream",
       "stream": "stdout",
       "text": [
        "Resolving deltas:  18% (19862/110293)   \r"
       ]
      },
      {
       "output_type": "stream",
       "stream": "stdout",
       "text": [
        "Resolving deltas:  19% (20970/110293)   \r"
       ]
      },
      {
       "output_type": "stream",
       "stream": "stdout",
       "text": [
        "Resolving deltas:  20% (22059/110293)   \r"
       ]
      },
      {
       "output_type": "stream",
       "stream": "stdout",
       "text": [
        "Resolving deltas:  21% (23162/110293)   \r"
       ]
      },
      {
       "output_type": "stream",
       "stream": "stdout",
       "text": [
        "Resolving deltas:  22% (24288/110293)   \r"
       ]
      },
      {
       "output_type": "stream",
       "stream": "stdout",
       "text": [
        "Resolving deltas:  23% (25380/110293)   \r"
       ]
      },
      {
       "output_type": "stream",
       "stream": "stdout",
       "text": [
        "Resolving deltas:  24% (26490/110293)   \r"
       ]
      },
      {
       "output_type": "stream",
       "stream": "stdout",
       "text": [
        "Resolving deltas:  25% (27576/110293)   \r"
       ]
      },
      {
       "output_type": "stream",
       "stream": "stdout",
       "text": [
        "Resolving deltas:  26% (28677/110293)   \r"
       ]
      },
      {
       "output_type": "stream",
       "stream": "stdout",
       "text": [
        "Resolving deltas:  27% (29783/110293)   \r"
       ]
      },
      {
       "output_type": "stream",
       "stream": "stdout",
       "text": [
        "Resolving deltas:  28% (30891/110293)   \r"
       ]
      },
      {
       "output_type": "stream",
       "stream": "stdout",
       "text": [
        "Resolving deltas:  29% (31989/110293)   \r"
       ]
      },
      {
       "output_type": "stream",
       "stream": "stdout",
       "text": [
        "Resolving deltas:  30% (33088/110293)   \r"
       ]
      },
      {
       "output_type": "stream",
       "stream": "stdout",
       "text": [
        "Resolving deltas:  31% (34192/110293)   \r"
       ]
      },
      {
       "output_type": "stream",
       "stream": "stdout",
       "text": [
        "Resolving deltas:  32% (35311/110293)   \r"
       ]
      },
      {
       "output_type": "stream",
       "stream": "stdout",
       "text": [
        "Resolving deltas:  33% (36413/110293)   \r",
        "Resolving deltas:  33% (36694/110293)   \r"
       ]
      },
      {
       "output_type": "stream",
       "stream": "stdout",
       "text": [
        "Resolving deltas:  34% (37507/110293)   \r"
       ]
      },
      {
       "output_type": "stream",
       "stream": "stdout",
       "text": [
        "Resolving deltas:  35% (38604/110293)   \r"
       ]
      },
      {
       "output_type": "stream",
       "stream": "stdout",
       "text": [
        "Resolving deltas:  36% (39713/110293)   \r"
       ]
      },
      {
       "output_type": "stream",
       "stream": "stdout",
       "text": [
        "Resolving deltas:  37% (40822/110293)   \r"
       ]
      },
      {
       "output_type": "stream",
       "stream": "stdout",
       "text": [
        "Resolving deltas:  38% (41915/110293)   \r"
       ]
      },
      {
       "output_type": "stream",
       "stream": "stdout",
       "text": [
        "Resolving deltas:  39% (43027/110293)   \r"
       ]
      },
      {
       "output_type": "stream",
       "stream": "stdout",
       "text": [
        "Resolving deltas:  40% (44126/110293)   \r"
       ]
      },
      {
       "output_type": "stream",
       "stream": "stdout",
       "text": [
        "Resolving deltas:  41% (45223/110293)   \r"
       ]
      },
      {
       "output_type": "stream",
       "stream": "stdout",
       "text": [
        "Resolving deltas:  42% (46339/110293)   \r"
       ]
      },
      {
       "output_type": "stream",
       "stream": "stdout",
       "text": [
        "Resolving deltas:  43% (47426/110293)   \r"
       ]
      },
      {
       "output_type": "stream",
       "stream": "stdout",
       "text": [
        "Resolving deltas:  44% (48536/110293)   \r"
       ]
      },
      {
       "output_type": "stream",
       "stream": "stdout",
       "text": [
        "Resolving deltas:  45% (49635/110293)   \r"
       ]
      },
      {
       "output_type": "stream",
       "stream": "stdout",
       "text": [
        "Resolving deltas:  46% (50753/110293)   \r"
       ]
      },
      {
       "output_type": "stream",
       "stream": "stdout",
       "text": [
        "Resolving deltas:  47% (51840/110293)   \r"
       ]
      },
      {
       "output_type": "stream",
       "stream": "stdout",
       "text": [
        "Resolving deltas:  48% (52966/110293)   \r"
       ]
      },
      {
       "output_type": "stream",
       "stream": "stdout",
       "text": [
        "Resolving deltas:  49% (54050/110293)   \r"
       ]
      },
      {
       "output_type": "stream",
       "stream": "stdout",
       "text": [
        "Resolving deltas:  50% (55160/110293)   \r"
       ]
      },
      {
       "output_type": "stream",
       "stream": "stdout",
       "text": [
        "Resolving deltas:  51% (56260/110293)   \r"
       ]
      },
      {
       "output_type": "stream",
       "stream": "stdout",
       "text": [
        "Resolving deltas:  52% (57355/110293)   \r"
       ]
      },
      {
       "output_type": "stream",
       "stream": "stdout",
       "text": [
        "Resolving deltas:  52% (58158/110293)   \r"
       ]
      },
      {
       "output_type": "stream",
       "stream": "stdout",
       "text": [
        "Resolving deltas:  53% (58728/110293)   \r"
       ]
      },
      {
       "output_type": "stream",
       "stream": "stdout",
       "text": [
        "Resolving deltas:  55% (61011/110293)   \r"
       ]
      },
      {
       "output_type": "stream",
       "stream": "stdout",
       "text": [
        "Resolving deltas:  56% (61878/110293)   \r"
       ]
      },
      {
       "output_type": "stream",
       "stream": "stdout",
       "text": [
        "Resolving deltas:  57% (62958/110293)   \r"
       ]
      },
      {
       "output_type": "stream",
       "stream": "stdout",
       "text": [
        "Resolving deltas:  58% (64106/110293)   \r"
       ]
      },
      {
       "output_type": "stream",
       "stream": "stdout",
       "text": [
        "Resolving deltas:  59% (65169/110293)   \r"
       ]
      },
      {
       "output_type": "stream",
       "stream": "stdout",
       "text": [
        "Resolving deltas:  60% (66301/110293)   \r"
       ]
      },
      {
       "output_type": "stream",
       "stream": "stdout",
       "text": [
        "Resolving deltas:  61% (67371/110293)   \r",
        "Resolving deltas:  61% (67870/110293)   \r"
       ]
      },
      {
       "output_type": "stream",
       "stream": "stdout",
       "text": [
        "Resolving deltas:  62% (68434/110293)   \r"
       ]
      },
      {
       "output_type": "stream",
       "stream": "stdout",
       "text": [
        "Resolving deltas:  63% (69539/110293)   \r"
       ]
      },
      {
       "output_type": "stream",
       "stream": "stdout",
       "text": [
        "Resolving deltas:  64% (70691/110293)   \r"
       ]
      },
      {
       "output_type": "stream",
       "stream": "stdout",
       "text": [
        "Resolving deltas:  65% (71747/110293)   \r"
       ]
      },
      {
       "output_type": "stream",
       "stream": "stdout",
       "text": [
        "Resolving deltas:  66% (73018/110293)   \r"
       ]
      },
      {
       "output_type": "stream",
       "stream": "stdout",
       "text": [
        "Resolving deltas:  67% (74083/110293)   \r"
       ]
      },
      {
       "output_type": "stream",
       "stream": "stdout",
       "text": [
        "Resolving deltas:  68% (75069/110293)   \r"
       ]
      },
      {
       "output_type": "stream",
       "stream": "stdout",
       "text": [
        "Resolving deltas:  69% (76132/110293)   \r"
       ]
      },
      {
       "output_type": "stream",
       "stream": "stdout",
       "text": [
        "Resolving deltas:  70% (77266/110293)   \r"
       ]
      },
      {
       "output_type": "stream",
       "stream": "stdout",
       "text": [
        "Resolving deltas:  71% (78312/110293)   \r"
       ]
      },
      {
       "output_type": "stream",
       "stream": "stdout",
       "text": [
        "Resolving deltas:  72% (79440/110293)   \r"
       ]
      },
      {
       "output_type": "stream",
       "stream": "stdout",
       "text": [
        "Resolving deltas:  73% (80518/110293)   \r"
       ]
      },
      {
       "output_type": "stream",
       "stream": "stdout",
       "text": [
        "Resolving deltas:  74% (82094/110293)   \r",
        "Resolving deltas:  75% (82738/110293)   \r"
       ]
      },
      {
       "output_type": "stream",
       "stream": "stdout",
       "text": [
        "Resolving deltas:  76% (84156/110293)   \r"
       ]
      },
      {
       "output_type": "stream",
       "stream": "stdout",
       "text": [
        "Resolving deltas:  77% (84932/110293)   \r"
       ]
      },
      {
       "output_type": "stream",
       "stream": "stdout",
       "text": [
        "Resolving deltas:  78% (86069/110293)   \r"
       ]
      },
      {
       "output_type": "stream",
       "stream": "stdout",
       "text": [
        "Resolving deltas:  79% (87203/110293)   \r"
       ]
      },
      {
       "output_type": "stream",
       "stream": "stdout",
       "text": [
        "Resolving deltas:  80% (88265/110293)   \r"
       ]
      },
      {
       "output_type": "stream",
       "stream": "stdout",
       "text": [
        "Resolving deltas:  81% (89351/110293)   \r"
       ]
      },
      {
       "output_type": "stream",
       "stream": "stdout",
       "text": [
        "Resolving deltas:  82% (90449/110293)   \r"
       ]
      },
      {
       "output_type": "stream",
       "stream": "stdout",
       "text": [
        "Resolving deltas:  83% (91665/110293)   \r"
       ]
      },
      {
       "output_type": "stream",
       "stream": "stdout",
       "text": [
        "Resolving deltas:  84% (93201/110293)   \r"
       ]
      },
      {
       "output_type": "stream",
       "stream": "stdout",
       "text": [
        "Resolving deltas:  85% (93836/110293)   \r",
        "Resolving deltas:  85% (94255/110293)   \r"
       ]
      },
      {
       "output_type": "stream",
       "stream": "stdout",
       "text": [
        "Resolving deltas:  86% (94878/110293)   \r"
       ]
      },
      {
       "output_type": "stream",
       "stream": "stdout",
       "text": [
        "Resolving deltas:  87% (96072/110293)   \r"
       ]
      },
      {
       "output_type": "stream",
       "stream": "stdout",
       "text": [
        "Resolving deltas:  88% (97157/110293)   \r"
       ]
      },
      {
       "output_type": "stream",
       "stream": "stdout",
       "text": [
        "Resolving deltas:  89% (98161/110293)   \r"
       ]
      },
      {
       "output_type": "stream",
       "stream": "stdout",
       "text": [
        "Resolving deltas:  90% (99284/110293)   \r"
       ]
      },
      {
       "output_type": "stream",
       "stream": "stdout",
       "text": [
        "Resolving deltas:  91% (100380/110293)   \r"
       ]
      },
      {
       "output_type": "stream",
       "stream": "stdout",
       "text": [
        "Resolving deltas:  92% (101474/110293)   \r"
       ]
      },
      {
       "output_type": "stream",
       "stream": "stdout",
       "text": [
        "Resolving deltas:  93% (102574/110293)   \r"
       ]
      },
      {
       "output_type": "stream",
       "stream": "stdout",
       "text": [
        "Resolving deltas:  94% (103686/110293)   \r"
       ]
      },
      {
       "output_type": "stream",
       "stream": "stdout",
       "text": [
        "Resolving deltas:  95% (104792/110293)   \r"
       ]
      },
      {
       "output_type": "stream",
       "stream": "stdout",
       "text": [
        "Resolving deltas:  96% (105888/110293)   \r"
       ]
      },
      {
       "output_type": "stream",
       "stream": "stdout",
       "text": [
        "Resolving deltas:  97% (106989/110293)   \r"
       ]
      },
      {
       "output_type": "stream",
       "stream": "stdout",
       "text": [
        "Resolving deltas:  98% (108097/110293)   \r"
       ]
      },
      {
       "output_type": "stream",
       "stream": "stdout",
       "text": [
        "Resolving deltas:  99% (109192/110293)   \r"
       ]
      },
      {
       "output_type": "stream",
       "stream": "stdout",
       "text": [
        "Resolving deltas:  99% (109979/110293)   \r",
        "Resolving deltas: 100% (110293/110293)   \r",
        "Resolving deltas: 100% (110293/110293), done.\r\n"
       ]
      },
      {
       "output_type": "stream",
       "stream": "stdout",
       "text": [
        "Checking connectivity... done.\r\n"
       ]
      },
      {
       "output_type": "stream",
       "stream": "stdout",
       "text": [
        "CPU times: user 513 ms, sys: 137 ms, total: 650 ms\n",
        "Wall time: 1min 6s\n"
       ]
      }
     ],
     "prompt_number": 1
    },
    {
     "cell_type": "heading",
     "level": 2,
     "metadata": {},
     "source": [
      "Which part of OpenSSL's history is publicly available?"
     ]
    },
    {
     "cell_type": "code",
     "collapsed": false,
     "input": [
      "from IPython.display import IFrame"
     ],
     "language": "python",
     "metadata": {},
     "outputs": [],
     "prompt_number": 2
    },
    {
     "cell_type": "code",
     "collapsed": false,
     "input": [
      "IFrame(\"http://en.wikipedia.org/wiki/OpenSSL#History_of_the_OpenSSL_project\", 800, 400)"
     ],
     "language": "python",
     "metadata": {},
     "outputs": [
      {
       "html": [
        "\n",
        "        <iframe\n",
        "            width=\"800\"\n",
        "            height=400\"\n",
        "            src=\"http://en.wikipedia.org/wiki/OpenSSL#History_of_the_OpenSSL_project\"\n",
        "            frameborder=\"0\"\n",
        "            allowfullscreen\n",
        "        ></iframe>\n",
        "        "
       ],
       "metadata": {},
       "output_type": "pyout",
       "prompt_number": 3,
       "text": [
        "<IPython.lib.display.IFrame at 0x103d3fe90>"
       ]
      }
     ],
     "prompt_number": 3
    },
    {
     "cell_type": "markdown",
     "metadata": {},
     "source": [
      "So the official start of the OpenSSL project was on December 23, 1998. Now let's see what we have in our repository:"
     ]
    },
    {
     "cell_type": "code",
     "collapsed": false,
     "input": [
      "cd openssl/"
     ],
     "language": "python",
     "metadata": {},
     "outputs": [
      {
       "output_type": "stream",
       "stream": "stdout",
       "text": [
        "/Users/dirk/projekte/openssl-git/openssl\n"
       ]
      }
     ],
     "prompt_number": 4
    },
    {
     "cell_type": "code",
     "collapsed": false,
     "input": [
      "!git log --reverse | head -40"
     ],
     "language": "python",
     "metadata": {},
     "outputs": [
      {
       "output_type": "stream",
       "stream": "stdout",
       "text": [
        "commit 90718ac5274e07cd7b1933f068e9546d12e621f5\r\n",
        "Author: Ralf S. Engelschall <rse@openssl.org>\r\n",
        "Date:   Mon Dec 21 10:52:45 1998 +0000\r\n",
        "\r\n",
        "    This commit was generated by cvs2svn to track changes on a CVS vendor\r\n",
        "    branch.\r\n",
        "\r\n",
        "commit ec96f926b98721d6b84c7023fde0ecc5fe98e644\r\n",
        "Author: Ralf S. Engelschall <rse@openssl.org>\r\n",
        "Date:   Mon Dec 21 10:52:45 1998 +0000\r\n",
        "\r\n",
        "    Import of old SSLeay release: SSLeay 0.8.1b\r\n",
        "\r\n",
        "commit b7896b3cb86d80206af14a14d69b0717786f2729\r\n",
        "Merge: 90718ac d02b48c\r\n",
        "Author: Ralf S. Engelschall <rse@openssl.org>\r\n",
        "Date:   Mon Dec 21 10:52:47 1998 +0000\r\n",
        "\r\n",
        "    This commit was generated by cvs2svn to track changes on a CVS vendor\r\n",
        "    branch.\r\n",
        "\r\n",
        "commit d02b48c63a58ea4367a0e905979f140b7d090f86\r\n",
        "Author: Ralf S. Engelschall <rse@openssl.org>\r\n",
        "Date:   Mon Dec 21 10:52:47 1998 +0000\r\n",
        "\r\n",
        "    Import of old SSLeay release: SSLeay 0.8.1b\r\n",
        "\r\n",
        "commit eda1f21f1af8b6f77327e7b37573af9c1ba73726\r\n",
        "Merge: b7896b3 c7e9169\r\n",
        "Author: Ralf S. Engelschall <rse@openssl.org>\r\n",
        "Date:   Mon Dec 21 10:56:30 1998 +0000\r\n",
        "\r\n",
        "    This commit was generated by cvs2svn to track changes on a CVS vendor\r\n",
        "    branch.\r\n",
        "\r\n",
        "commit c7e91699977f0dcf5025c00670d9dde0c2296641\r\n",
        "Author: Ralf S. Engelschall <rse@openssl.org>\r\n",
        "Date:   Mon Dec 21 10:56:30 1998 +0000\r\n",
        "\r\n",
        "    Import of old SSLeay release: SSLeay 0.9.0b\r\n"
       ]
      }
     ],
     "prompt_number": 5
    },
    {
     "cell_type": "code",
     "collapsed": false,
     "input": [
      "!git log -1"
     ],
     "language": "python",
     "metadata": {},
     "outputs": [
      {
       "output_type": "stream",
       "stream": "stdout",
       "text": [
        "\u001b[33mcommit 300b9f0b704048f60776881f1d378c74d9c32fbd\u001b[m\r\n",
        "Author: Dr. Stephen Henson <steve@openssl.org>\r\n",
        "Date:   Tue Apr 15 18:48:54 2014 +0100\r\n",
        "\r\n",
        "    Extension checking fixes.\r\n",
        "    \r\n",
        "    When looking for an extension we need to set the last found\r\n",
        "    position to -1 to properly search all extensions.\r\n",
        "    \r\n",
        "    PR#3309.\r\n"
       ]
      }
     ],
     "prompt_number": 6
    },
    {
     "cell_type": "markdown",
     "metadata": {},
     "source": [
      "So we have commits from two days earlier that the official start up to today. More than 15 years of history. Good."
     ]
    },
    {
     "cell_type": "code",
     "collapsed": false,
     "input": [
      "!git log --oneline | wc -l"
     ],
     "language": "python",
     "metadata": {},
     "outputs": [
      {
       "output_type": "stream",
       "stream": "stdout",
       "text": [
        "   11856\r\n"
       ]
      }
     ],
     "prompt_number": 7
    },
    {
     "cell_type": "markdown",
     "metadata": {},
     "source": [
      "About twelve thousand commits."
     ]
    },
    {
     "cell_type": "heading",
     "level": 2,
     "metadata": {},
     "source": [
      "How large is the code base?"
     ]
    },
    {
     "cell_type": "markdown",
     "metadata": {},
     "source": [
      "First let's see how much space the current checkout (excluding the .git repo) takes:"
     ]
    },
    {
     "cell_type": "code",
     "collapsed": false,
     "input": [
      "!du -hs -I\\.git"
     ],
     "language": "python",
     "metadata": {},
     "outputs": [
      {
       "output_type": "stream",
       "stream": "stdout",
       "text": [
        " 28M\t.\r\n"
       ]
      }
     ],
     "prompt_number": 8
    },
    {
     "cell_type": "markdown",
     "metadata": {},
     "source": [
      "For a deeper analysis, we use David Wheeler's [SLOCCount](http://www.dwheeler.com/sloccount/):"
     ]
    },
    {
     "cell_type": "code",
     "collapsed": false,
     "input": [
      "!sloccount ."
     ],
     "language": "python",
     "metadata": {},
     "outputs": [
      {
       "output_type": "stream",
       "stream": "stdout",
       "text": [
        "Have a non-directory at the top, so creating directory top_dir\r\n"
       ]
      },
      {
       "output_type": "stream",
       "stream": "stdout",
       "text": [
        "Adding /Users/dirk/projekte/openssl-git/openssl/./ACKNOWLEDGMENTS to top_dir\r\n",
        "Adding /Users/dirk/projekte/openssl-git/openssl/./CHANGES to top_dir\r\n",
        "Adding /Users/dirk/projekte/openssl-git/openssl/./CHANGES.SSLeay to top_dir\r\n",
        "Adding /Users/dirk/projekte/openssl-git/openssl/./Configure to top_dir\r\n",
        "Adding /Users/dirk/projekte/openssl-git/openssl/./FAQ to top_dir\r\n",
        "Adding /Users/dirk/projekte/openssl-git/openssl/./GitConfigure to top_dir\r\n",
        "Adding /Users/dirk/projekte/openssl-git/openssl/./GitMake to top_dir\r\n",
        "Adding /Users/dirk/projekte/openssl-git/openssl/./INSTALL to top_dir\r\n",
        "Adding /Users/dirk/projekte/openssl-git/openssl/./INSTALL.DJGPP to top_dir\r\n",
        "Adding /Users/dirk/projekte/openssl-git/openssl/./INSTALL.MacOS to top_dir\r\n",
        "Adding /Users/dirk/projekte/openssl-git/openssl/./INSTALL.NW to top_dir\r\n",
        "Adding /Users/dirk/projekte/openssl-git/openssl/./INSTALL.OS2 to top_dir\r\n",
        "Adding /Users/dirk/projekte/openssl-git/openssl/./INSTALL.VMS to top_dir\r\n",
        "Adding /Users/dirk/projekte/openssl-git/openssl/./INSTALL.W32 to top_dir\r\n",
        "Adding /Users/dirk/projekte/openssl-git/openssl/./INSTALL.W64 to top_dir\r\n",
        "Adding /Users/dirk/projekte/openssl-git/openssl/./INSTALL.WCE to top_dir\r\n",
        "Adding /Users/dirk/projekte/openssl-git/openssl/./LICENSE to top_dir\r\n",
        "Adding /Users/dirk/projekte/openssl-git/openssl/./Makefile.fips to top_dir\r\n",
        "Adding /Users/dirk/projekte/openssl-git/openssl/./Makefile.org to top_dir\r\n",
        "Adding /Users/dirk/projekte/openssl-git/openssl/./Makefile.shared to top_dir\r\n",
        "Adding /Users/dirk/projekte/openssl-git/openssl/./NEWS to top_dir\r\n",
        "Creating filelist for Netware\r\n"
       ]
      },
      {
       "output_type": "stream",
       "stream": "stdout",
       "text": [
        "Adding /Users/dirk/projekte/openssl-git/openssl/./PROBLEMS to top_dir\r\n",
        "Adding /Users/dirk/projekte/openssl-git/openssl/./README to top_dir\r\n",
        "Adding /Users/dirk/projekte/openssl-git/openssl/./README.ASN1 to top_dir\r\n",
        "Adding /Users/dirk/projekte/openssl-git/openssl/./README.ECC to top_dir\r\n",
        "Adding /Users/dirk/projekte/openssl-git/openssl/./README.ENGINE to top_dir\r\n",
        "Adding /Users/dirk/projekte/openssl-git/openssl/./README.FIPS to top_dir\r\n",
        "Adding /Users/dirk/projekte/openssl-git/openssl/./TABLE to top_dir\r\n",
        "Creating filelist for VMS\r\n",
        "Creating filelist for apps\r\n",
        "Creating filelist for bugs\r\n",
        "Creating filelist for certs\r\n",
        "Adding /Users/dirk/projekte/openssl-git/openssl/./config to top_dir\r\n"
       ]
      },
      {
       "output_type": "stream",
       "stream": "stdout",
       "text": [
        "Creating filelist for crypto\r\n",
        "Creating filelist for demos\r\n",
        "Creating filelist for doc\r\n",
        "Adding /Users/dirk/projekte/openssl-git/openssl/./e_os.h to top_dir\r\n",
        "Adding /Users/dirk/projekte/openssl-git/openssl/./e_os2.h to top_dir\r\n",
        "Creating filelist for engines\r\n",
        "Creating filelist for fips\r\n"
       ]
      },
      {
       "output_type": "stream",
       "stream": "stdout",
       "text": [
        "Creating filelist for include\r\n",
        "Adding /Users/dirk/projekte/openssl-git/openssl/./install.com to top_dir\r\n",
        "Adding /Users/dirk/projekte/openssl-git/openssl/./makevms.com to top_dir\r\n",
        "Creating filelist for ms\r\n",
        "Adding /Users/dirk/projekte/openssl-git/openssl/./openssl.doxy to top_dir\r\n",
        "Adding /Users/dirk/projekte/openssl-git/openssl/./openssl.spec to top_dir\r\n",
        "Creating filelist for os2\r\n",
        "Creating filelist for perl\r\n"
       ]
      },
      {
       "output_type": "stream",
       "stream": "stdout",
       "text": [
        "Creating filelist for shlib\r\n",
        "Creating filelist for ssl\r\n",
        "Creating filelist for test\r\n",
        "Creating filelist for times\r\n",
        "Creating filelist for tools\r\n",
        "Creating filelist for util\r\n",
        "Categorizing files.\r\n"
       ]
      },
      {
       "output_type": "stream",
       "stream": "stdout",
       "text": [
        "Finding a working MD5 command....\r\n",
        "Found a working MD5 command.\r\n"
       ]
      },
      {
       "output_type": "stream",
       "stream": "stdout",
       "text": [
        "Computing results.\r\n"
       ]
      },
      {
       "output_type": "stream",
       "stream": "stdout",
       "text": [
        "pod without closing cut in file /Users/dirk/projekte/openssl-git/openssl/crypto/sha/asm/sha256-c64xplus.pl\r\n"
       ]
      },
      {
       "output_type": "stream",
       "stream": "stdout",
       "text": [
        "\r\n",
        "\r\n",
        "SLOC\tDirectory\tSLOC-by-Language (Sorted)\r\n",
        "283856  crypto          ansic=184902,perl=88876,asm=9463,cpp=605,sh=10\r\n",
        "46606   ssl             ansic=46606\r\n",
        "36042   apps            ansic=35535,perl=355,sh=152\r\n",
        "20548   fips            ansic=18413,perl=2017,sh=118\r\n",
        "17520   engines         ansic=16476,perl=1044\r\n",
        "10418   demos           ansic=9638,sh=550,cpp=218,perl=12\r\n",
        "7769    util            perl=7207,sh=562\r\n",
        "3554    test            perl=1562,sh=1304,ansic=688\r\n",
        "1471    top_dir         sh=764,ansic=707\r\n",
        "543     ms              ansic=320,perl=223\r\n",
        "446     Netware         perl=446\r\n",
        "260     shlib           sh=260\r\n",
        "241     times           cpp=225,perl=16\r\n",
        "177     tools           perl=146,sh=31\r\n",
        "166     bugs            ansic=166\r\n",
        "31      VMS             perl=31\r\n",
        "27      os2             perl=27\r\n",
        "24      doc             lisp=24\r\n",
        "0       certs           (none)\r\n",
        "0       include         (none)\r\n",
        "0       perl            (none)\r\n",
        "\r\n",
        "\r\n",
        "Totals grouped by language (dominant language first):\r\n",
        "ansic:       313451 (72.95%)\r\n",
        "perl:        101962 (23.73%)\r\n",
        "asm:           9463 (2.20%)\r\n",
        "sh:            3751 (0.87%)\r\n",
        "cpp:           1048 (0.24%)\r\n",
        "lisp:            24 (0.01%)\r\n",
        "\r\n",
        "\r\n",
        "\r\n",
        "\r\n",
        "Total Physical Source Lines of Code (SLOC)                = 429,699\r\n",
        "Development Effort Estimate, Person-Years (Person-Months) = 116.37 (1,396.48)\r\n",
        " (Basic COCOMO model, Person-Months = 2.4 * (KSLOC**1.05))\r\n",
        "Schedule Estimate, Years (Months)                         = 3.26 (39.18)\r\n",
        " (Basic COCOMO model, Months = 2.5 * (person-months**0.38))\r\n",
        "Estimated Average Number of Developers (Effort/Schedule)  = 35.64\r\n",
        "Total Estimated Cost to Develop                           = $ 15,720,421\r\n",
        " (average salary = $56,286/year, overhead = 2.40).\r\n",
        "SLOCCount, Copyright (C) 2001-2004 David A. Wheeler\r\n",
        "SLOCCount is Open Source Software/Free Software, licensed under the GNU GPL.\r\n",
        "SLOCCount comes with ABSOLUTELY NO WARRANTY, and you are welcome to\r\n",
        "redistribute it under certain conditions as specified by the GNU GPL license;\r\n",
        "see the documentation for details.\r\n",
        "Please credit this data as \"generated using David A. Wheeler's 'SLOCCount'.\"\r\n"
       ]
      }
     ],
     "prompt_number": 9
    },
    {
     "cell_type": "markdown",
     "metadata": {},
     "source": [
      "So we have nearly 430kSLOC -- mostly C as expected, but roughly a quarter is Perl. And we have nearly 10000 lines of assembler code."
     ]
    },
    {
     "cell_type": "heading",
     "level": 2,
     "metadata": {},
     "source": [
      "Who contributed to OpenSSL over the years?"
     ]
    },
    {
     "cell_type": "markdown",
     "metadata": {},
     "source": [
      "I'll save the commit authors and timestamps as a CSV file, that can be imported and analysed using the excellent [pandas](http://pandas.pydata.org/) library:"
     ]
    },
    {
     "cell_type": "code",
     "collapsed": false,
     "input": [
      "!git log --format=format:\"%ai,%an,%H\" > ../commits"
     ],
     "language": "python",
     "metadata": {},
     "outputs": [],
     "prompt_number": 10
    },
    {
     "cell_type": "code",
     "collapsed": false,
     "input": [
      "cd .."
     ],
     "language": "python",
     "metadata": {},
     "outputs": [
      {
       "output_type": "stream",
       "stream": "stdout",
       "text": [
        "/Users/dirk/projekte/openssl-git\n"
       ]
      }
     ],
     "prompt_number": 11
    },
    {
     "cell_type": "code",
     "collapsed": false,
     "input": [
      "import pandas as pd"
     ],
     "language": "python",
     "metadata": {},
     "outputs": [],
     "prompt_number": 12
    },
    {
     "cell_type": "code",
     "collapsed": false,
     "input": [
      "df=pd.read_csv(\"commits\", header=None, names=[\"time\", \"author\", \"id\"], index_col=\"time\", parse_dates=True)\n",
      "df.sort(ascending=True, inplace=True)\n",
      "df.head()"
     ],
     "language": "python",
     "metadata": {},
     "outputs": [
      {
       "html": [
        "<div style=\"max-height:1000px;max-width:1500px;overflow:auto;\">\n",
        "<table border=\"1\" class=\"dataframe\">\n",
        "  <thead>\n",
        "    <tr style=\"text-align: right;\">\n",
        "      <th></th>\n",
        "      <th>author</th>\n",
        "      <th>id</th>\n",
        "    </tr>\n",
        "    <tr>\n",
        "      <th>time</th>\n",
        "      <th></th>\n",
        "      <th></th>\n",
        "    </tr>\n",
        "  </thead>\n",
        "  <tbody>\n",
        "    <tr>\n",
        "      <th>1998-12-21 10:52:45</th>\n",
        "      <td> Ralf S. Engelschall</td>\n",
        "      <td> 90718ac5274e07cd7b1933f068e9546d12e621f5</td>\n",
        "    </tr>\n",
        "    <tr>\n",
        "      <th>1998-12-21 10:52:45</th>\n",
        "      <td> Ralf S. Engelschall</td>\n",
        "      <td> ec96f926b98721d6b84c7023fde0ecc5fe98e644</td>\n",
        "    </tr>\n",
        "    <tr>\n",
        "      <th>1998-12-21 10:52:47</th>\n",
        "      <td> Ralf S. Engelschall</td>\n",
        "      <td> b7896b3cb86d80206af14a14d69b0717786f2729</td>\n",
        "    </tr>\n",
        "    <tr>\n",
        "      <th>1998-12-21 10:52:47</th>\n",
        "      <td> Ralf S. Engelschall</td>\n",
        "      <td> d02b48c63a58ea4367a0e905979f140b7d090f86</td>\n",
        "    </tr>\n",
        "    <tr>\n",
        "      <th>1998-12-21 10:56:30</th>\n",
        "      <td> Ralf S. Engelschall</td>\n",
        "      <td> eda1f21f1af8b6f77327e7b37573af9c1ba73726</td>\n",
        "    </tr>\n",
        "  </tbody>\n",
        "</table>\n",
        "<p>5 rows \u00d7 2 columns</p>\n",
        "</div>"
       ],
       "metadata": {},
       "output_type": "pyout",
       "prompt_number": 13,
       "text": [
        "                                  author  \\\n",
        "time                                       \n",
        "1998-12-21 10:52:45  Ralf S. Engelschall   \n",
        "1998-12-21 10:52:45  Ralf S. Engelschall   \n",
        "1998-12-21 10:52:47  Ralf S. Engelschall   \n",
        "1998-12-21 10:52:47  Ralf S. Engelschall   \n",
        "1998-12-21 10:56:30  Ralf S. Engelschall   \n",
        "\n",
        "                                                           id  \n",
        "time                                                           \n",
        "1998-12-21 10:52:45  90718ac5274e07cd7b1933f068e9546d12e621f5  \n",
        "1998-12-21 10:52:45  ec96f926b98721d6b84c7023fde0ecc5fe98e644  \n",
        "1998-12-21 10:52:47  b7896b3cb86d80206af14a14d69b0717786f2729  \n",
        "1998-12-21 10:52:47  d02b48c63a58ea4367a0e905979f140b7d090f86  \n",
        "1998-12-21 10:56:30  eda1f21f1af8b6f77327e7b37573af9c1ba73726  \n",
        "\n",
        "[5 rows x 2 columns]"
       ]
      }
     ],
     "prompt_number": 13
    },
    {
     "cell_type": "markdown",
     "metadata": {},
     "source": [
      "Pandas provides a convenience function that shows how often each value occurs in a given column:"
     ]
    },
    {
     "cell_type": "code",
     "collapsed": false,
     "input": [
      "commits_per_author=df.author.value_counts()\n",
      "commits_per_author"
     ],
     "language": "python",
     "metadata": {},
     "outputs": [
      {
       "metadata": {},
       "output_type": "pyout",
       "prompt_number": 14,
       "text": [
        "Dr. Stephen Henson            3558\n",
        "Richard Levitte               2331\n",
        "Andy Polyakov                 1800\n",
        "Bodo M\u00f6ller                   1699\n",
        "Ulf M\u00f6ller                     661\n",
        "Ben Laurie                     590\n",
        "Geoff Thorpe                   408\n",
        "Lutz J\u00e4nicke                   300\n",
        "Nils Larsch                    197\n",
        "Ralf S. Engelschall            189\n",
        "Mark J. Cox                     18\n",
        "Paul C. Sutton                  11\n",
        "Adam Langley                    11\n",
        "Daniel Kahn Gillmor             10\n",
        "Rob Stradling                   10\n",
        "Scott Deboy                      7\n",
        "stephen                          5\n",
        "Trevor Perrin                    5\n",
        "Carlos Alberto Lopez Perez       4\n",
        "Bodo Moeller                     4\n",
        "Trevor                           3\n",
        "Piotr Sikora                     3\n",
        "Michael Tuexen                   3\n",
        "Lubomir Rintel                   2\n",
        "Robin Seggelmann                 2\n",
        "Kurt Roeckx                      2\n",
        "Matt Caswell                     2\n",
        "Jeff Trawick                     2\n",
        "Scott Schaefer                   2\n",
        "Kaspar Brand                     2\n",
        "Nick Mathewson                   2\n",
        "Krzysztof Kwiatkowski            1\n",
        "Emilia Kasper                    1\n",
        "Lutz Jaenicke                    1\n",
        "Steve Marquess                   1\n",
        "Eric Young                       1\n",
        "Ard Biesheuvel                   1\n",
        "David Woodhouse                  1\n",
        "Veres Lajos                      1\n",
        "Klaus-Peter Junghanns            1\n",
        "Mat                              1\n",
        "Tim Hudson                       1\n",
        "Jeff Walton                      1\n",
        "Nick Alcock                      1\n",
        "dtype: int64"
       ]
      }
     ],
     "prompt_number": 14
    },
    {
     "cell_type": "markdown",
     "metadata": {},
     "source": [
      "So we have 10 People with more than 100 commits. Not a lot. But no suprises, either: The top 11 committers are exactly the current development team mentioned on the [OpenSSL homepage]( https://www.openssl.org/about/)."
     ]
    },
    {
     "cell_type": "markdown",
     "metadata": {},
     "source": [
      "Let's visualize the commit counts with [Matplotlib](http://matplotlib.org/). But first import [seaborn](http://www.stanford.edu/~mwaskom/software/seaborn/), which gives us much prettier graphics:"
     ]
    },
    {
     "cell_type": "code",
     "collapsed": false,
     "input": [
      "import seaborn as sns"
     ],
     "language": "python",
     "metadata": {},
     "outputs": [],
     "prompt_number": 15
    },
    {
     "cell_type": "code",
     "collapsed": false,
     "input": [
      "%matplotlib inline"
     ],
     "language": "python",
     "metadata": {},
     "outputs": [],
     "prompt_number": 16
    },
    {
     "cell_type": "code",
     "collapsed": false,
     "input": [
      "commits_per_author.plot(kind=\"bar\", figsize=(10,6))"
     ],
     "language": "python",
     "metadata": {},
     "outputs": [
      {
       "metadata": {},
       "output_type": "pyout",
       "prompt_number": 17,
       "text": [
        "<matplotlib.axes.AxesSubplot at 0x109a5e7d0>"
       ]
      },
      {
       "metadata": {},
       "output_type": "display_data",
       "png": "[encoded data removed]",
       "text": [
        "<matplotlib.figure.Figure at 0x109a5e110>"
       ]
      }
     ],
     "prompt_number": 17
    },
    {
     "cell_type": "markdown",
     "metadata": {},
     "source": [
      "[Dr. Stephen Henson](http://www.drh-consultancy.demon.co.uk/) clearly dominates."
     ]
    },
    {
     "cell_type": "heading",
     "level": 2,
     "metadata": {},
     "source": [
      "Has development speed increased or slowed down over time?"
     ]
    },
    {
     "cell_type": "markdown",
     "metadata": {},
     "source": [
      "Introduce counter:"
     ]
    },
    {
     "cell_type": "code",
     "collapsed": false,
     "input": [
      "df[\"c\"]=1   # counter\n",
      "commits_over_time=df.c.cumsum().plot()\n",
      "commits_over_time"
     ],
     "language": "python",
     "metadata": {},
     "outputs": [
      {
       "metadata": {},
       "output_type": "pyout",
       "prompt_number": 18,
       "text": [
        "<matplotlib.axes.AxesSubplot at 0x10999ded0>"
       ]
      },
      {
       "metadata": {},
       "output_type": "display_data",
       "png": "[encoded data removed]",
       "text": [
        "<matplotlib.figure.Figure at 0x109ac6350>"
       ]
      }
     ],
     "prompt_number": 18
    },
    {
     "cell_type": "heading",
     "level": 2,
     "metadata": {},
     "source": [
      "Has the number of authors increased or decreased over time?"
     ]
    },
    {
     "cell_type": "code",
     "collapsed": false,
     "input": [
      "authors = commits_per_author.index\n",
      "timelines=pd.DataFrame(index=df.index)\n",
      "for author in authors:\n",
      "    timelines[author]=df.c.where(df.author==author)\n",
      "timelines.head()"
     ],
     "language": "python",
     "metadata": {},
     "outputs": [
      {
       "html": [
        "<div style=\"max-height:1000px;max-width:1500px;overflow:auto;\">\n",
        "<table border=\"1\" class=\"dataframe\">\n",
        "  <thead>\n",
        "    <tr style=\"text-align: right;\">\n",
        "      <th></th>\n",
        "      <th>Dr. Stephen Henson</th>\n",
        "      <th>Richard Levitte</th>\n",
        "      <th>Andy Polyakov</th>\n",
        "      <th>Bodo M\u00f6ller</th>\n",
        "      <th>Ulf M\u00f6ller</th>\n",
        "      <th>Ben Laurie</th>\n",
        "      <th>Geoff Thorpe</th>\n",
        "      <th>Lutz J\u00e4nicke</th>\n",
        "      <th>Nils Larsch</th>\n",
        "      <th>Ralf S. Engelschall</th>\n",
        "      <th>Mark J. Cox</th>\n",
        "      <th>Paul C. Sutton</th>\n",
        "      <th>Adam Langley</th>\n",
        "      <th>Daniel Kahn Gillmor</th>\n",
        "      <th>Rob Stradling</th>\n",
        "      <th>Scott Deboy</th>\n",
        "      <th>stephen</th>\n",
        "      <th>Trevor Perrin</th>\n",
        "      <th>Carlos Alberto Lopez Perez</th>\n",
        "      <th>Bodo Moeller</th>\n",
        "      <th></th>\n",
        "    </tr>\n",
        "    <tr>\n",
        "      <th>time</th>\n",
        "      <th></th>\n",
        "      <th></th>\n",
        "      <th></th>\n",
        "      <th></th>\n",
        "      <th></th>\n",
        "      <th></th>\n",
        "      <th></th>\n",
        "      <th></th>\n",
        "      <th></th>\n",
        "      <th></th>\n",
        "      <th></th>\n",
        "      <th></th>\n",
        "      <th></th>\n",
        "      <th></th>\n",
        "      <th></th>\n",
        "      <th></th>\n",
        "      <th></th>\n",
        "      <th></th>\n",
        "      <th></th>\n",
        "      <th></th>\n",
        "    </tr>\n",
        "  </thead>\n",
        "  <tbody>\n",
        "    <tr>\n",
        "      <th>1998-12-21 10:52:45</th>\n",
        "      <td>NaN</td>\n",
        "      <td>NaN</td>\n",
        "      <td>NaN</td>\n",
        "      <td>NaN</td>\n",
        "      <td>NaN</td>\n",
        "      <td>NaN</td>\n",
        "      <td>NaN</td>\n",
        "      <td>NaN</td>\n",
        "      <td>NaN</td>\n",
        "      <td> 1</td>\n",
        "      <td>NaN</td>\n",
        "      <td>NaN</td>\n",
        "      <td>NaN</td>\n",
        "      <td>NaN</td>\n",
        "      <td>NaN</td>\n",
        "      <td>NaN</td>\n",
        "      <td>NaN</td>\n",
        "      <td>NaN</td>\n",
        "      <td>NaN</td>\n",
        "      <td>NaN</td>\n",
        "      <td>...</td>\n",
        "    </tr>\n",
        "    <tr>\n",
        "      <th>1998-12-21 10:52:45</th>\n",
        "      <td>NaN</td>\n",
        "      <td>NaN</td>\n",
        "      <td>NaN</td>\n",
        "      <td>NaN</td>\n",
        "      <td>NaN</td>\n",
        "      <td>NaN</td>\n",
        "      <td>NaN</td>\n",
        "      <td>NaN</td>\n",
        "      <td>NaN</td>\n",
        "      <td> 1</td>\n",
        "      <td>NaN</td>\n",
        "      <td>NaN</td>\n",
        "      <td>NaN</td>\n",
        "      <td>NaN</td>\n",
        "      <td>NaN</td>\n",
        "      <td>NaN</td>\n",
        "      <td>NaN</td>\n",
        "      <td>NaN</td>\n",
        "      <td>NaN</td>\n",
        "      <td>NaN</td>\n",
        "      <td>...</td>\n",
        "    </tr>\n",
        "    <tr>\n",
        "      <th>1998-12-21 10:52:47</th>\n",
        "      <td>NaN</td>\n",
        "      <td>NaN</td>\n",
        "      <td>NaN</td>\n",
        "      <td>NaN</td>\n",
        "      <td>NaN</td>\n",
        "      <td>NaN</td>\n",
        "      <td>NaN</td>\n",
        "      <td>NaN</td>\n",
        "      <td>NaN</td>\n",
        "      <td> 1</td>\n",
        "      <td>NaN</td>\n",
        "      <td>NaN</td>\n",
        "      <td>NaN</td>\n",
        "      <td>NaN</td>\n",
        "      <td>NaN</td>\n",
        "      <td>NaN</td>\n",
        "      <td>NaN</td>\n",
        "      <td>NaN</td>\n",
        "      <td>NaN</td>\n",
        "      <td>NaN</td>\n",
        "      <td>...</td>\n",
        "    </tr>\n",
        "    <tr>\n",
        "      <th>1998-12-21 10:52:47</th>\n",
        "      <td>NaN</td>\n",
        "      <td>NaN</td>\n",
        "      <td>NaN</td>\n",
        "      <td>NaN</td>\n",
        "      <td>NaN</td>\n",
        "      <td>NaN</td>\n",
        "      <td>NaN</td>\n",
        "      <td>NaN</td>\n",
        "      <td>NaN</td>\n",
        "      <td> 1</td>\n",
        "      <td>NaN</td>\n",
        "      <td>NaN</td>\n",
        "      <td>NaN</td>\n",
        "      <td>NaN</td>\n",
        "      <td>NaN</td>\n",
        "      <td>NaN</td>\n",
        "      <td>NaN</td>\n",
        "      <td>NaN</td>\n",
        "      <td>NaN</td>\n",
        "      <td>NaN</td>\n",
        "      <td>...</td>\n",
        "    </tr>\n",
        "    <tr>\n",
        "      <th>1998-12-21 10:56:30</th>\n",
        "      <td>NaN</td>\n",
        "      <td>NaN</td>\n",
        "      <td>NaN</td>\n",
        "      <td>NaN</td>\n",
        "      <td>NaN</td>\n",
        "      <td>NaN</td>\n",
        "      <td>NaN</td>\n",
        "      <td>NaN</td>\n",
        "      <td>NaN</td>\n",
        "      <td> 1</td>\n",
        "      <td>NaN</td>\n",
        "      <td>NaN</td>\n",
        "      <td>NaN</td>\n",
        "      <td>NaN</td>\n",
        "      <td>NaN</td>\n",
        "      <td>NaN</td>\n",
        "      <td>NaN</td>\n",
        "      <td>NaN</td>\n",
        "      <td>NaN</td>\n",
        "      <td>NaN</td>\n",
        "      <td>...</td>\n",
        "    </tr>\n",
        "  </tbody>\n",
        "</table>\n",
        "<p>5 rows \u00d7 44 columns</p>\n",
        "</div>"
       ],
       "metadata": {},
       "output_type": "pyout",
       "prompt_number": 19,
       "text": [
        "                     Dr. Stephen Henson  Richard Levitte  Andy Polyakov  \\\n",
        "time                                                                      \n",
        "1998-12-21 10:52:45                 NaN              NaN            NaN   \n",
        "1998-12-21 10:52:45                 NaN              NaN            NaN   \n",
        "1998-12-21 10:52:47                 NaN              NaN            NaN   \n",
        "1998-12-21 10:52:47                 NaN              NaN            NaN   \n",
        "1998-12-21 10:56:30                 NaN              NaN            NaN   \n",
        "\n",
        "                     Bodo M\u00f6ller  Ulf M\u00f6ller  Ben Laurie  Geoff Thorpe  \\\n",
        "time                                                                     \n",
        "1998-12-21 10:52:45          NaN         NaN         NaN           NaN   \n",
        "1998-12-21 10:52:45          NaN         NaN         NaN           NaN   \n",
        "1998-12-21 10:52:47          NaN         NaN         NaN           NaN   \n",
        "1998-12-21 10:52:47          NaN         NaN         NaN           NaN   \n",
        "1998-12-21 10:56:30          NaN         NaN         NaN           NaN   \n",
        "\n",
        "                     Lutz J\u00e4nicke  Nils Larsch  Ralf S. Engelschall  \\\n",
        "time                                                                  \n",
        "1998-12-21 10:52:45           NaN          NaN                    1   \n",
        "1998-12-21 10:52:45           NaN          NaN                    1   \n",
        "1998-12-21 10:52:47           NaN          NaN                    1   \n",
        "1998-12-21 10:52:47           NaN          NaN                    1   \n",
        "1998-12-21 10:56:30           NaN          NaN                    1   \n",
        "\n",
        "                     Mark J. Cox  Paul C. Sutton  Adam Langley  \\\n",
        "time                                                             \n",
        "1998-12-21 10:52:45          NaN             NaN           NaN   \n",
        "1998-12-21 10:52:45          NaN             NaN           NaN   \n",
        "1998-12-21 10:52:47          NaN             NaN           NaN   \n",
        "1998-12-21 10:52:47          NaN             NaN           NaN   \n",
        "1998-12-21 10:56:30          NaN             NaN           NaN   \n",
        "\n",
        "                     Daniel Kahn Gillmor  Rob Stradling  Scott Deboy  stephen  \\\n",
        "time                                                                            \n",
        "1998-12-21 10:52:45                  NaN            NaN          NaN      NaN   \n",
        "1998-12-21 10:52:45                  NaN            NaN          NaN      NaN   \n",
        "1998-12-21 10:52:47                  NaN            NaN          NaN      NaN   \n",
        "1998-12-21 10:52:47                  NaN            NaN          NaN      NaN   \n",
        "1998-12-21 10:56:30                  NaN            NaN          NaN      NaN   \n",
        "\n",
        "                     Trevor Perrin  Carlos Alberto Lopez Perez  Bodo Moeller  \\\n",
        "time                                                                           \n",
        "1998-12-21 10:52:45            NaN                         NaN           NaN   \n",
        "1998-12-21 10:52:45            NaN                         NaN           NaN   \n",
        "1998-12-21 10:52:47            NaN                         NaN           NaN   \n",
        "1998-12-21 10:52:47            NaN                         NaN           NaN   \n",
        "1998-12-21 10:56:30            NaN                         NaN           NaN   \n",
        "\n",
        "                         \n",
        "time                     \n",
        "1998-12-21 10:52:45 ...  \n",
        "1998-12-21 10:52:45 ...  \n",
        "1998-12-21 10:52:47 ...  \n",
        "1998-12-21 10:52:47 ...  \n",
        "1998-12-21 10:56:30 ...  \n",
        "\n",
        "[5 rows x 44 columns]"
       ]
      }
     ],
     "prompt_number": 19
    },
    {
     "cell_type": "code",
     "collapsed": false,
     "input": [
      "default_palette = sns.color_palette()"
     ],
     "language": "python",
     "metadata": {},
     "outputs": [],
     "prompt_number": 20
    },
    {
     "cell_type": "code",
     "collapsed": false,
     "input": [
      "sns.set_palette(\"Set1\")\n",
      "top_authors=authors[:10]\n",
      "timelines[top_authors].cumsum().plot(style=\"o\",figsize=(20,10))"
     ],
     "language": "python",
     "metadata": {},
     "outputs": [
      {
       "metadata": {},
       "output_type": "pyout",
       "prompt_number": 21,
       "text": [
        "<matplotlib.axes.AxesSubplot at 0x109f9dd10>"
       ]
      },
      {
       "metadata": {},
       "output_type": "display_data",
       "png": "[encoded data removed]",
       "text": [
        "<matplotlib.figure.Figure at 0x109d0a950>"
       ]
      }
     ],
     "prompt_number": 21
    },
    {
     "cell_type": "code",
     "collapsed": false,
     "input": [
      "sns.set_palette(default_palette)"
     ],
     "language": "python",
     "metadata": {},
     "outputs": [],
     "prompt_number": 22
    },
    {
     "cell_type": "markdown",
     "metadata": {},
     "source": [
      "Let's see how many authors where active together, e.g. during a 3 month period:"
     ]
    },
    {
     "cell_type": "code",
     "collapsed": false,
     "input": [
      "per_months=timelines.resample(\"3M\", how=\"sum\")\n",
      "per_months[\"nauthors\"]=per_months.applymap(lambda x: min(x, 1)).sum(axis=1)\n",
      "per_months[\"nauthors\"].plot(kind=\"bar\", figsize=(20,5))"
     ],
     "language": "python",
     "metadata": {},
     "outputs": [
      {
       "metadata": {},
       "output_type": "pyout",
       "prompt_number": 23,
       "text": [
        "<matplotlib.axes.AxesSubplot at 0x10a16d550>"
       ]
      },
      {
       "metadata": {},
       "output_type": "display_data",
       "png": "[encoded data removed]",
       "text": [
        "<matplotlib.figure.Figure at 0x10a16f390>"
       ]
      }
     ],
     "prompt_number": 23
    },
    {
     "cell_type": "markdown",
     "metadata": {},
     "source": [
      "So there have been 3 to 13 authors per quarter year.  "
     ]
    },
    {
     "cell_type": "heading",
     "level": 2,
     "metadata": {},
     "source": [
      "How much has the code base increased over time?"
     ]
    },
    {
     "cell_type": "markdown",
     "metadata": {},
     "source": [
      "For now we just cound the number of files:"
     ]
    },
    {
     "cell_type": "code",
     "collapsed": false,
     "input": [
      "cd openssl/"
     ],
     "language": "python",
     "metadata": {},
     "outputs": [
      {
       "output_type": "stream",
       "stream": "stdout",
       "text": [
        "/Users/dirk/projekte/openssl-git/openssl\n"
       ]
      }
     ],
     "prompt_number": 24
    },
    {
     "cell_type": "code",
     "collapsed": false,
     "input": [
      "%%time \n",
      "filecounts = []\n",
      "for commit in df[\"id\"]:\n",
      "    cfiles =! git ls-tree -r --name-only $commit\n",
      "    filecounts.append(len(cfiles))"
     ],
     "language": "python",
     "metadata": {},
     "outputs": [
      {
       "output_type": "stream",
       "stream": "stdout",
       "text": [
        "CPU times: user 16.7 s, sys: 36.6 s, total: 53.3 s\n",
        "Wall time: 4min 2s\n"
       ]
      }
     ],
     "prompt_number": 25
    },
    {
     "cell_type": "code",
     "collapsed": false,
     "input": [
      "filestats=pd.DataFrame({\"filecount\": filecounts}, index=df.index)\n",
      "filestats.plot(figsize=(10,6))"
     ],
     "language": "python",
     "metadata": {},
     "outputs": [
      {
       "metadata": {},
       "output_type": "pyout",
       "prompt_number": 26,
       "text": [
        "<matplotlib.axes.AxesSubplot at 0x109d19f10>"
       ]
      },
      {
       "metadata": {},
       "output_type": "display_data",
       "png": "[encoded data removed]",
       "text": [
        "<matplotlib.figure.Figure at 0x10a1560d0>"
       ]
      }
     ],
     "prompt_number": 26
    },
    {
     "cell_type": "markdown",
     "metadata": {},
     "source": [
      "As we have seen before, at the beginning code was imported from SSLeay, so the graph starts with more than 1000 files."
     ]
    },
    {
     "cell_type": "heading",
     "level": 2,
     "metadata": {},
     "source": [
      "Which files have been changed most often?"
     ]
    },
    {
     "cell_type": "markdown",
     "metadata": {},
     "source": [
      "The idea for the following git command comes from Gary Bernhardt's [gitchurn](https://github.com/garybernhardt/dotfiles/blob/master/bin/git-churn). We can simplify it though, because we have Python and pandas:"
     ]
    },
    {
     "cell_type": "code",
     "collapsed": false,
     "input": [
      "file_changes =! git log --all -M -C --name-only --format='format:' | grep -v '^$'\n",
      "dfc = pd.Series(list(file_changes))\n",
      "dfc.value_counts()"
     ],
     "language": "python",
     "metadata": {},
     "outputs": [
      {
       "metadata": {},
       "output_type": "pyout",
       "prompt_number": 27,
       "text": [
        "CHANGES            2993\n",
        "Configure          1440\n",
        "Makefile.org        713\n",
        "ssl/ssl.h           665\n",
        "TABLE               628\n",
        "util/libeay.num     567\n",
        "ssl/s3_srvr.c       539\n",
        "STATUS              513\n",
        "ssl/ssl_lib.c       484\n",
        "apps/s_server.c     439\n",
        "ssl/s3_clnt.c       435\n",
        "FAQ                 407\n",
        "ssl/t1_lib.c        387\n",
        "config              384\n",
        "ssl/s3_lib.c        376\n",
        "...\n",
        "fips/sha/fips_sha.h                             1\n",
        "VMS/compaq/cpq-axpvms-ssl-t0100--1.pcsi$text    1\n",
        "fips/testvectors/des3/sample/TCBCinvperm.sam    1\n",
        "fips/testvectors/des3/sample/TOFBvarkey.sam     1\n",
        "fips/testvectors/des2/req/TCFB1permop.req       1\n",
        "fips/testvectors/dsa/req/SigVer.req             1\n",
        "cpq-axpvms-ssl-t0100--1.pcsi$desc               1\n",
        "fips/testvectors/des3/req/TCFB8Monte2.req       1\n",
        "doc/crypto/d2i_ASN1_OBJECT.pod                  1\n",
        "fips/testvectors/des2/sample/TCFB64MMT2.sam     1\n",
        "fips/testvectors/des2/req/TECBinvperm.req       1\n",
        "demos/vms_examples/ssl$simple_serv.c            1\n",
        "fips-1.0/fipsalgtest.pl                         1\n",
        "fips/testvectors/des3/sample/TCBCvarkey.sam     1\n",
        "fips/testvectors/des3/req/TCBCMonte2.req        1\n",
        "Length: 4236, dtype: int64"
       ]
      }
     ],
     "prompt_number": 27
    },
    {
     "cell_type": "code",
     "collapsed": false,
     "input": [
      "c_changes=dfc.where(dfc.str.endswith(\".c\")).value_counts()\n",
      "c_changes"
     ],
     "language": "python",
     "metadata": {},
     "outputs": [
      {
       "metadata": {},
       "output_type": "pyout",
       "prompt_number": 28,
       "text": [
        "ssl/s3_srvr.c             539\n",
        "ssl/ssl_lib.c             484\n",
        "apps/s_server.c           439\n",
        "ssl/s3_clnt.c             435\n",
        "ssl/t1_lib.c              387\n",
        "ssl/s3_lib.c              376\n",
        "apps/s_client.c           375\n",
        "apps/apps.c               321\n",
        "apps/ca.c                 296\n",
        "apps/speed.c              286\n",
        "ssl/ssltest.c             269\n",
        "crypto/x509/x509_vfy.c    248\n",
        "ssl/ssl_err.c             248\n",
        "ssl/s3_pkt.c              237\n",
        "ssl/ssl_ciph.c            236\n",
        "...\n",
        "fips/ecdsa/fips_ecdsa_lib.c                         1\n",
        "demos/vms_examples/ssl$serv_sess_reuse.c            1\n",
        "demos/err/main.c                                    1\n",
        "crypto/evp/evp_aead.c                               1\n",
        "fips/sha/fips_sha1dgst.c                            1\n",
        "demos/vms_examples/ssl$serv_verify_client.c         1\n",
        "demos/vms_examples/ssl$serv_sess_reuse_cli_ver.c    1\n",
        "crypto/poly1305/poly1305_arm.c                      1\n",
        "engines/ccgost/md_gost.c                            1\n",
        "demos/vms_examples/ssl$cli_sess_renego.c            1\n",
        "crypto/poly1305/poly1305.c                          1\n",
        "engines/ccgost/pmeth.c                              1\n",
        "demos/vms_examples/ssl$simple_cli.c                 1\n",
        "crypto/ts/ts_resp_sign.c                            1\n",
        "crypto/poly1305/poly1305test.c                      1\n",
        "Length: 1288, dtype: int64"
       ]
      }
     ],
     "prompt_number": 28
    },
    {
     "cell_type": "code",
     "collapsed": false,
     "input": [
      "c_changes.plot()"
     ],
     "language": "python",
     "metadata": {},
     "outputs": [
      {
       "metadata": {},
       "output_type": "pyout",
       "prompt_number": 29,
       "text": [
        "<matplotlib.axes.AxesSubplot at 0x10b498390>"
       ]
      },
      {
       "metadata": {},
       "output_type": "display_data",
       "png": "[encoded data removed]",
       "text": [
        "<matplotlib.figure.Figure at 0x109fa4c90>"
       ]
      }
     ],
     "prompt_number": 29
    },
    {
     "cell_type": "markdown",
     "metadata": {},
     "source": [
      "As expected, a few files are changed very often and most files are changed infrequently."
     ]
    },
    {
     "cell_type": "markdown",
     "metadata": {},
     "source": [
      "What about header files?"
     ]
    },
    {
     "cell_type": "code",
     "collapsed": false,
     "input": [
      "h_changes=dfc.where(dfc.str.endswith(\".h\")).value_counts()\n",
      "h_changes"
     ],
     "language": "python",
     "metadata": {},
     "outputs": [
      {
       "metadata": {},
       "output_type": "pyout",
       "prompt_number": 30,
       "text": [
        "ssl/ssl.h                   665\n",
        "crypto/evp/evp.h            366\n",
        "ssl/ssl_locl.h              343\n",
        "crypto/opensslv.h           329\n",
        "crypto/asn1/asn1.h          280\n",
        "crypto/x509/x509.h          260\n",
        "crypto/objects/obj_dat.h    234\n",
        "crypto/bn/bn.h              225\n",
        "e_os.h                      214\n",
        "crypto/objects/obj_mac.h    194\n",
        "crypto/rsa/rsa.h            190\n",
        "crypto/crypto.h             190\n",
        "apps/apps.h                 189\n",
        "crypto/x509v3/x509v3.h      182\n",
        "ssl/ssl3.h                  176\n",
        "...\n",
        "engines/ccgost/keywrap.h                  1\n",
        "apps/term_sock.h                          1\n",
        "fips/sha/fips_md32_common.h               1\n",
        "crypto/poly1305/poly1305.h                1\n",
        "engines/vendor_defns/cswift.h             1\n",
        "fips/sha/fips_sha_locl.h                  1\n",
        "engines/ccgost/paramset.h                 1\n",
        "fips/sha/fips_sha.h                       1\n",
        "crypto/o_dir.h                            1\n",
        "crypto/engine/vendor_defns/keyclient.h    1\n",
        "demos/err/test_err.h                      1\n",
        "crypto/chacha/chacha.h                    1\n",
        "engines/vendor_defns/hw_4758_cca.h        1\n",
        "engines/vendor_defns/hw_ubsec.h           1\n",
        "engines/vendor_defns/atalla.h             1\n",
        "Length: 270, dtype: int64"
       ]
      }
     ],
     "prompt_number": 30
    },
    {
     "cell_type": "markdown",
     "metadata": {},
     "source": [
      "To be continued... ;-)"
     ]
    }
   ],
   "metadata": {}
  }
 ]
}