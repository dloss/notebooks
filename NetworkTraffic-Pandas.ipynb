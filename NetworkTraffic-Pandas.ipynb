{
 "metadata": {
  "name": "pcap"
 },
 "nbformat": 3,
 "nbformat_minor": 0,
 "worksheets": [
  {
   "cells": [
    {
     "cell_type": "heading",
     "level": 1,
     "metadata": {},
     "source": [
      "Analysing network traffic with Pandas"
     ]
    },
    {
     "cell_type": "markdown",
     "metadata": {},
     "source": [
      "Dirk Loss, http://dirk-loss.de, @dloss. \n",
      "v1.1, 2013-06-02"
     ]
    },
    {
     "cell_type": "markdown",
     "metadata": {},
     "source": [
      "This IPython notebook shows how to analyse network traffic using the following tools:\n",
      "    \n",
      "* **Pandas**, a Python library for analysing data <http://pandas.pydata.org/>\n",
      "* **tshark**, the command line version of the Wireshark sniffer <http://http://www.wireshark.org/>\n",
      "* **Matplotlib**, a Python plotting library <http://matplotlib.org/>"
     ]
    },
    {
     "cell_type": "markdown",
     "metadata": {},
     "source": [
      "Pandas allows for very flexible analysis, treating your PCAP files as a timeseries of packet data. \n",
      "\n",
      "So if the statistics provided by Wireshark are not enough, you might want to try this. And it's more fun, of course. :) "
     ]
    },
    {
     "cell_type": "heading",
     "level": 2,
     "metadata": {},
     "source": [
      "Get a PCAP file"
     ]
    },
    {
     "cell_type": "markdown",
     "metadata": {},
     "source": [
      "First we need a PCAP file. I chose a sample file from the Digital Corpora site that has been used for courses in network forensics:"
     ]
    },
    {
     "cell_type": "code",
     "collapsed": false,
     "input": [
      "from IPython.display import HTML\n",
      "HTML('<iframe src=http://digitalcorpora.org/corpora/scenarios/nitroba-university-harassment-scenario width=600 height=300></iframe>')"
     ],
     "language": "python",
     "metadata": {},
     "outputs": [
      {
       "html": [
        "<iframe src=http://digitalcorpora.org/corpora/scenarios/nitroba-university-harassment-scenario width=600 height=300></iframe>"
       ],
       "output_type": "pyout",
       "prompt_number": 1,
       "text": [
        "<IPython.core.display.HTML at 0x9492eac>"
       ]
      }
     ],
     "prompt_number": 1
    },
    {
     "cell_type": "code",
     "collapsed": false,
     "input": [
      "!mkdir -p pcap"
     ],
     "language": "python",
     "metadata": {},
     "outputs": [],
     "prompt_number": 2
    },
    {
     "cell_type": "code",
     "collapsed": false,
     "input": [
      "cd pcap"
     ],
     "language": "python",
     "metadata": {},
     "outputs": [
      {
       "output_type": "stream",
       "stream": "stdout",
       "text": [
        "/home/dirk/projects/pcap"
       ]
      },
      {
       "output_type": "stream",
       "stream": "stdout",
       "text": [
        "\n"
       ]
      }
     ],
     "prompt_number": 3
    },
    {
     "cell_type": "markdown",
     "metadata": {},
     "source": [
      "We can download it using curl or pure Python. Just uncomment one of the following cells:"
     ]
    },
    {
     "cell_type": "code",
     "collapsed": false,
     "input": [
      "url=\"http://digitalcorpora.org/corp/nps/packets/2008-nitroba/nitroba.pcap\""
     ],
     "language": "python",
     "metadata": {},
     "outputs": [],
     "prompt_number": 4
    },
    {
     "cell_type": "code",
     "collapsed": false,
     "input": [
      "# If you have curl installed, we can get nice progress bars:\n",
      "#!curl -o nitroba.pcap $url"
     ],
     "language": "python",
     "metadata": {},
     "outputs": [],
     "prompt_number": 5
    },
    {
     "cell_type": "code",
     "collapsed": false,
     "input": [
      "# Or use pure Python:\n",
      "# import urllib\n",
      "# urllib.urlretrieve(url, \"nitroba.pcap\")"
     ],
     "language": "python",
     "metadata": {},
     "outputs": [],
     "prompt_number": 6
    },
    {
     "cell_type": "code",
     "collapsed": false,
     "input": [
      "ls -l nitroba.pcap"
     ],
     "language": "python",
     "metadata": {},
     "outputs": [
      {
       "output_type": "stream",
       "stream": "stdout",
       "text": [
        "-rw-rw-r-- 1 dirk dirk 56795590 Jun  2 12:10 nitroba.pcap\r\n"
       ]
      }
     ],
     "prompt_number": 7
    },
    {
     "cell_type": "code",
     "collapsed": false,
     "input": [
      "!md5sum nitroba.pcap"
     ],
     "language": "python",
     "metadata": {},
     "outputs": [
      {
       "output_type": "stream",
       "stream": "stdout",
       "text": [
        "d6b5df10fc572b54ceb9c543d11f10a4  nitroba.pcap\r\n"
       ]
      }
     ],
     "prompt_number": 8
    },
    {
     "cell_type": "heading",
     "level": 2,
     "metadata": {},
     "source": [
      "Convert PCAP to a CSV using tshark"
     ]
    },
    {
     "cell_type": "markdown",
     "metadata": {},
     "source": [
      "We can use the `tshark` command from the Wireshark tool suite to read the PCAP file and convert it into a tab-separated file. This might not be very fast, but it is very flexible, because all of Wireshark's diplay filters can be used to select the packets that we are interested in."
     ]
    },
    {
     "cell_type": "code",
     "collapsed": false,
     "input": [
      "!tshark -v"
     ],
     "language": "python",
     "metadata": {},
     "outputs": [
      {
       "output_type": "stream",
       "stream": "stdout",
       "text": [
        "TShark 1.6.7\r\n",
        "\r\n",
        "Copyright 1998-2012 Gerald Combs <gerald@wireshark.org> and contributors.\r\n",
        "This is free software; see the source for copying conditions. There is NO\r\n",
        "warranty; not even for MERCHANTABILITY or FITNESS FOR A PARTICULAR PURPOSE.\r\n",
        "\r\n",
        "Compiled (32-bit) with GLib 2.32.0, with libpcap (version unknown), with libz\r\n",
        "1.2.3.4, with POSIX capabilities (Linux), without libpcre, with SMI 0.4.8, with\r\n",
        "c-ares 1.7.5, with Lua 5.1, without Python, with GnuTLS 2.12.14, with Gcrypt\r\n",
        "1.5.0, with MIT Kerberos, with GeoIP.\r\n",
        "\r\n",
        "Running on Linux 3.2.0-45-generic, with libpcap version 1.1.1, with libz\r\n",
        "1.2.3.4.\r\n",
        "\r\n",
        "Built using gcc 4.6.3.\r\n"
       ]
      }
     ],
     "prompt_number": 9
    },
    {
     "cell_type": "markdown",
     "metadata": {},
     "source": [
      "For now, I just select the frame number and the frame length and redirect the output to a file:"
     ]
    },
    {
     "cell_type": "code",
     "collapsed": false,
     "input": [
      "!tshark -n -r nitroba.pcap -T fields -Eheader=y -e frame.number -e frame.len > frame.len"
     ],
     "language": "python",
     "metadata": {},
     "outputs": [],
     "prompt_number": 10
    },
    {
     "cell_type": "markdown",
     "metadata": {},
     "source": [
      "Let's have a look at the file:"
     ]
    },
    {
     "cell_type": "code",
     "collapsed": false,
     "input": [
      "!head -10 frame.len"
     ],
     "language": "python",
     "metadata": {},
     "outputs": [
      {
       "output_type": "stream",
       "stream": "stdout",
       "text": [
        "frame.number\tframe.len\r\n",
        "1\t70\r\n",
        "2\t70\r\n",
        "3\t1421\r\n",
        "4\t70\r\n",
        "5\t1284\r\n",
        "6\t70\r\n",
        "7\t70\r\n",
        "8\t70\r\n",
        "9\t78\r\n"
       ]
      }
     ],
     "prompt_number": 11
    },
    {
     "cell_type": "markdown",
     "metadata": {},
     "source": [
      "Two columns, tab-separaed. (Not exactly CSV, but who cares. ;-)"
     ]
    },
    {
     "cell_type": "markdown",
     "metadata": {},
     "source": [
      "Pandas can read those tables into a DataFrame object:"
     ]
    },
    {
     "cell_type": "code",
     "collapsed": false,
     "input": [
      "import pandas as pd"
     ],
     "language": "python",
     "metadata": {},
     "outputs": [],
     "prompt_number": 12
    },
    {
     "cell_type": "code",
     "collapsed": false,
     "input": [
      "df=pd.read_table(\"frame.len\")"
     ],
     "language": "python",
     "metadata": {},
     "outputs": [],
     "prompt_number": 13
    },
    {
     "cell_type": "markdown",
     "metadata": {},
     "source": [
      "The object has a nice default representation that shows the number of values in each row:"
     ]
    },
    {
     "cell_type": "code",
     "collapsed": false,
     "input": [
      "df"
     ],
     "language": "python",
     "metadata": {},
     "outputs": [
      {
       "html": [
        "<pre>\n",
        "&ltclass 'pandas.core.frame.DataFrame'&gt\n",
        "Int64Index: 95175 entries, 0 to 95174\n",
        "Data columns (total 2 columns):\n",
        "frame.number    95175  non-null values\n",
        "frame.len       95175  non-null values\n",
        "dtypes: int64(2)\n",
        "</pre>"
       ],
       "output_type": "pyout",
       "prompt_number": 14,
       "text": [
        "<class 'pandas.core.frame.DataFrame'>\n",
        "Int64Index: 95175 entries, 0 to 95174\n",
        "Data columns (total 2 columns):\n",
        "frame.number    95175  non-null values\n",
        "frame.len       95175  non-null values\n",
        "dtypes: int64(2)"
       ]
      }
     ],
     "prompt_number": 14
    },
    {
     "cell_type": "markdown",
     "metadata": {},
     "source": [
      "Some statistics about the frame length:"
     ]
    },
    {
     "cell_type": "code",
     "collapsed": false,
     "input": [
      "df[\"frame.len\"].describe()"
     ],
     "language": "python",
     "metadata": {},
     "outputs": [
      {
       "output_type": "pyout",
       "prompt_number": 15,
       "text": [
        "count    95175.000000\n",
        "mean       580.748789\n",
        "std        625.757017\n",
        "min         42.000000\n",
        "25%         70.000000\n",
        "50%         87.000000\n",
        "75%       1466.000000\n",
        "max       1466.000000\n",
        "dtype: float64"
       ]
      }
     ],
     "prompt_number": 15
    },
    {
     "cell_type": "markdown",
     "metadata": {},
     "source": [
      "The minimum and maximum frame lengths are plausible for an Ethernet connection."
     ]
    },
    {
     "cell_type": "heading",
     "level": 2,
     "metadata": {},
     "source": [
      "Plotting"
     ]
    },
    {
     "cell_type": "markdown",
     "metadata": {},
     "source": [
      "For a better overview, we plot the frame length over time."
     ]
    },
    {
     "cell_type": "markdown",
     "metadata": {},
     "source": [
      "We initialise IPython to show inline graphics:"
     ]
    },
    {
     "cell_type": "code",
     "collapsed": false,
     "input": [
      "%pylab inline"
     ],
     "language": "python",
     "metadata": {},
     "outputs": [
      {
       "output_type": "stream",
       "stream": "stdout",
       "text": [
        "\n",
        "Welcome to pylab, a matplotlib-based Python environment [backend: module://IPython.zmq.pylab.backend_inline].\n",
        "For more information, type 'help(pylab)'."
       ]
      },
      {
       "output_type": "stream",
       "stream": "stdout",
       "text": [
        "\n"
       ]
      }
     ],
     "prompt_number": 16
    },
    {
     "cell_type": "markdown",
     "metadata": {},
     "source": [
      "Set a figure size in inches:"
     ]
    },
    {
     "cell_type": "code",
     "collapsed": false,
     "input": [
      "figsize(10,6)"
     ],
     "language": "python",
     "metadata": {},
     "outputs": [],
     "prompt_number": 17
    },
    {
     "cell_type": "markdown",
     "metadata": {},
     "source": [
      "Pandas automatically uses Matplotlib for plotting. We plot with small dots and an alpha channel of 0.2:"
     ]
    },
    {
     "cell_type": "code",
     "collapsed": true,
     "input": [
      "df[\"frame.len\"].plot(style=\".\", alpha=0.2)\n",
      "title(\"Frame length\")\n",
      "ylabel(\"bytes\")\n",
      "xlabel(\"frame number\")"
     ],
     "language": "python",
     "metadata": {},
     "outputs": [
      {
       "output_type": "pyout",
       "prompt_number": 18,
       "text": [
        "<matplotlib.text.Text at 0x9aaf58c>"
       ]
      },
      {
       "output_type": "display_data",
       "png": "[encoded data removed]"
      }
     ],
     "prompt_number": 18
    },
    {
     "cell_type": "markdown",
     "metadata": {},
     "source": [
      "So there are always lots of small packets (< 100 bytes) and lots of large packets (> 1400 bytes). Some bursts of packets with other sizes (around 400 bytes, 1000 bytes, etc.) can be clearly seen."
     ]
    },
    {
     "cell_type": "heading",
     "level": 3,
     "metadata": {},
     "source": [
      "A Python function to read PCAP files into Pandas DataFrames"
     ]
    },
    {
     "cell_type": "markdown",
     "metadata": {},
     "source": [
      "Passing all those arguments to tshark is quite cumbersome. Here is a convenience function that reads the given fields into a Pandas DataFrame:"
     ]
    },
    {
     "cell_type": "code",
     "collapsed": false,
     "input": [
      "import subprocess\n",
      "import datetime\n",
      "import pandas as pd\n",
      "\n",
      "def read_pcap(filename, fields=[], display_filter=\"\", \n",
      "              timeseries=False, strict=False):\n",
      "    \"\"\" Read PCAP file into Pandas DataFrame object. \n",
      "    Uses tshark command-line tool from Wireshark.\n",
      "\n",
      "    filename:       Name or full path of the PCAP file to read\n",
      "    fields:         List of fields to include as columns\n",
      "    display_filter: Additional filter to restrict frames\n",
      "    strict:         Only include frames that contain all given fields \n",
      "                    (Default: false)\n",
      "    timeseries:     Create DatetimeIndex from frame.time_epoch \n",
      "                    (Default: false)\n",
      "\n",
      "    Syntax for fields and display_filter is specified in\n",
      "    Wireshark's Display Filter Reference:\n",
      " \n",
      "      http://www.wireshark.org/docs/dfref/\n",
      "    \"\"\"\n",
      "    if timeseries:\n",
      "        fields = [\"frame.time_epoch\"] + fields\n",
      "    fieldspec = \" \".join(\"-e %s\" % f for f in fields)\n",
      "\n",
      "    display_filters = fields if strict else []\n",
      "    if display_filter:\n",
      "        display_filters.append(display_filter)\n",
      "    filterspec = \"-R '%s'\" % \" and \".join(f for f in display_filters)\n",
      "\n",
      "    options = \"-r %s -n -T fields -Eheader=y\" % filename\n",
      "    cmd = \"tshark %s %s %s\" % (options, filterspec, fieldspec)\n",
      "    proc = subprocess.Popen(cmd, shell = True, \n",
      "                                 stdout=subprocess.PIPE)\n",
      "    if timeseries:\n",
      "        df = pd.read_table(proc.stdout, \n",
      "                        index_col = \"frame.time_epoch\", \n",
      "                        parse_dates=True, \n",
      "                        date_parser=datetime.datetime.fromtimestamp)\n",
      "    else:\n",
      "        df = pd.read_table(proc.stdout)\n",
      "    return df"
     ],
     "language": "python",
     "metadata": {},
     "outputs": [],
     "prompt_number": 19
    },
    {
     "cell_type": "markdown",
     "metadata": {},
     "source": [
      "We will use this function in my further analysis."
     ]
    },
    {
     "cell_type": "heading",
     "level": 2,
     "metadata": {},
     "source": [
      "Bandwidth"
     ]
    },
    {
     "cell_type": "markdown",
     "metadata": {},
     "source": [
      "By summing up the frame lengths we can calculate the complete (Ethernet) bandwidth used.\n",
      "First use our convenience function to read the PCAP into a DataFrame:"
     ]
    },
    {
     "cell_type": "code",
     "collapsed": false,
     "input": [
      "framelen=read_pcap(\"nitroba.pcap\", [\"frame.len\"], timeseries=True)\n",
      "framelen"
     ],
     "language": "python",
     "metadata": {},
     "outputs": [
      {
       "html": [
        "<pre>\n",
        "&ltclass 'pandas.core.frame.DataFrame'&gt\n",
        "DatetimeIndex: 95175 entries, 2008-07-22 03:51:07.095278 to 2008-07-22 08:13:47.046029\n",
        "Data columns (total 1 columns):\n",
        "frame.len    95175  non-null values\n",
        "dtypes: int64(1)\n",
        "</pre>"
       ],
       "output_type": "pyout",
       "prompt_number": 20,
       "text": [
        "<class 'pandas.core.frame.DataFrame'>\n",
        "DatetimeIndex: 95175 entries, 2008-07-22 03:51:07.095278 to 2008-07-22 08:13:47.046029\n",
        "Data columns (total 1 columns):\n",
        "frame.len    95175  non-null values\n",
        "dtypes: int64(1)"
       ]
      }
     ],
     "prompt_number": 20
    },
    {
     "cell_type": "markdown",
     "metadata": {},
     "source": [
      "Then we re-sample the timeseries into buckets of 1 second, summing over the lengths of all frames that were captured in that second:"
     ]
    },
    {
     "cell_type": "code",
     "collapsed": false,
     "input": [
      "bytes_per_second=framelen.resample(\"S\", how=\"sum\")"
     ],
     "language": "python",
     "metadata": {},
     "outputs": [],
     "prompt_number": 21
    },
    {
     "cell_type": "markdown",
     "metadata": {},
     "source": [
      "Here are the first 5 rows. We get NaN for those timestamps where no frames were captured:"
     ]
    },
    {
     "cell_type": "code",
     "collapsed": false,
     "input": [
      "bytes_per_second.head()"
     ],
     "language": "python",
     "metadata": {},
     "outputs": [
      {
       "html": [
        "<div style=\"max-height:1000px;max-width:1500px;overflow:auto;\">\n",
        "<table border=\"1\" class=\"dataframe\">\n",
        "  <thead>\n",
        "    <tr style=\"text-align: right;\">\n",
        "      <th></th>\n",
        "      <th>frame.len</th>\n",
        "    </tr>\n",
        "    <tr>\n",
        "      <th>frame.time_epoch</th>\n",
        "      <th></th>\n",
        "    </tr>\n",
        "  </thead>\n",
        "  <tbody>\n",
        "    <tr>\n",
        "      <th>2008-07-22 03:51:07</th>\n",
        "      <td> 20729</td>\n",
        "    </tr>\n",
        "    <tr>\n",
        "      <th>2008-07-22 03:51:08</th>\n",
        "      <td>  8426</td>\n",
        "    </tr>\n",
        "    <tr>\n",
        "      <th>2008-07-22 03:51:09</th>\n",
        "      <td> 13565</td>\n",
        "    </tr>\n",
        "    <tr>\n",
        "      <th>2008-07-22 03:51:10</th>\n",
        "      <td>   NaN</td>\n",
        "    </tr>\n",
        "    <tr>\n",
        "      <th>2008-07-22 03:51:11</th>\n",
        "      <td>   NaN</td>\n",
        "    </tr>\n",
        "  </tbody>\n",
        "</table>\n",
        "</div>"
       ],
       "output_type": "pyout",
       "prompt_number": 22,
       "text": [
        "                     frame.len\n",
        "frame.time_epoch              \n",
        "2008-07-22 03:51:07      20729\n",
        "2008-07-22 03:51:08       8426\n",
        "2008-07-22 03:51:09      13565\n",
        "2008-07-22 03:51:10        NaN\n",
        "2008-07-22 03:51:11        NaN"
       ]
      }
     ],
     "prompt_number": 22
    },
    {
     "cell_type": "code",
     "collapsed": false,
     "input": [
      "bytes_per_second.plot()"
     ],
     "language": "python",
     "metadata": {},
     "outputs": [
      {
       "output_type": "pyout",
       "prompt_number": 23,
       "text": [
        "<matplotlib.axes.AxesSubplot at 0x9f40d2c>"
       ]
      },
      {
       "output_type": "display_data",
       "png": "[encoded data removed]"
      }
     ],
     "prompt_number": 23
    },
    {
     "cell_type": "heading",
     "level": 2,
     "metadata": {},
     "source": [
      "TCP Time-Sequence Graph"
     ]
    },
    {
     "cell_type": "markdown",
     "metadata": {},
     "source": [
      "Let's try to replicate the TCP Time-Sequence Graph that is known from Wireshark (Statistics > TCP Stream Analysis > Time-Sequence Graph (Stevens)."
     ]
    },
    {
     "cell_type": "code",
     "collapsed": false,
     "input": [
      "fields=[\"tcp.stream\", \"ip.src\", \"ip.dst\", \"tcp.seq\", \"tcp.ack\", \"tcp.window_size\", \"tcp.len\"]\n",
      "ts=read_pcap(\"nitroba.pcap\", fields, timeseries=True, strict=True)\n",
      "ts"
     ],
     "language": "python",
     "metadata": {},
     "outputs": [
      {
       "html": [
        "<pre>\n",
        "&ltclass 'pandas.core.frame.DataFrame'&gt\n",
        "DatetimeIndex: 81451 entries, 2008-07-22 03:51:07.095278 to 2008-07-22 08:13:47.046029\n",
        "Data columns (total 7 columns):\n",
        "tcp.stream         81451  non-null values\n",
        "ip.src             81451  non-null values\n",
        "ip.dst             81451  non-null values\n",
        "tcp.seq            81451  non-null values\n",
        "tcp.ack            81451  non-null values\n",
        "tcp.window_size    81451  non-null values\n",
        "tcp.len            81451  non-null values\n",
        "dtypes: int64(5), object(2)\n",
        "</pre>"
       ],
       "output_type": "pyout",
       "prompt_number": 24,
       "text": [
        "<class 'pandas.core.frame.DataFrame'>\n",
        "DatetimeIndex: 81451 entries, 2008-07-22 03:51:07.095278 to 2008-07-22 08:13:47.046029\n",
        "Data columns (total 7 columns):\n",
        "tcp.stream         81451  non-null values\n",
        "ip.src             81451  non-null values\n",
        "ip.dst             81451  non-null values\n",
        "tcp.seq            81451  non-null values\n",
        "tcp.ack            81451  non-null values\n",
        "tcp.window_size    81451  non-null values\n",
        "tcp.len            81451  non-null values\n",
        "dtypes: int64(5), object(2)"
       ]
      }
     ],
     "prompt_number": 24
    },
    {
     "cell_type": "markdown",
     "metadata": {},
     "source": [
      "Now we have to select a TCP stream to analyse. As an example, we just pick stream number 10:"
     ]
    },
    {
     "cell_type": "code",
     "collapsed": false,
     "input": [
      "stream=ts[ts[\"tcp.stream\"] == 10]"
     ],
     "language": "python",
     "metadata": {},
     "outputs": [],
     "prompt_number": 25
    },
    {
     "cell_type": "code",
     "collapsed": false,
     "input": [
      "stream"
     ],
     "language": "python",
     "metadata": {},
     "outputs": [
      {
       "html": [
        "<pre>\n",
        "&ltclass 'pandas.core.frame.DataFrame'&gt\n",
        "DatetimeIndex: 26 entries, 2008-07-22 03:51:08.431406 to 2008-07-22 03:53:29.160668\n",
        "Data columns (total 7 columns):\n",
        "tcp.stream         26  non-null values\n",
        "ip.src             26  non-null values\n",
        "ip.dst             26  non-null values\n",
        "tcp.seq            26  non-null values\n",
        "tcp.ack            26  non-null values\n",
        "tcp.window_size    26  non-null values\n",
        "tcp.len            26  non-null values\n",
        "dtypes: int64(5), object(2)\n",
        "</pre>"
       ],
       "output_type": "pyout",
       "prompt_number": 26,
       "text": [
        "                            tcp.stream         ip.src         ip.dst  tcp.seq  \\\n",
        "frame.time_epoch                                                                \n",
        "2008-07-22 03:51:08.431406          10  209.85.171.97   192.168.1.64        0   \n",
        "2008-07-22 03:51:08.437600          10   192.168.1.64  209.85.171.97        1   \n",
        "2008-07-22 03:51:08.438156          10   192.168.1.64  209.85.171.97        1   \n",
        "2008-07-22 03:51:08.467383          10  209.85.171.97   192.168.1.64        1   \n",
        "2008-07-22 03:51:08.469846          10  209.85.171.97   192.168.1.64        1   \n",
        "2008-07-22 03:51:08.474440          10   192.168.1.64  209.85.171.97      154   \n",
        "2008-07-22 03:51:08.547444          10   192.168.1.64  209.85.171.97      154   \n",
        "2008-07-22 03:51:08.547498          10   192.168.1.64  209.85.171.97      421   \n",
        "2008-07-22 03:51:08.547768          10   192.168.1.64  209.85.171.97      427   \n",
        "2008-07-22 03:51:08.589823          10  209.85.171.97   192.168.1.64     1178   \n",
        "2008-07-22 03:51:08.592029          10   192.168.1.64  209.85.171.97      468   \n",
        "2008-07-22 03:51:08.594719          10   192.168.1.64  209.85.171.97      468   \n",
        "2008-07-22 03:51:08.633074          10  209.85.171.97   192.168.1.64     1225   \n",
        "2008-07-22 03:51:08.635798          10   192.168.1.64  209.85.171.97     1072   \n",
        "2008-07-22 03:51:09.295395          10   192.168.1.64  209.85.171.97     1072   \n",
        "2008-07-22 03:51:09.337628          10  209.85.171.97   192.168.1.64     2569   \n",
        "2008-07-22 03:51:09.340889          10   192.168.1.64  209.85.171.97     2096   \n",
        "2008-07-22 03:53:09.324698          10  209.85.171.97   192.168.1.64     2923   \n",
        "2008-07-22 03:53:09.561366          10  209.85.171.97   192.168.1.64     2923   \n",
        "2008-07-22 03:53:10.020463          10  209.85.171.97   192.168.1.64     2923   \n",
        "2008-07-22 03:53:10.734440          10  209.85.171.97   192.168.1.64     2923   \n",
        "2008-07-22 03:53:11.956795          10  209.85.171.97   192.168.1.64     2923   \n",
        "2008-07-22 03:53:13.662067          10  209.85.171.97   192.168.1.64     2923   \n",
        "2008-07-22 03:53:15.876856          10  209.85.171.97   192.168.1.64     2923   \n",
        "2008-07-22 03:53:20.305760          10  209.85.171.97   192.168.1.64     2923   \n",
        "2008-07-22 03:53:29.160668          10  209.85.171.97   192.168.1.64     2923   \n",
        "\n",
        "                            tcp.ack  tcp.window_size  tcp.len  \n",
        "frame.time_epoch                                               \n",
        "2008-07-22 03:51:08.431406        1             5672        0  \n",
        "2008-07-22 03:51:08.437600        1           524280        0  \n",
        "2008-07-22 03:51:08.438156        1           524280      153  \n",
        "2008-07-22 03:51:08.467383      154             6784        0  \n",
        "2008-07-22 03:51:08.469846      154             6784     1177  \n",
        "2008-07-22 03:51:08.474440     1178           523712        0  \n",
        "2008-07-22 03:51:08.547444     1178           524280      267  \n",
        "2008-07-22 03:51:08.547498     1178           524280        6  \n",
        "2008-07-22 03:51:08.547768     1178           524280       41  \n",
        "2008-07-22 03:51:08.589823      468             7872       47  \n",
        "2008-07-22 03:51:08.592029     1225           524280        0  \n",
        "2008-07-22 03:51:08.594719     1225           524280      604  \n",
        "2008-07-22 03:51:08.633074     1072             9024     1344  \n",
        "2008-07-22 03:51:08.635798     2569           523552        0  \n",
        "2008-07-22 03:51:09.295395     2569           524280     1024  \n",
        "2008-07-22 03:51:09.337628     2096            11072      354  \n",
        "2008-07-22 03:51:09.340889     2923           524280        0  \n",
        "2008-07-22 03:53:09.324698     2096            11072        0  \n",
        "2008-07-22 03:53:09.561366     2096            11072        0  \n",
        "2008-07-22 03:53:10.020463     2096            11072        0  \n",
        "2008-07-22 03:53:10.734440     2096            11072        0  \n",
        "2008-07-22 03:53:11.956795     2096            11072        0  \n",
        "2008-07-22 03:53:13.662067     2096            11072        0  \n",
        "2008-07-22 03:53:15.876856     2096            11072        0  \n",
        "2008-07-22 03:53:20.305760     2096            11072        0  \n",
        "2008-07-22 03:53:29.160668     2096            11072        0  "
       ]
      }
     ],
     "prompt_number": 26
    },
    {
     "cell_type": "markdown",
     "metadata": {},
     "source": [
      "Pandas only print the overview because the table is to wide. So we force a display:"
     ]
    },
    {
     "cell_type": "code",
     "collapsed": false,
     "input": [
      "print stream.to_string()"
     ],
     "language": "python",
     "metadata": {},
     "outputs": [
      {
       "output_type": "stream",
       "stream": "stdout",
       "text": [
        "                            tcp.stream         ip.src         ip.dst  tcp.seq  tcp.ack  tcp.window_size  tcp.len\n",
        "frame.time_epoch                                                                                                \n",
        "2008-07-22 03:51:08.431406          10  209.85.171.97   192.168.1.64        0        1             5672        0\n",
        "2008-07-22 03:51:08.437600          10   192.168.1.64  209.85.171.97        1        1           524280        0\n",
        "2008-07-22 03:51:08.438156          10   192.168.1.64  209.85.171.97        1        1           524280      153\n",
        "2008-07-22 03:51:08.467383          10  209.85.171.97   192.168.1.64        1      154             6784        0\n",
        "2008-07-22 03:51:08.469846          10  209.85.171.97   192.168.1.64        1      154             6784     1177\n",
        "2008-07-22 03:51:08.474440          10   192.168.1.64  209.85.171.97      154     1178           523712        0\n",
        "2008-07-22 03:51:08.547444          10   192.168.1.64  209.85.171.97      154     1178           524280      267\n",
        "2008-07-22 03:51:08.547498          10   192.168.1.64  209.85.171.97      421     1178           524280        6\n",
        "2008-07-22 03:51:08.547768          10   192.168.1.64  209.85.171.97      427     1178           524280       41\n",
        "2008-07-22 03:51:08.589823          10  209.85.171.97   192.168.1.64     1178      468             7872       47\n",
        "2008-07-22 03:51:08.592029          10   192.168.1.64  209.85.171.97      468     1225           524280        0\n",
        "2008-07-22 03:51:08.594719          10   192.168.1.64  209.85.171.97      468     1225           524280      604\n",
        "2008-07-22 03:51:08.633074          10  209.85.171.97   192.168.1.64     1225     1072             9024     1344\n",
        "2008-07-22 03:51:08.635798          10   192.168.1.64  209.85.171.97     1072     2569           523552        0\n",
        "2008-07-22 03:51:09.295395          10   192.168.1.64  209.85.171.97     1072     2569           524280     1024\n",
        "2008-07-22 03:51:09.337628          10  209.85.171.97   192.168.1.64     2569     2096            11072      354\n",
        "2008-07-22 03:51:09.340889          10   192.168.1.64  209.85.171.97     2096     2923           524280        0\n",
        "2008-07-22 03:53:09.324698          10  209.85.171.97   192.168.1.64     2923     2096            11072        0\n",
        "2008-07-22 03:53:09.561366          10  209.85.171.97   192.168.1.64     2923     2096            11072        0\n",
        "2008-07-22 03:53:10.020463          10  209.85.171.97   192.168.1.64     2923     2096            11072        0\n",
        "2008-07-22 03:53:10.734440          10  209.85.171.97   192.168.1.64     2923     2096            11072        0\n",
        "2008-07-22 03:53:11.956795          10  209.85.171.97   192.168.1.64     2923     2096            11072        0\n",
        "2008-07-22 03:53:13.662067          10  209.85.171.97   192.168.1.64     2923     2096            11072        0\n",
        "2008-07-22 03:53:15.876856          10  209.85.171.97   192.168.1.64     2923     2096            11072        0\n",
        "2008-07-22 03:53:20.305760          10  209.85.171.97   192.168.1.64     2923     2096            11072        0\n",
        "2008-07-22 03:53:29.160668          10  209.85.171.97   192.168.1.64     2923     2096            11072        0\n"
       ]
      }
     ],
     "prompt_number": 27
    },
    {
     "cell_type": "markdown",
     "metadata": {},
     "source": [
      "Add a column that shows who sent the packet (client or server). "
     ]
    },
    {
     "cell_type": "markdown",
     "metadata": {},
     "source": [
      "The fancy lambda expression is a function that distinguishes between the client and the server side of the stream by comparing the source IP address with the source IP address of the first packet in the stream (for TCP steams that should have been sent by the client)."
     ]
    },
    {
     "cell_type": "code",
     "collapsed": false,
     "input": [
      "stream[\"type\"] = stream.apply(lambda x: \"client\" if x[\"ip.src\"] == stream.irow(0)[\"ip.src\"] else \"server\", axis=1)"
     ],
     "language": "python",
     "metadata": {},
     "outputs": [],
     "prompt_number": 28
    },
    {
     "cell_type": "code",
     "collapsed": false,
     "input": [
      "print stream.to_string()"
     ],
     "language": "python",
     "metadata": {},
     "outputs": [
      {
       "output_type": "stream",
       "stream": "stdout",
       "text": [
        "                            tcp.stream         ip.src         ip.dst  tcp.seq  tcp.ack  tcp.window_size  tcp.len    type\n",
        "frame.time_epoch                                                                                                        \n",
        "2008-07-22 03:51:08.431406          10  209.85.171.97   192.168.1.64        0        1             5672        0  client\n",
        "2008-07-22 03:51:08.437600          10   192.168.1.64  209.85.171.97        1        1           524280        0  server\n",
        "2008-07-22 03:51:08.438156          10   192.168.1.64  209.85.171.97        1        1           524280      153  server\n",
        "2008-07-22 03:51:08.467383          10  209.85.171.97   192.168.1.64        1      154             6784        0  client\n",
        "2008-07-22 03:51:08.469846          10  209.85.171.97   192.168.1.64        1      154             6784     1177  client\n",
        "2008-07-22 03:51:08.474440          10   192.168.1.64  209.85.171.97      154     1178           523712        0  server\n",
        "2008-07-22 03:51:08.547444          10   192.168.1.64  209.85.171.97      154     1178           524280      267  server\n",
        "2008-07-22 03:51:08.547498          10   192.168.1.64  209.85.171.97      421     1178           524280        6  server\n",
        "2008-07-22 03:51:08.547768          10   192.168.1.64  209.85.171.97      427     1178           524280       41  server\n",
        "2008-07-22 03:51:08.589823          10  209.85.171.97   192.168.1.64     1178      468             7872       47  client\n",
        "2008-07-22 03:51:08.592029          10   192.168.1.64  209.85.171.97      468     1225           524280        0  server\n",
        "2008-07-22 03:51:08.594719          10   192.168.1.64  209.85.171.97      468     1225           524280      604  server\n",
        "2008-07-22 03:51:08.633074          10  209.85.171.97   192.168.1.64     1225     1072             9024     1344  client\n",
        "2008-07-22 03:51:08.635798          10   192.168.1.64  209.85.171.97     1072     2569           523552        0  server\n",
        "2008-07-22 03:51:09.295395          10   192.168.1.64  209.85.171.97     1072     2569           524280     1024  server\n",
        "2008-07-22 03:51:09.337628          10  209.85.171.97   192.168.1.64     2569     2096            11072      354  client\n",
        "2008-07-22 03:51:09.340889          10   192.168.1.64  209.85.171.97     2096     2923           524280        0  server\n",
        "2008-07-22 03:53:09.324698          10  209.85.171.97   192.168.1.64     2923     2096            11072        0  client\n",
        "2008-07-22 03:53:09.561366          10  209.85.171.97   192.168.1.64     2923     2096            11072        0  client\n",
        "2008-07-22 03:53:10.020463          10  209.85.171.97   192.168.1.64     2923     2096            11072        0  client\n",
        "2008-07-22 03:53:10.734440          10  209.85.171.97   192.168.1.64     2923     2096            11072        0  client\n",
        "2008-07-22 03:53:11.956795          10  209.85.171.97   192.168.1.64     2923     2096            11072        0  client\n",
        "2008-07-22 03:53:13.662067          10  209.85.171.97   192.168.1.64     2923     2096            11072        0  client\n",
        "2008-07-22 03:53:15.876856          10  209.85.171.97   192.168.1.64     2923     2096            11072        0  client\n",
        "2008-07-22 03:53:20.305760          10  209.85.171.97   192.168.1.64     2923     2096            11072        0  client\n",
        "2008-07-22 03:53:29.160668          10  209.85.171.97   192.168.1.64     2923     2096            11072        0  client\n"
       ]
      }
     ],
     "prompt_number": 29
    },
    {
     "cell_type": "code",
     "collapsed": false,
     "input": [
      "client_stream=stream[stream.type == \"client\"]"
     ],
     "language": "python",
     "metadata": {},
     "outputs": [],
     "prompt_number": 30
    },
    {
     "cell_type": "code",
     "collapsed": false,
     "input": [
      "client_stream[\"tcp.seq\"].plot(style=\"r-o\")"
     ],
     "language": "python",
     "metadata": {},
     "outputs": [
      {
       "output_type": "pyout",
       "prompt_number": 31,
       "text": [
        "<matplotlib.axes.AxesSubplot at 0xa1e454c>"
       ]
      },
      {
       "output_type": "display_data",
       "png": "[encoded data removed]"
      }
     ],
     "prompt_number": 31
    },
    {
     "cell_type": "markdown",
     "metadata": {},
     "source": [
      "Notice that the x-axis shows the real timestamps."
     ]
    },
    {
     "cell_type": "markdown",
     "metadata": {},
     "source": [
      "For comparison, change the x-axis to be the packet number in the stream:"
     ]
    },
    {
     "cell_type": "code",
     "collapsed": false,
     "input": [
      "client_stream.index = arange(len(client_stream))\n",
      "client_stream[\"tcp.seq\"].plot(style=\"r-o\")"
     ],
     "language": "python",
     "metadata": {},
     "outputs": [
      {
       "output_type": "pyout",
       "prompt_number": 32,
       "text": [
        "<matplotlib.axes.AxesSubplot at 0xa1d91ac>"
       ]
      },
      {
       "output_type": "display_data",
       "png": "[encoded data removed]"
      }
     ],
     "prompt_number": 32
    },
    {
     "cell_type": "markdown",
     "metadata": {},
     "source": [
      "Looks different of course."
     ]
    },
    {
     "cell_type": "heading",
     "level": 2,
     "metadata": {},
     "source": [
      "Bytes per stream"
     ]
    },
    {
     "cell_type": "code",
     "collapsed": false,
     "input": [
      "per_stream=ts.groupby(\"tcp.stream\")\n",
      "per_stream.head()"
     ],
     "language": "python",
     "metadata": {},
     "outputs": [
      {
       "html": [
        "<pre>\n",
        "&ltclass 'pandas.core.frame.DataFrame'&gt\n",
        "MultiIndex: 9913 entries, (0, 2008-07-22 03:51:07.095278) to (2765, 2008-07-22 08:11:35.496780)\n",
        "Data columns (total 7 columns):\n",
        "tcp.stream         9913  non-null values\n",
        "ip.src             9913  non-null values\n",
        "ip.dst             9913  non-null values\n",
        "tcp.seq            9913  non-null values\n",
        "tcp.ack            9913  non-null values\n",
        "tcp.window_size    9913  non-null values\n",
        "tcp.len            9913  non-null values\n",
        "dtypes: int64(5), object(2)\n",
        "</pre>"
       ],
       "output_type": "pyout",
       "prompt_number": 33,
       "text": [
        "<class 'pandas.core.frame.DataFrame'>\n",
        "MultiIndex: 9913 entries, (0, 2008-07-22 03:51:07.095278) to (2765, 2008-07-22 08:11:35.496780)\n",
        "Data columns (total 7 columns):\n",
        "tcp.stream         9913  non-null values\n",
        "ip.src             9913  non-null values\n",
        "ip.dst             9913  non-null values\n",
        "tcp.seq            9913  non-null values\n",
        "tcp.ack            9913  non-null values\n",
        "tcp.window_size    9913  non-null values\n",
        "tcp.len            9913  non-null values\n",
        "dtypes: int64(5), object(2)"
       ]
      }
     ],
     "prompt_number": 33
    },
    {
     "cell_type": "code",
     "collapsed": false,
     "input": [
      "bytes_per_stream = per_stream[\"tcp.len\"].sum()\n",
      "bytes_per_stream.head()"
     ],
     "language": "python",
     "metadata": {},
     "outputs": [
      {
       "output_type": "pyout",
       "prompt_number": 34,
       "text": [
        "tcp.stream\n",
        "0                0\n",
        "1             2565\n",
        "5             5158\n",
        "6             8266\n",
        "10            5017\n",
        "Name: tcp.len, dtype: int64"
       ]
      }
     ],
     "prompt_number": 34
    },
    {
     "cell_type": "code",
     "collapsed": false,
     "input": [
      "bytes_per_stream.plot()"
     ],
     "language": "python",
     "metadata": {},
     "outputs": [
      {
       "output_type": "pyout",
       "prompt_number": 35,
       "text": [
        "<matplotlib.axes.AxesSubplot at 0xac810ac>"
       ]
      },
      {
       "output_type": "display_data",
       "png": "[encoded data removed]"
      }
     ],
     "prompt_number": 35
    },
    {
     "cell_type": "code",
     "collapsed": false,
     "input": [
      "bytes_per_stream.max()"
     ],
     "language": "python",
     "metadata": {},
     "outputs": [
      {
       "output_type": "pyout",
       "prompt_number": 36,
       "text": [
        "5150771"
       ]
      }
     ],
     "prompt_number": 36
    },
    {
     "cell_type": "code",
     "collapsed": false,
     "input": [
      "biggest_stream=bytes_per_stream.idxmax()\n",
      "biggest_stream"
     ],
     "language": "python",
     "metadata": {},
     "outputs": [
      {
       "output_type": "pyout",
       "prompt_number": 37,
       "text": [
        "88"
       ]
      }
     ],
     "prompt_number": 37
    },
    {
     "cell_type": "code",
     "collapsed": false,
     "input": [
      "bytes_per_stream.ix[biggest_stream]"
     ],
     "language": "python",
     "metadata": {},
     "outputs": [
      {
       "output_type": "pyout",
       "prompt_number": 38,
       "text": [
        "5150771"
       ]
      }
     ],
     "prompt_number": 38
    },
    {
     "cell_type": "heading",
     "level": 2,
     "metadata": {},
     "source": [
      "Ethernet Padding"
     ]
    },
    {
     "cell_type": "markdown",
     "metadata": {},
     "source": [
      "Let's have a look at the padding of the Ethernet frames. Some cards have been leaking data in the past. For more details, see\n",
      "http://www.securiteam.com/securitynews/5BP01208UO.html"
     ]
    },
    {
     "cell_type": "code",
     "collapsed": false,
     "input": [
      "trailer_df = read_pcap(\"nitroba.pcap\", [\"eth.src\", \"eth.trailer\"], timeseries=True)\n",
      "trailer_df"
     ],
     "language": "python",
     "metadata": {},
     "outputs": [
      {
       "html": [
        "<pre>\n",
        "&ltclass 'pandas.core.frame.DataFrame'&gt\n",
        "DatetimeIndex: 95175 entries, 2008-07-22 03:51:07.095278 to 2008-07-22 08:13:47.046029\n",
        "Data columns (total 2 columns):\n",
        "eth.src        95175  non-null values\n",
        "eth.trailer    12851  non-null values\n",
        "dtypes: object(2)\n",
        "</pre>"
       ],
       "output_type": "pyout",
       "prompt_number": 39,
       "text": [
        "<class 'pandas.core.frame.DataFrame'>\n",
        "DatetimeIndex: 95175 entries, 2008-07-22 03:51:07.095278 to 2008-07-22 08:13:47.046029\n",
        "Data columns (total 2 columns):\n",
        "eth.src        95175  non-null values\n",
        "eth.trailer    12851  non-null values\n",
        "dtypes: object(2)"
       ]
      }
     ],
     "prompt_number": 39
    },
    {
     "cell_type": "code",
     "collapsed": false,
     "input": [
      "trailer=trailer_df[\"eth.trailer\"]\n",
      "trailer"
     ],
     "language": "python",
     "metadata": {},
     "outputs": [
      {
       "output_type": "pyout",
       "prompt_number": 40,
       "text": [
        "frame.time_epoch\n",
        "2008-07-22 03:51:07.095278    NaN\n",
        "2008-07-22 03:51:07.103728    NaN\n",
        "2008-07-22 03:51:07.114897    NaN\n",
        "2008-07-22 03:51:07.139448    NaN\n",
        "2008-07-22 03:51:07.319680    NaN\n",
        "2008-07-22 03:51:07.321990    NaN\n",
        "2008-07-22 03:51:07.326517    NaN\n",
        "2008-07-22 03:51:07.335554    NaN\n",
        "2008-07-22 03:51:07.376171    NaN\n",
        "2008-07-22 03:51:07.378392    NaN\n",
        "2008-07-22 03:51:07.389299    NaN\n",
        "2008-07-22 03:51:07.390478    NaN\n",
        "2008-07-22 03:51:07.404056    NaN\n",
        "2008-07-22 03:51:07.416518    NaN\n",
        "2008-07-22 03:51:07.423663    NaN\n",
        "...\n",
        "2008-07-22 08:13:44.266370                  NaN\n",
        "2008-07-22 08:13:44.266638                  NaN\n",
        "2008-07-22 08:13:44.293692    00:00:00:00:00:00\n",
        "2008-07-22 08:13:44.585477                  NaN\n",
        "2008-07-22 08:13:44.863535                  NaN\n",
        "2008-07-22 08:13:44.873602                  NaN\n",
        "2008-07-22 08:13:44.883737                  NaN\n",
        "2008-07-22 08:13:44.893510                  NaN\n",
        "2008-07-22 08:13:44.903460                  NaN\n",
        "2008-07-22 08:13:44.913495                  NaN\n",
        "2008-07-22 08:13:44.923654                  NaN\n",
        "2008-07-22 08:13:44.933648                  NaN\n",
        "2008-07-22 08:13:44.943515                  NaN\n",
        "2008-07-22 08:13:44.953453                  NaN\n",
        "2008-07-22 08:13:47.046029                  NaN\n",
        "Name: eth.trailer, Length: 95175, dtype: object"
       ]
      }
     ],
     "prompt_number": 40
    },
    {
     "cell_type": "markdown",
     "metadata": {},
     "source": [
      "Ok. Most frames do not seem to have padding, but some have. Let's count per value to get an overview:"
     ]
    },
    {
     "cell_type": "code",
     "collapsed": false,
     "input": [
      "trailer.value_counts()"
     ],
     "language": "python",
     "metadata": {},
     "outputs": [
      {
       "output_type": "pyout",
       "prompt_number": 41,
       "text": [
        "00:00:00:00:00:00                                        7989\n",
        "3b:02:a7:19:aa:aa:03:00:80:c2:00:07:00:00:00:02:3b:02     913\n",
        "00:00:00:00:00:00:00:00:00:00:00:00:00:00:00:00:00:00     606\n",
        "3b:02:a7:19:00:1d:6b:99:98:6a:88:64:11:00:8f:da:00:42     303\n",
        "00:00                                                     299\n",
        "00:00:c0:a8:01:40:00:00:00:00:00:00:00:00:00:1d:d9:2e     259\n",
        "32:01:67:06:aa:aa:03:00:80:c2:00:07:00:00:00:02:3b:02     254\n",
        "2d:66:6f:6f:65:05:79:61:68:6f:6f:03:63:6f:6d:00:00:01     253\n",
        "04:67:6b:64:63:03:75:61:73:03:61:6f:6c:03:63:6f:6d:00     160\n",
        "70:03:6d:73:67:05:79:61:68:6f:6f:03:63:6f:6d:00:00:01     151\n",
        "73:6b:03:6d:61:63:03:63:6f:6d:00:00:01:00:01:00:01:00     146\n",
        "2d:66:6f:6f:62:05:79:61:68:6f:6f:03:63:6f:6d:00:00:01     101\n",
        "73:6b:03:6d:aa:aa:03:00:80:c2:00:07:00:00:00:02:3b:02      66\n",
        "72:65:76:73:aa:aa:03:00:80:c2:00:07:00:00:00:02:3b:02      54\n",
        "00:00:00:00:aa:aa:03:00:80:c2:00:07:00:00:00:02:3b:02      52\n",
        "...\n",
        "2d:66:6f:6f:aa:aa:03:00:80:c2:00:07:00:00:00:02:3b:02    1\n",
        "00:00:c9:6e:87:fc                                        1\n",
        "00:00:44:b7:84:43                                        1\n",
        "00:00:3b:fc:30:86                                        1\n",
        "00:00:7b:1f:5b:03                                        1\n",
        "00:00:78:27:f5:37                                        1\n",
        "00:00:f0:2c:e6:35                                        1\n",
        "00:00:6e:f5:46:41                                        1\n",
        "00:00:00:00:00:00:00:00:00:00:00:00:00:16:39:da:a9       1\n",
        "00:00:7a:e4:d0:27                                        1\n",
        "00:00:61:c8:85:63                                        1\n",
        "00:00:e7:99:00:70                                        1\n",
        "00:00:68:25:eb:a0                                        1\n",
        "00:00:34:ba:2b:52                                        1\n",
        "00:00:53:8a:e9:05                                        1\n",
        "Length: 635, dtype: int64"
       ]
      }
     ],
     "prompt_number": 41
    },
    {
     "cell_type": "markdown",
     "metadata": {},
     "source": [
      "Mostly zeros, but some data. Let's decode the hex strings: "
     ]
    },
    {
     "cell_type": "code",
     "collapsed": false,
     "input": [
      "import binascii\n",
      "\n",
      "def unhex(s, sep=\":\"):\n",
      "    return binascii.unhexlify(\"\".join(s.split(sep)))"
     ],
     "language": "python",
     "metadata": {},
     "outputs": [],
     "prompt_number": 42
    },
    {
     "cell_type": "code",
     "collapsed": false,
     "input": [
      "s=unhex(\"3b:02:a7:19:aa:aa:03:00:80:c2:00:07:00:00:00:02:3b:02\")\n",
      "s"
     ],
     "language": "python",
     "metadata": {},
     "outputs": [
      {
       "output_type": "pyout",
       "prompt_number": 43,
       "text": [
        "';\\x02\\xa7\\x19\\xaa\\xaa\\x03\\x00\\x80\\xc2\\x00\\x07\\x00\\x00\\x00\\x02;\\x02'"
       ]
      }
     ],
     "prompt_number": 43
    },
    {
     "cell_type": "code",
     "collapsed": false,
     "input": [
      "padding = trailer_df.dropna()"
     ],
     "language": "python",
     "metadata": {},
     "outputs": [],
     "prompt_number": 44
    },
    {
     "cell_type": "code",
     "collapsed": false,
     "input": [
      "padding[\"unhex\"]=padding[\"eth.trailer\"].map(unhex)"
     ],
     "language": "python",
     "metadata": {},
     "outputs": [],
     "prompt_number": 45
    },
    {
     "cell_type": "code",
     "collapsed": false,
     "input": [
      "def printable(s):\n",
      "    chars = []\n",
      "    for c in s:\n",
      "        if c.isalnum():\n",
      "            chars.append(c)\n",
      "        else:\n",
      "            chars.append(\".\")\n",
      "    return \"\".join(chars)\n",
      "           "
     ],
     "language": "python",
     "metadata": {},
     "outputs": [],
     "prompt_number": 46
    },
    {
     "cell_type": "code",
     "collapsed": false,
     "input": [
      "printable(\"\\x95asd\\x33\")"
     ],
     "language": "python",
     "metadata": {},
     "outputs": [
      {
       "output_type": "pyout",
       "prompt_number": 47,
       "text": [
        "'.asd3'"
       ]
      }
     ],
     "prompt_number": 47
    },
    {
     "cell_type": "code",
     "collapsed": false,
     "input": [
      "padding[\"printable\"]=padding[\"unhex\"].map(printable)"
     ],
     "language": "python",
     "metadata": {},
     "outputs": [],
     "prompt_number": 48
    },
    {
     "cell_type": "code",
     "collapsed": false,
     "input": [
      "padding[\"printable\"].value_counts()"
     ],
     "language": "python",
     "metadata": {},
     "outputs": [
      {
       "output_type": "pyout",
       "prompt_number": 49,
       "text": [
        "......                8145\n",
        "..................    1927\n",
        "......k..j.d.....B     303\n",
        "..                     299\n",
        "2.g...............     254\n",
        ".fooe.yahoo.com...     253\n",
        ".gkdc.uas.aol.com.     160\n",
        "p.msg.yahoo.com...     151\n",
        "sk.mac.com........     148\n",
        ".foob.yahoo.com...     101\n",
        "sk.m..............      66\n",
        "revs..............      54\n",
        "ge.w..............      45\n",
        "1.1...............      44\n",
        ".goo..............      42\n",
        "...\n",
        "..........Wz......    1\n",
        "..M...                1\n",
        "...i.Z                1\n",
        "..x...                1\n",
        "..N...                1\n",
        "..n.oN                1\n",
        "....fK                1\n",
        "....fk                1\n",
        "..Y8..                1\n",
        "..n.FA                1\n",
        "...O.r                1\n",
        "....Qn                1\n",
        "..PK.e                1\n",
        "...w..                1\n",
        "..1...                1\n",
        "Length: 375, dtype: int64"
       ]
      }
     ],
     "prompt_number": 49
    },
    {
     "cell_type": "code",
     "collapsed": false,
     "input": [
      "def ratio_printable(s):\n",
      "    printable = sum(1.0 for c in s if c.isalnum())\n",
      "    return printable / len(s)         "
     ],
     "language": "python",
     "metadata": {},
     "outputs": [],
     "prompt_number": 50
    },
    {
     "cell_type": "code",
     "collapsed": false,
     "input": [
      "ratio_printable(\"a\\x93sdfs\")"
     ],
     "language": "python",
     "metadata": {},
     "outputs": [
      {
       "output_type": "pyout",
       "prompt_number": 51,
       "text": [
        "0.8333333333333334"
       ]
      }
     ],
     "prompt_number": 51
    },
    {
     "cell_type": "code",
     "collapsed": false,
     "input": [
      "padding[\"ratio_printable\"] = padding[\"unhex\"].map(ratio_printable)"
     ],
     "language": "python",
     "metadata": {},
     "outputs": [],
     "prompt_number": 52
    },
    {
     "cell_type": "code",
     "collapsed": false,
     "input": [
      "padding[padding[\"ratio_printable\"] > 0.5]"
     ],
     "language": "python",
     "metadata": {},
     "outputs": [
      {
       "html": [
        "<pre>\n",
        "&ltclass 'pandas.core.frame.DataFrame'&gt\n",
        "DatetimeIndex: 727 entries, 2008-07-22 03:51:20.018817 to 2008-07-22 05:40:13.338449\n",
        "Data columns (total 5 columns):\n",
        "eth.src            727  non-null values\n",
        "eth.trailer        727  non-null values\n",
        "unhex              727  non-null values\n",
        "printable          727  non-null values\n",
        "ratio_printable    727  non-null values\n",
        "dtypes: float64(1), object(4)\n",
        "</pre>"
       ],
       "output_type": "pyout",
       "prompt_number": 53,
       "text": [
        "<class 'pandas.core.frame.DataFrame'>\n",
        "DatetimeIndex: 727 entries, 2008-07-22 03:51:20.018817 to 2008-07-22 05:40:13.338449\n",
        "Data columns (total 5 columns):\n",
        "eth.src            727  non-null values\n",
        "eth.trailer        727  non-null values\n",
        "unhex              727  non-null values\n",
        "printable          727  non-null values\n",
        "ratio_printable    727  non-null values\n",
        "dtypes: float64(1), object(4)"
       ]
      }
     ],
     "prompt_number": 53
    },
    {
     "cell_type": "code",
     "collapsed": false,
     "input": [
      "_.printable.value_counts()"
     ],
     "language": "python",
     "metadata": {},
     "outputs": [
      {
       "output_type": "pyout",
       "prompt_number": 54,
       "text": [
        ".fooe.yahoo.com...    253\n",
        ".gkdc.uas.aol.com.    160\n",
        "p.msg.yahoo.com...    151\n",
        ".foob.yahoo.com...    101\n",
        ".weather.com......     31\n",
        "ge.weather.com....     26\n",
        "1.1..HOST.239.255.      1\n",
        "..CDWW                  1\n",
        ".foof.yahoo.com...      1\n",
        "..3rbo                  1\n",
        "..BIKM                  1\n",
        "dtype: int64"
       ]
      }
     ],
     "prompt_number": 54
    },
    {
     "cell_type": "markdown",
     "metadata": {},
     "source": [
      "Now find out which Ethernet cards sent those packets with more than 50% ASCII data in their padding:"
     ]
    },
    {
     "cell_type": "code",
     "collapsed": false,
     "input": [
      "padding[padding[\"ratio_printable\"] > 0.5]['eth.src'].drop_duplicates()"
     ],
     "language": "python",
     "metadata": {},
     "outputs": [
      {
       "output_type": "pyout",
       "prompt_number": 55,
       "text": [
        "frame.time_epoch\n",
        "2008-07-22 03:51:20.018817    00:1d:d9:2e:4f:61\n",
        "2008-07-22 04:10:14.155085    00:1d:6b:99:98:68\n",
        "Name: eth.src, dtype: object"
       ]
      }
     ],
     "prompt_number": 55
    },
    {
     "cell_type": "code",
     "collapsed": false,
     "input": [
      "HTML('<iframe src=http://www.coffer.com/mac_find/?string=00%3A1d%3Ad9%3A2e%3A4f%3A61 width=600 height=300></iframe>')"
     ],
     "language": "python",
     "metadata": {},
     "outputs": [
      {
       "html": [
        "<iframe src=http://www.coffer.com/mac_find/?string=00%3A1d%3Ad9%3A2e%3A4f%3A61 width=600 height=300></iframe>"
       ],
       "output_type": "pyout",
       "prompt_number": 56,
       "text": [
        "<IPython.core.display.HTML at 0xae4fe2c>"
       ]
      }
     ],
     "prompt_number": 56
    },
    {
     "cell_type": "markdown",
     "metadata": {},
     "source": [
      "Thats 'Hon Hai Precision' (and \"Netopia Inc\" for the other MAC address)."
     ]
    }
   ],
   "metadata": {}
  }
 ]
}