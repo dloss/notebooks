{
 "metadata": {
  "name": "",
  "signature": "sha256:215c6c58bef569b096dd01148ca66697f9fd4bb42ca9cbb85770370d1bff2c63"
 },
 "nbformat": 3,
 "nbformat_minor": 0,
 "worksheets": [
  {
   "cells": [
    {
     "cell_type": "heading",
     "level": 1,
     "metadata": {},
     "source": [
      "LibreSSL Repository Mining"
     ]
    },
    {
     "cell_type": "markdown",
     "metadata": {},
     "source": [
      "Dirk Loss / @dloss, v1.0, 2014-07-11"
     ]
    },
    {
     "cell_type": "markdown",
     "metadata": {},
     "source": [
      "The LibreSSL project has a git mirror of their CVS repository. Let's clone it and see if we can use it to answer some simple questions."
     ]
    },
    {
     "cell_type": "code",
     "collapsed": false,
     "input": [
      "%time !git clone https://github.com/libressl-portable/openbsd.git"
     ],
     "language": "python",
     "metadata": {},
     "outputs": [
      {
       "output_type": "stream",
       "stream": "stdout",
       "text": [
        "Cloning into 'openbsd'...\r\n"
       ]
      },
      {
       "output_type": "stream",
       "stream": "stdout",
       "text": [
        "remote: Counting objects: 46494, done.\u001b[K\r\n",
        "remote: Compressing objects:   0% (1/8988)   \u001b[K\r",
        "remote: Compressing objects:   1% (90/8988)   \u001b[K\r",
        "remote: Compressing objects:   2% (180/8988)   \u001b[K\r",
        "remote: Compressing objects:   3% (270/8988)   \u001b[K\r",
        "remote: Compressing objects:   4% (360/8988)   \u001b[K\r",
        "remote: Compressing objects:   5% (450/8988)   \u001b[K\r",
        "remote: Compressing objects:   6% (540/8988)   \u001b[K\r",
        "remote: Compressing objects:   7% (630/8988)   \u001b[K\r",
        "remote: Compressing objects:   8% (720/8988)   \u001b[K\r",
        "remote: Compressing objects:   9% (809/8988)   \u001b[K\r",
        "remote: Compressing objects:  10% (899/8988)   \u001b[K\r",
        "remote: Compressing objects:  11% (989/8988)   \u001b[K\r",
        "remote: Compressing objects:  12% (1079/8988)   \u001b[K\r",
        "remote: Compressing objects:  13% (1169/8988)   \u001b[K\r",
        "remote: Compressing objects:  14% (1259/8988)   \u001b[K\r"
       ]
      },
      {
       "output_type": "stream",
       "stream": "stdout",
       "text": [
        "remote: Compressing objects:  15% (1349/8988)   \u001b[K\r",
        "remote: Compressing objects:  16% (1439/8988)   \u001b[K\r",
        "remote: Compressing objects:  17% (1528/8988)   \u001b[K\r",
        "remote: Compressing objects:  18% (1618/8988)   \u001b[K\r",
        "remote: Compressing objects:  19% (1708/8988)   \u001b[K\r",
        "remote: Compressing objects:  20% (1798/8988)   \u001b[K\r",
        "remote: Compressing objects:  21% (1888/8988)   \u001b[K\r",
        "remote: Compressing objects:  22% (1978/8988)   \u001b[K\r",
        "remote: Compressing objects:  23% (2068/8988)   \u001b[K\r",
        "remote: Compressing objects:  24% (2158/8988)   \u001b[K\r",
        "remote: Compressing objects:  25% (2247/8988)   \u001b[K\r",
        "remote: Compressing objects:  26% (2337/8988)   \u001b[K\r",
        "remote: Compressing objects:  27% (2427/8988)   \u001b[K\r",
        "remote: Compressing objects:  28% (2517/8988)   \u001b[K\r",
        "remote: Compressing objects:  29% (2607/8988)   \u001b[K\r",
        "remote: Compressing objects:  30% (2697/8988)   \u001b[K\r",
        "remote: Compressing objects:  31% (2787/8988)   \u001b[K\r",
        "remote: Compressing objects:  32% (2877/8988)   \u001b[K\r",
        "remote: Compressing objects:  33% (2967/8988)   \u001b[K\r",
        "remote: Compressing objects:  34% (3056/8988)   \u001b[K\r",
        "remote: Compressing objects:  35% (3146/8988)   \u001b[K\r",
        "remote: Compressing objects:  36% (3236/8988)   \u001b[K\r",
        "remote: Compressing objects:  37% (3326/8988)   \u001b[K\r",
        "remote: Compressing objects:  38% (3416/8988)   \u001b[K\r",
        "remote: Compressing objects:  39% (3506/8988)   \u001b[K\r",
        "remote: Compressing objects:  40% (3596/8988)   \u001b[K\r",
        "remote: Compressing objects:  41% (3686/8988)   \u001b[K\r",
        "remote: Compressing objects:  42% (3775/8988)   \u001b[K\r",
        "remote: Compressing objects:  43% (3865/8988)   \u001b[K\r",
        "remote: Compressing objects:  44% (3955/8988)   \u001b[K\r",
        "remote: Compressing objects:  45% (4045/8988)   \u001b[K\r",
        "remote: Compressing objects:  46% (4135/8988)   \u001b[K\r",
        "remote: Compressing objects:  47% (4225/8988)   \u001b[K\r",
        "remote: Compressing objects:  48% (4315/8988)   \u001b[K\r",
        "remote: Compressing objects:  49% (4405/8988)   \u001b[K\r",
        "remote: Compressing objects:  50% (4494/8988)   \u001b[K\r",
        "remote: Compressing objects:  51% (4584/8988)   \u001b[K\r",
        "remote: Compressing objects:  52% (4674/8988)   \u001b[K\r",
        "remote: Compressing objects:  53% (4764/8988)   \u001b[K\r",
        "remote: Compressing objects:  54% (4854/8988)   \u001b[K\r",
        "remote: Compressing objects:  55% (4944/8988)   \u001b[K\r",
        "remote: Compressing objects:  56% (5034/8988)   \u001b[K\r",
        "remote: Compressing objects:  57% (5124/8988)   \u001b[K\r",
        "remote: Compressing objects:  58% (5214/8988)   \u001b[K\r",
        "remote: Compressing objects:  59% (5303/8988)   \u001b[K\r",
        "remote: Compressing objects:  60% (5393/8988)   \u001b[K\r",
        "remote: Compressing objects:  61% (5483/8988)   \u001b[K\r",
        "remote: Compressing objects:  62% (5573/8988)   \u001b[K\r",
        "remote: Compressing objects:  63% (5663/8988)   \u001b[K\r",
        "remote: Compressing objects:  64% (5753/8988)   \u001b[K\r",
        "remote: Compressing objects:  65% (5843/8988)   \u001b[K\r",
        "remote: Compressing objects:  66% (5933/8988)   \u001b[K\r",
        "remote: Compressing objects:  67% (6022/8988)   \u001b[K\r",
        "remote: Compressing objects:  68% (6112/8988)   \u001b[K\r",
        "remote: Compressing objects:  69% (6202/8988)   \u001b[K\r",
        "remote: Compressing objects:  70% (6292/8988)   \u001b[K\r",
        "remote: Compressing objects:  71% (6382/8988)   \u001b[K\r",
        "remote: Compressing objects:  72% (6472/8988)   \u001b[K\r",
        "remote: Compressing objects:  73% (6562/8988)   \u001b[K\r",
        "remote: Compressing objects:  74% (6652/8988)   \u001b[K\r",
        "remote: Compressing objects:  75% (6741/8988)   \u001b[K\r",
        "remote: Compressing objects:  76% (6831/8988)   \u001b[K\r",
        "remote: Compressing objects:  77% (6921/8988)   \u001b[K\r",
        "remote: Compressing objects:  78% (7011/8988)   \u001b[K\r",
        "remote: Compressing objects:  79% (7101/8988)   \u001b[K\r",
        "remote: Compressing objects:  80% (7191/8988)   \u001b[K\r",
        "remote: Compressing objects:  81% (7281/8988)   \u001b[K\r",
        "remote: Compressing objects:  82% (7371/8988)   \u001b[K\r",
        "remote: Compressing objects:  83% (7461/8988)   \u001b[K\r",
        "remote: Compressing objects:  84% (7550/8988)   \u001b[K\r",
        "remote: Compressing objects:  85% (7640/8988)   \u001b[K\r",
        "remote: Compressing objects:  86% (7730/8988)   \u001b[K\r",
        "remote: Compressing objects:  87% (7820/8988)   \u001b[K\r",
        "remote: Compressing objects:  88% (7910/8988)   \u001b[K\r",
        "remote: Compressing objects:  89% (8000/8988)   \u001b[K\r",
        "remote: Compressing objects:  90% (8090/8988)   \u001b[K\r",
        "remote: Compressing objects:  91% (8180/8988)   \u001b[K\r",
        "remote: Compressing objects:  92% (8269/8988)   \u001b[K\r",
        "remote: Compressing objects:  93% (8359/8988)   \u001b[K\r",
        "remote: Compressing objects:  94% (8449/8988)   \u001b[K\r",
        "remote: Compressing objects:  95% (8539/8988)   \u001b[K\r",
        "remote: Compressing objects:  96% (8629/8988)   \u001b[K\r",
        "remote: Compressing objects:  97% (8719/8988)   \u001b[K\r",
        "remote: Compressing objects:  98% (8809/8988)   \u001b[K\r",
        "remote: Compressing objects:  99% (8899/8988)   \u001b[K\r",
        "remote: Compressing objects: 100% (8988/8988)   \u001b[K\r"
       ]
      },
      {
       "output_type": "stream",
       "stream": "stdout",
       "text": [
        "remote: Compressing objects: 100% (8988/8988), done.\u001b[K\r\n"
       ]
      },
      {
       "output_type": "stream",
       "stream": "stdout",
       "text": [
        "Receiving objects:   0% (1/46494)   \r"
       ]
      },
      {
       "output_type": "stream",
       "stream": "stdout",
       "text": [
        "Receiving objects:   1% (465/46494)   \r"
       ]
      },
      {
       "output_type": "stream",
       "stream": "stdout",
       "text": [
        "Receiving objects:   2% (930/46494)   \r"
       ]
      },
      {
       "output_type": "stream",
       "stream": "stdout",
       "text": [
        "Receiving objects:   3% (1395/46494), 204.00 KiB | 393.00 KiB/s   \r"
       ]
      },
      {
       "output_type": "stream",
       "stream": "stdout",
       "text": [
        "Receiving objects:   4% (1860/46494), 204.00 KiB | 393.00 KiB/s   \r"
       ]
      },
      {
       "output_type": "stream",
       "stream": "stdout",
       "text": [
        "Receiving objects:   4% (1891/46494), 380.00 KiB | 349.00 KiB/s   \r"
       ]
      },
      {
       "output_type": "stream",
       "stream": "stdout",
       "text": [
        "Receiving objects:   5% (2325/46494), 380.00 KiB | 349.00 KiB/s   \r"
       ]
      },
      {
       "output_type": "stream",
       "stream": "stdout",
       "text": [
        "Receiving objects:   6% (2790/46494), 380.00 KiB | 349.00 KiB/s   \r"
       ]
      },
      {
       "output_type": "stream",
       "stream": "stdout",
       "text": [
        "Receiving objects:   7% (3255/46494), 380.00 KiB | 349.00 KiB/s   \r"
       ]
      },
      {
       "output_type": "stream",
       "stream": "stdout",
       "text": [
        "Receiving objects:   8% (3720/46494), 692.00 KiB | 435.00 KiB/s   \r"
       ]
      },
      {
       "output_type": "stream",
       "stream": "stdout",
       "text": [
        "Receiving objects:   8% (4148/46494), 692.00 KiB | 435.00 KiB/s   \r"
       ]
      },
      {
       "output_type": "stream",
       "stream": "stdout",
       "text": [
        "Receiving objects:   9% (4185/46494), 692.00 KiB | 435.00 KiB/s   \r"
       ]
      },
      {
       "output_type": "stream",
       "stream": "stdout",
       "text": [
        "Receiving objects:  10% (4650/46494), 1.43 MiB | 563.00 KiB/s   \r"
       ]
      },
      {
       "output_type": "stream",
       "stream": "stdout",
       "text": [
        "Receiving objects:  10% (4814/46494), 1.43 MiB | 563.00 KiB/s   \r"
       ]
      },
      {
       "output_type": "stream",
       "stream": "stdout",
       "text": [
        "Receiving objects:  11% (5115/46494), 1.83 MiB | 602.00 KiB/s   \r"
       ]
      },
      {
       "output_type": "stream",
       "stream": "stdout",
       "text": [
        "Receiving objects:  12% (5580/46494), 2.22 MiB | 631.00 KiB/s   \r"
       ]
      },
      {
       "output_type": "stream",
       "stream": "stdout",
       "text": [
        "Receiving objects:  12% (5779/46494), 2.22 MiB | 631.00 KiB/s   \r"
       ]
      },
      {
       "output_type": "stream",
       "stream": "stdout",
       "text": [
        "Receiving objects:  13% (6045/46494), 2.63 MiB | 654.00 KiB/s   \r"
       ]
      },
      {
       "output_type": "stream",
       "stream": "stdout",
       "text": [
        "Receiving objects:  14% (6510/46494), 2.63 MiB | 654.00 KiB/s   \r"
       ]
      },
      {
       "output_type": "stream",
       "stream": "stdout",
       "text": [
        "Receiving objects:  14% (6899/46494), 3.03 MiB | 671.00 KiB/s   \r",
        "Receiving objects:  15% (6975/46494), 3.03 MiB | 671.00 KiB/s   \r"
       ]
      },
      {
       "output_type": "stream",
       "stream": "stdout",
       "text": [
        "Receiving objects:  16% (7440/46494), 3.44 MiB | 718.00 KiB/s   \r"
       ]
      },
      {
       "output_type": "stream",
       "stream": "stdout",
       "text": [
        "Receiving objects:  17% (7904/46494), 3.86 MiB | 784.00 KiB/s   \r"
       ]
      },
      {
       "output_type": "stream",
       "stream": "stdout",
       "text": [
        "Receiving objects:  17% (8246/46494), 3.86 MiB | 784.00 KiB/s   \r"
       ]
      },
      {
       "output_type": "stream",
       "stream": "stdout",
       "text": [
        "Receiving objects:  18% (8369/46494), 4.28 MiB | 808.00 KiB/s   \r"
       ]
      },
      {
       "output_type": "stream",
       "stream": "stdout",
       "text": [
        "Receiving objects:  19% (8834/46494), 4.28 MiB | 808.00 KiB/s   \r"
       ]
      },
      {
       "output_type": "stream",
       "stream": "stdout",
       "text": [
        "Receiving objects:  20% (9299/46494), 4.68 MiB | 813.00 KiB/s   \r"
       ]
      },
      {
       "output_type": "stream",
       "stream": "stdout",
       "text": [
        "Receiving objects:  20% (9374/46494), 4.68 MiB | 813.00 KiB/s   \r"
       ]
      },
      {
       "output_type": "stream",
       "stream": "stdout",
       "text": [
        "Receiving objects:  21% (9764/46494), 5.11 MiB | 823.00 KiB/s   \r"
       ]
      },
      {
       "output_type": "stream",
       "stream": "stdout",
       "text": [
        "Receiving objects:  22% (10229/46494), 5.53 MiB | 828.00 KiB/s   \r"
       ]
      },
      {
       "output_type": "stream",
       "stream": "stdout",
       "text": [
        "Receiving objects:  23% (10694/46494), 5.53 MiB | 828.00 KiB/s   \r"
       ]
      },
      {
       "output_type": "stream",
       "stream": "stdout",
       "text": [
        "Receiving objects:  23% (10767/46494), 5.53 MiB | 828.00 KiB/s   \r"
       ]
      },
      {
       "output_type": "stream",
       "stream": "stdout",
       "text": [
        "Receiving objects:  24% (11159/46494), 5.93 MiB | 829.00 KiB/s   \r"
       ]
      },
      {
       "output_type": "stream",
       "stream": "stdout",
       "text": [
        "Receiving objects:  25% (11624/46494), 6.15 MiB | 776.00 KiB/s   \r"
       ]
      },
      {
       "output_type": "stream",
       "stream": "stdout",
       "text": [
        "Receiving objects:  25% (11854/46494), 6.15 MiB | 776.00 KiB/s   \r"
       ]
      },
      {
       "output_type": "stream",
       "stream": "stdout",
       "text": [
        "Receiving objects:  26% (12089/46494), 6.15 MiB | 776.00 KiB/s   \r"
       ]
      },
      {
       "output_type": "stream",
       "stream": "stdout",
       "text": [
        "Receiving objects:  27% (12554/46494), 6.61 MiB | 788.00 KiB/s   \r"
       ]
      },
      {
       "output_type": "stream",
       "stream": "stdout",
       "text": [
        "Receiving objects:  28% (13019/46494), 6.61 MiB | 788.00 KiB/s   \r"
       ]
      },
      {
       "output_type": "stream",
       "stream": "stdout",
       "text": [
        "Receiving objects:  29% (13484/46494), 7.00 MiB | 784.00 KiB/s   \r"
       ]
      },
      {
       "output_type": "stream",
       "stream": "stdout",
       "text": [
        "Receiving objects:  29% (13608/46494), 7.00 MiB | 784.00 KiB/s   \r"
       ]
      },
      {
       "output_type": "stream",
       "stream": "stdout",
       "text": [
        "Receiving objects:  30% (13949/46494), 7.00 MiB | 784.00 KiB/s   \r"
       ]
      },
      {
       "output_type": "stream",
       "stream": "stdout",
       "text": [
        "Receiving objects:  31% (14414/46494), 7.00 MiB | 784.00 KiB/s   \r"
       ]
      },
      {
       "output_type": "stream",
       "stream": "stdout",
       "text": [
        "Receiving objects:  32% (14879/46494), 7.42 MiB | 783.00 KiB/s   \r"
       ]
      },
      {
       "output_type": "stream",
       "stream": "stdout",
       "text": [
        "Receiving objects:  33% (15344/46494), 7.42 MiB | 783.00 KiB/s   \r"
       ]
      },
      {
       "output_type": "stream",
       "stream": "stdout",
       "text": [
        "Receiving objects:  34% (15808/46494), 7.82 MiB | 780.00 KiB/s   \r"
       ]
      },
      {
       "output_type": "stream",
       "stream": "stdout",
       "text": [
        "Receiving objects:  34% (16243/46494), 7.82 MiB | 780.00 KiB/s   \r"
       ]
      },
      {
       "output_type": "stream",
       "stream": "stdout",
       "text": [
        "Receiving objects:  35% (16273/46494), 7.82 MiB | 780.00 KiB/s   \r"
       ]
      },
      {
       "output_type": "stream",
       "stream": "stdout",
       "text": [
        "Receiving objects:  36% (16738/46494), 7.82 MiB | 780.00 KiB/s   \r"
       ]
      },
      {
       "output_type": "stream",
       "stream": "stdout",
       "text": [
        "Receiving objects:  37% (17203/46494), 8.24 MiB | 784.00 KiB/s   \r"
       ]
      },
      {
       "output_type": "stream",
       "stream": "stdout",
       "text": [
        "Receiving objects:  38% (17668/46494), 8.24 MiB | 784.00 KiB/s   \r"
       ]
      },
      {
       "output_type": "stream",
       "stream": "stdout",
       "text": [
        "Receiving objects:  39% (18133/46494), 8.66 MiB | 782.00 KiB/s   \r"
       ]
      },
      {
       "output_type": "stream",
       "stream": "stdout",
       "text": [
        "Receiving objects:  39% (18314/46494), 8.66 MiB | 782.00 KiB/s   \r"
       ]
      },
      {
       "output_type": "stream",
       "stream": "stdout",
       "text": [
        "Receiving objects:  40% (18598/46494), 8.66 MiB | 782.00 KiB/s   \r"
       ]
      },
      {
       "output_type": "stream",
       "stream": "stdout",
       "text": [
        "Receiving objects:  41% (19063/46494), 8.66 MiB | 782.00 KiB/s   \r"
       ]
      },
      {
       "output_type": "stream",
       "stream": "stdout",
       "text": [
        "Receiving objects:  42% (19528/46494), 9.09 MiB | 784.00 KiB/s   \r"
       ]
      },
      {
       "output_type": "stream",
       "stream": "stdout",
       "text": [
        "Receiving objects:  43% (19993/46494), 9.09 MiB | 784.00 KiB/s   \r"
       ]
      },
      {
       "output_type": "stream",
       "stream": "stdout",
       "text": [
        "Receiving objects:  44% (20458/46494), 9.49 MiB | 783.00 KiB/s   \r"
       ]
      },
      {
       "output_type": "stream",
       "stream": "stdout",
       "text": [
        "Receiving objects:  44% (20515/46494), 9.49 MiB | 783.00 KiB/s   \r"
       ]
      },
      {
       "output_type": "stream",
       "stream": "stdout",
       "text": [
        "Receiving objects:  45% (20923/46494), 9.49 MiB | 783.00 KiB/s   \r"
       ]
      },
      {
       "output_type": "stream",
       "stream": "stdout",
       "text": [
        "Receiving objects:  46% (21388/46494), 9.89 MiB | 837.00 KiB/s   \r"
       ]
      },
      {
       "output_type": "stream",
       "stream": "stdout",
       "text": [
        "Receiving objects:  47% (21853/46494), 9.89 MiB | 837.00 KiB/s   \r"
       ]
      },
      {
       "output_type": "stream",
       "stream": "stdout",
       "text": [
        "Receiving objects:  48% (22318/46494), 9.89 MiB | 837.00 KiB/s   \r"
       ]
      },
      {
       "output_type": "stream",
       "stream": "stdout",
       "text": [
        "Receiving objects:  49% (22783/46494), 10.29 MiB | 824.00 KiB/s   \r"
       ]
      },
      {
       "output_type": "stream",
       "stream": "stdout",
       "text": [
        "Receiving objects:  49% (22790/46494), 10.29 MiB | 824.00 KiB/s   \r"
       ]
      },
      {
       "output_type": "stream",
       "stream": "stdout",
       "text": [
        "Receiving objects:  50% (23247/46494), 10.29 MiB | 824.00 KiB/s   \r"
       ]
      },
      {
       "output_type": "stream",
       "stream": "stdout",
       "text": [
        "Receiving objects:  51% (23712/46494), 10.70 MiB | 830.00 KiB/s   \r"
       ]
      },
      {
       "output_type": "stream",
       "stream": "stdout",
       "text": [
        "Receiving objects:  51% (24076/46494), 11.10 MiB | 828.00 KiB/s   \r",
        "Receiving objects:  52% (24177/46494), 11.10 MiB | 828.00 KiB/s   \r"
       ]
      },
      {
       "output_type": "stream",
       "stream": "stdout",
       "text": [
        "Receiving objects:  53% (24642/46494), 11.10 MiB | 828.00 KiB/s   \r"
       ]
      },
      {
       "output_type": "stream",
       "stream": "stdout",
       "text": [
        "Receiving objects:  54% (25107/46494), 11.47 MiB | 820.00 KiB/s   \r"
       ]
      },
      {
       "output_type": "stream",
       "stream": "stdout",
       "text": [
        "Receiving objects:  55% (25572/46494), 11.86 MiB | 812.00 KiB/s   \r"
       ]
      },
      {
       "output_type": "stream",
       "stream": "stdout",
       "text": [
        "Receiving objects:  55% (25805/46494), 11.86 MiB | 812.00 KiB/s   \r"
       ]
      },
      {
       "output_type": "stream",
       "stream": "stdout",
       "text": [
        "Receiving objects:  56% (26037/46494), 11.86 MiB | 812.00 KiB/s   \r"
       ]
      },
      {
       "output_type": "stream",
       "stream": "stdout",
       "text": [
        "Receiving objects:  57% (26502/46494), 12.24 MiB | 803.00 KiB/s   \r"
       ]
      },
      {
       "output_type": "stream",
       "stream": "stdout",
       "text": [
        "Receiving objects:  58% (26967/46494), 12.62 MiB | 795.00 KiB/s   \r"
       ]
      },
      {
       "output_type": "stream",
       "stream": "stdout",
       "text": [
        "Receiving objects:  58% (27015/46494), 12.62 MiB | 795.00 KiB/s   \r"
       ]
      },
      {
       "output_type": "stream",
       "stream": "stdout",
       "text": [
        "Receiving objects:  59% (27432/46494), 13.00 MiB | 790.00 KiB/s   \r"
       ]
      },
      {
       "output_type": "stream",
       "stream": "stdout",
       "text": [
        "Receiving objects:  59% (27833/46494), 13.39 MiB | 785.00 KiB/s   \r",
        "Receiving objects:  60% (27897/46494), 13.39 MiB | 785.00 KiB/s   \r"
       ]
      },
      {
       "output_type": "stream",
       "stream": "stdout",
       "text": [
        "Receiving objects:  61% (28362/46494), 13.67 MiB | 756.00 KiB/s   \r"
       ]
      },
      {
       "output_type": "stream",
       "stream": "stdout",
       "text": [
        "Receiving objects:  61% (28628/46494), 13.97 MiB | 730.00 KiB/s   \r"
       ]
      },
      {
       "output_type": "stream",
       "stream": "stdout",
       "text": [
        "Receiving objects:  62% (28827/46494), 13.97 MiB | 730.00 KiB/s   \r"
       ]
      },
      {
       "output_type": "stream",
       "stream": "stdout",
       "text": [
        "Receiving objects:  63% (29292/46494), 14.29 MiB | 709.00 KiB/s   \r"
       ]
      },
      {
       "output_type": "stream",
       "stream": "stdout",
       "text": [
        "Receiving objects:  63% (29495/46494), 14.57 MiB | 692.00 KiB/s   \r"
       ]
      },
      {
       "output_type": "stream",
       "stream": "stdout",
       "text": [
        "Receiving objects:  64% (29757/46494), 14.89 MiB | 675.00 KiB/s   \r"
       ]
      },
      {
       "output_type": "stream",
       "stream": "stdout",
       "text": [
        "Receiving objects:  64% (29809/46494), 15.18 MiB | 658.00 KiB/s   \r"
       ]
      },
      {
       "output_type": "stream",
       "stream": "stdout",
       "text": [
        "Receiving objects:  65% (30222/46494), 15.46 MiB | 632.00 KiB/s   \r"
       ]
      },
      {
       "output_type": "stream",
       "stream": "stdout",
       "text": [
        "Receiving objects:  66% (30687/46494), 15.46 MiB | 632.00 KiB/s   \r"
       ]
      },
      {
       "output_type": "stream",
       "stream": "stdout",
       "text": [
        "Receiving objects:  67% (31151/46494), 15.46 MiB | 632.00 KiB/s   \r"
       ]
      },
      {
       "output_type": "stream",
       "stream": "stdout",
       "text": [
        "Receiving objects:  67% (31258/46494), 15.78 MiB | 616.00 KiB/s   \r"
       ]
      },
      {
       "output_type": "stream",
       "stream": "stdout",
       "text": [
        "Receiving objects:  68% (31616/46494), 15.78 MiB | 616.00 KiB/s   \r"
       ]
      },
      {
       "output_type": "stream",
       "stream": "stdout",
       "text": [
        "Receiving objects:  69% (32081/46494), 16.07 MiB | 594.00 KiB/s   \r"
       ]
      },
      {
       "output_type": "stream",
       "stream": "stdout",
       "text": [
        "Receiving objects:  69% (32512/46494), 16.07 MiB | 594.00 KiB/s   \r"
       ]
      },
      {
       "output_type": "stream",
       "stream": "stdout",
       "text": [
        "Receiving objects:  70% (32546/46494), 16.37 MiB | 603.00 KiB/s   \r"
       ]
      },
      {
       "output_type": "stream",
       "stream": "stdout",
       "text": [
        "Receiving objects:  71% (33011/46494), 16.67 MiB | 602.00 KiB/s   \r"
       ]
      },
      {
       "output_type": "stream",
       "stream": "stdout",
       "text": [
        "Receiving objects:  72% (33476/46494), 16.67 MiB | 602.00 KiB/s   \r"
       ]
      },
      {
       "output_type": "stream",
       "stream": "stdout",
       "text": [
        "Receiving objects:  72% (33721/46494), 16.67 MiB | 602.00 KiB/s   \r"
       ]
      },
      {
       "output_type": "stream",
       "stream": "stdout",
       "text": [
        "Receiving objects:  73% (33941/46494), 16.99 MiB | 603.00 KiB/s   \r"
       ]
      },
      {
       "output_type": "stream",
       "stream": "stdout",
       "text": [
        "Receiving objects:  74% (34406/46494), 16.99 MiB | 603.00 KiB/s   \r"
       ]
      },
      {
       "output_type": "stream",
       "stream": "stdout",
       "text": [
        "Receiving objects:  75% (34871/46494), 17.33 MiB | 615.00 KiB/s   \r"
       ]
      },
      {
       "output_type": "stream",
       "stream": "stdout",
       "text": [
        "Receiving objects:  75% (35268/46494), 17.33 MiB | 615.00 KiB/s   \r"
       ]
      },
      {
       "output_type": "stream",
       "stream": "stdout",
       "text": [
        "Receiving objects:  76% (35336/46494), 17.72 MiB | 632.00 KiB/s   \r"
       ]
      },
      {
       "output_type": "stream",
       "stream": "stdout",
       "text": [
        "Receiving objects:  77% (35801/46494), 17.72 MiB | 632.00 KiB/s   \r"
       ]
      },
      {
       "output_type": "stream",
       "stream": "stdout",
       "text": [
        "Receiving objects:  78% (36266/46494), 17.72 MiB | 632.00 KiB/s   \r"
       ]
      },
      {
       "output_type": "stream",
       "stream": "stdout",
       "text": [
        "Receiving objects:  79% (36731/46494), 17.72 MiB | 632.00 KiB/s   \r"
       ]
      },
      {
       "output_type": "stream",
       "stream": "stdout",
       "text": [
        "Receiving objects:  80% (37196/46494), 18.13 MiB | 656.00 KiB/s   \r"
       ]
      },
      {
       "output_type": "stream",
       "stream": "stdout",
       "text": [
        "Receiving objects:  81% (37661/46494), 18.13 MiB | 656.00 KiB/s   \r"
       ]
      },
      {
       "output_type": "stream",
       "stream": "stdout",
       "text": [
        "Receiving objects:  82% (38126/46494), 18.13 MiB | 656.00 KiB/s   \r"
       ]
      },
      {
       "output_type": "stream",
       "stream": "stdout",
       "text": [
        "Receiving objects:  82% (38174/46494), 18.13 MiB | 656.00 KiB/s   \r"
       ]
      },
      {
       "output_type": "stream",
       "stream": "stdout",
       "text": [
        "Receiving objects:  83% (38591/46494), 18.55 MiB | 689.00 KiB/s   \r"
       ]
      },
      {
       "output_type": "stream",
       "stream": "stdout",
       "text": [
        "Receiving objects:  84% (39055/46494), 18.55 MiB | 689.00 KiB/s   \r"
       ]
      },
      {
       "output_type": "stream",
       "stream": "stdout",
       "text": [
        "Receiving objects:  85% (39520/46494), 18.91 MiB | 702.00 KiB/s   \r"
       ]
      },
      {
       "output_type": "stream",
       "stream": "stdout",
       "text": [
        "Receiving objects:  85% (39891/46494), 18.91 MiB | 702.00 KiB/s   \r"
       ]
      },
      {
       "output_type": "stream",
       "stream": "stdout",
       "text": [
        "Receiving objects:  86% (39985/46494), 19.12 MiB | 685.00 KiB/s   \r"
       ]
      },
      {
       "output_type": "stream",
       "stream": "stdout",
       "text": [
        "Receiving objects:  87% (40450/46494), 19.12 MiB | 685.00 KiB/s   \r"
       ]
      },
      {
       "output_type": "stream",
       "stream": "stdout",
       "text": [
        "Receiving objects:  88% (40915/46494), 19.12 MiB | 685.00 KiB/s   \r"
       ]
      },
      {
       "output_type": "stream",
       "stream": "stdout",
       "text": [
        "Receiving objects:  89% (41380/46494), 19.54 MiB | 711.00 KiB/s   \r"
       ]
      },
      {
       "output_type": "stream",
       "stream": "stdout",
       "text": [
        "Receiving objects:  90% (41845/46494), 19.54 MiB | 711.00 KiB/s   \r"
       ]
      },
      {
       "output_type": "stream",
       "stream": "stdout",
       "text": [
        "Receiving objects:  90% (42231/46494), 19.54 MiB | 711.00 KiB/s   \r"
       ]
      },
      {
       "output_type": "stream",
       "stream": "stdout",
       "text": [
        "Receiving objects:  91% (42310/46494), 19.96 MiB | 739.00 KiB/s   \r"
       ]
      },
      {
       "output_type": "stream",
       "stream": "stdout",
       "text": [
        "Receiving objects:  92% (42775/46494), 19.96 MiB | 739.00 KiB/s   \r"
       ]
      },
      {
       "output_type": "stream",
       "stream": "stdout",
       "text": [
        "Receiving objects:  93% (43240/46494), 19.96 MiB | 739.00 KiB/s   \r"
       ]
      },
      {
       "output_type": "stream",
       "stream": "stdout",
       "text": [
        "Receiving objects:  94% (43705/46494), 20.36 MiB | 758.00 KiB/s   \r"
       ]
      },
      {
       "output_type": "stream",
       "stream": "stdout",
       "text": [
        "Receiving objects:  95% (44170/46494), 20.36 MiB | 758.00 KiB/s   \r"
       ]
      },
      {
       "output_type": "stream",
       "stream": "stdout",
       "text": [
        "Receiving objects:  95% (44502/46494), 20.36 MiB | 758.00 KiB/s   \r"
       ]
      },
      {
       "output_type": "stream",
       "stream": "stdout",
       "text": [
        "Receiving objects:  96% (44635/46494), 20.36 MiB | 758.00 KiB/s   \r"
       ]
      },
      {
       "output_type": "stream",
       "stream": "stdout",
       "text": [
        "Receiving objects:  97% (45100/46494), 20.74 MiB | 762.00 KiB/s   \r"
       ]
      },
      {
       "output_type": "stream",
       "stream": "stdout",
       "text": [
        "Receiving objects:  98% (45565/46494), 20.74 MiB | 762.00 KiB/s   \r"
       ]
      },
      {
       "output_type": "stream",
       "stream": "stdout",
       "text": [
        "Receiving objects:  99% (46030/46494), 21.14 MiB | 766.00 KiB/s   \r"
       ]
      },
      {
       "output_type": "stream",
       "stream": "stdout",
       "text": [
        "remote: Total 46494 (delta 33293), reused 46490 (delta 33289)\u001b[K\r\n",
        "Receiving objects: 100% (46494/46494), 21.14 MiB | 766.00 KiB/s   \r",
        "Receiving objects: 100% (46494/46494), 21.28 MiB | 759.00 KiB/s, done.\r\n",
        "Resolving deltas:   0% (0/33293)   \r"
       ]
      },
      {
       "output_type": "stream",
       "stream": "stdout",
       "text": [
        "Resolving deltas:   1% (343/33293)   \r",
        "Resolving deltas:   2% (692/33293)   \r"
       ]
      },
      {
       "output_type": "stream",
       "stream": "stdout",
       "text": [
        "Resolving deltas:   3% (1003/33293)   \r",
        "Resolving deltas:   4% (1346/33293)   \r",
        "Resolving deltas:   5% (1667/33293)   \r"
       ]
      },
      {
       "output_type": "stream",
       "stream": "stdout",
       "text": [
        "Resolving deltas:   6% (1999/33293)   \r",
        "Resolving deltas:   7% (2348/33293)   \r",
        "Resolving deltas:   8% (2672/33293)   \r"
       ]
      },
      {
       "output_type": "stream",
       "stream": "stdout",
       "text": [
        "Resolving deltas:   9% (3002/33293)   \r",
        "Resolving deltas:  10% (3332/33293)   \r",
        "Resolving deltas:  11% (3677/33293)   \r"
       ]
      },
      {
       "output_type": "stream",
       "stream": "stdout",
       "text": [
        "Resolving deltas:  12% (4008/33293)   \r",
        "Resolving deltas:  13% (4341/33293)   \r"
       ]
      },
      {
       "output_type": "stream",
       "stream": "stdout",
       "text": [
        "Resolving deltas:  14% (4670/33293)   \r",
        "Resolving deltas:  15% (5011/33293)   \r",
        "Resolving deltas:  16% (5335/33293)   \r"
       ]
      },
      {
       "output_type": "stream",
       "stream": "stdout",
       "text": [
        "Resolving deltas:  17% (5673/33293)   \r",
        "Resolving deltas:  18% (5995/33293)   \r",
        "Resolving deltas:  19% (6338/33293)   \r"
       ]
      },
      {
       "output_type": "stream",
       "stream": "stdout",
       "text": [
        "Resolving deltas:  20% (6659/33293)   \r",
        "Resolving deltas:  21% (6999/33293)   \r",
        "Resolving deltas:  22% (7327/33293)   \r"
       ]
      },
      {
       "output_type": "stream",
       "stream": "stdout",
       "text": [
        "Resolving deltas:  23% (7660/33293)   \r",
        "Resolving deltas:  24% (7997/33293)   \r",
        "Resolving deltas:  25% (8331/33293)   \r"
       ]
      },
      {
       "output_type": "stream",
       "stream": "stdout",
       "text": [
        "Resolving deltas:  26% (8670/33293)   \r",
        "Resolving deltas:  27% (8992/33293)   \r",
        "Resolving deltas:  28% (9326/33293)   \r"
       ]
      },
      {
       "output_type": "stream",
       "stream": "stdout",
       "text": [
        "Resolving deltas:  29% (9665/33293)   \r",
        "Resolving deltas:  30% (9993/33293)   \r",
        "Resolving deltas:  31% (10328/33293)   \r"
       ]
      },
      {
       "output_type": "stream",
       "stream": "stdout",
       "text": [
        "Resolving deltas:  32% (10655/33293)   \r",
        "Resolving deltas:  33% (10987/33293)   \r",
        "Resolving deltas:  34% (11324/33293)   \r"
       ]
      },
      {
       "output_type": "stream",
       "stream": "stdout",
       "text": [
        "Resolving deltas:  35% (11739/33293)   \r",
        "Resolving deltas:  36% (12000/33293)   \r",
        "Resolving deltas:  37% (12326/33293)   \r"
       ]
      },
      {
       "output_type": "stream",
       "stream": "stdout",
       "text": [
        "Resolving deltas:  38% (12652/33293)   \r",
        "Resolving deltas:  39% (13008/33293)   \r",
        "Resolving deltas:  40% (13326/33293)   \r",
        "Resolving deltas:  41% (13658/33293)   \r"
       ]
      },
      {
       "output_type": "stream",
       "stream": "stdout",
       "text": [
        "Resolving deltas:  42% (13989/33293)   \r",
        "Resolving deltas:  43% (14329/33293)   \r",
        "Resolving deltas:  44% (14665/33293)   \r"
       ]
      },
      {
       "output_type": "stream",
       "stream": "stdout",
       "text": [
        "Resolving deltas:  45% (14982/33293)   \r",
        "Resolving deltas:  46% (15315/33293)   \r"
       ]
      },
      {
       "output_type": "stream",
       "stream": "stdout",
       "text": [
        "Resolving deltas:  47% (15664/33293)   \r",
        "Resolving deltas:  48% (15995/33293)   \r",
        "Resolving deltas:  49% (16318/33293)   \r"
       ]
      },
      {
       "output_type": "stream",
       "stream": "stdout",
       "text": [
        "Resolving deltas:  50% (16659/33293)   \r",
        "Resolving deltas:  51% (16992/33293)   \r",
        "Resolving deltas:  52% (17317/33293)   \r",
        "Resolving deltas:  53% (17646/33293)   \r"
       ]
      },
      {
       "output_type": "stream",
       "stream": "stdout",
       "text": [
        "Resolving deltas:  54% (17985/33293)   \r",
        "Resolving deltas:  55% (18320/33293)   \r",
        "Resolving deltas:  56% (18647/33293)   \r"
       ]
      },
      {
       "output_type": "stream",
       "stream": "stdout",
       "text": [
        "Resolving deltas:  57% (18995/33293)   \r",
        "Resolving deltas:  57% (19226/33293)   \r",
        "Resolving deltas:  58% (19314/33293)   \r",
        "Resolving deltas:  59% (19644/33293)   \r"
       ]
      },
      {
       "output_type": "stream",
       "stream": "stdout",
       "text": [
        "Resolving deltas:  60% (19976/33293)   \r",
        "Resolving deltas:  61% (20312/33293)   \r",
        "Resolving deltas:  62% (20646/33293)   \r"
       ]
      },
      {
       "output_type": "stream",
       "stream": "stdout",
       "text": [
        "Resolving deltas:  63% (20983/33293)   \r",
        "Resolving deltas:  64% (21319/33293)   \r",
        "Resolving deltas:  65% (21641/33293)   \r"
       ]
      },
      {
       "output_type": "stream",
       "stream": "stdout",
       "text": [
        "Resolving deltas:  66% (21984/33293)   \r",
        "Resolving deltas:  67% (22322/33293)   \r"
       ]
      },
      {
       "output_type": "stream",
       "stream": "stdout",
       "text": [
        "Resolving deltas:  68% (22641/33293)   \r",
        "Resolving deltas:  69% (22978/33293)   \r",
        "Resolving deltas:  70% (23316/33293)   \r"
       ]
      },
      {
       "output_type": "stream",
       "stream": "stdout",
       "text": [
        "Resolving deltas:  71% (23641/33293)   \r",
        "Resolving deltas:  72% (23980/33293)   \r",
        "Resolving deltas:  73% (24305/33293)   \r"
       ]
      },
      {
       "output_type": "stream",
       "stream": "stdout",
       "text": [
        "Resolving deltas:  74% (24638/33293)   \r",
        "Resolving deltas:  75% (24976/33293)   \r"
       ]
      },
      {
       "output_type": "stream",
       "stream": "stdout",
       "text": [
        "Resolving deltas:  76% (25319/33293)   \r",
        "Resolving deltas:  77% (25636/33293)   \r",
        "Resolving deltas:  78% (25979/33293)   \r"
       ]
      },
      {
       "output_type": "stream",
       "stream": "stdout",
       "text": [
        "Resolving deltas:  79% (26305/33293)   \r",
        "Resolving deltas:  80% (26636/33293)   \r",
        "Resolving deltas:  81% (26981/33293)   \r"
       ]
      },
      {
       "output_type": "stream",
       "stream": "stdout",
       "text": [
        "Resolving deltas:  82% (27316/33293)   \r",
        "Resolving deltas:  83% (27641/33293)   \r",
        "Resolving deltas:  84% (27970/33293)   \r"
       ]
      },
      {
       "output_type": "stream",
       "stream": "stdout",
       "text": [
        "Resolving deltas:  85% (28312/33293)   \r",
        "Resolving deltas:  86% (28639/33293)   \r",
        "Resolving deltas:  87% (28969/33293)   \r"
       ]
      },
      {
       "output_type": "stream",
       "stream": "stdout",
       "text": [
        "Resolving deltas:  88% (29298/33293)   \r",
        "Resolving deltas:  89% (29639/33293)   \r",
        "Resolving deltas:  90% (29979/33293)   \r",
        "Resolving deltas:  91% (30301/33293)   \r"
       ]
      },
      {
       "output_type": "stream",
       "stream": "stdout",
       "text": [
        "Resolving deltas:  92% (30634/33293)   \r",
        "Resolving deltas:  93% (30964/33293)   \r",
        "Resolving deltas:  94% (31296/33293)   \r"
       ]
      },
      {
       "output_type": "stream",
       "stream": "stdout",
       "text": [
        "Resolving deltas:  95% (31636/33293)   \r",
        "Resolving deltas:  96% (31971/33293)   \r",
        "Resolving deltas:  97% (32297/33293)   \r"
       ]
      },
      {
       "output_type": "stream",
       "stream": "stdout",
       "text": [
        "Resolving deltas:  98% (32636/33293)   \r",
        "Resolving deltas:  99% (32976/33293)   \r",
        "Resolving deltas: 100% (33293/33293)   \r",
        "Resolving deltas: 100% (33293/33293), done.\r\n"
       ]
      },
      {
       "output_type": "stream",
       "stream": "stdout",
       "text": [
        "Checking connectivity... done.\r\n"
       ]
      },
      {
       "output_type": "stream",
       "stream": "stdout",
       "text": [
        "CPU times: user 259 ms, sys: 80 ms, total: 339 ms\n",
        "Wall time: 34.3 s\n"
       ]
      }
     ],
     "prompt_number": 1
    },
    {
     "cell_type": "code",
     "collapsed": false,
     "input": [
      "cd openbsd/"
     ],
     "language": "python",
     "metadata": {},
     "outputs": [
      {
       "output_type": "stream",
       "stream": "stdout",
       "text": [
        "/Users/dirk/projekte/repo-libressl/openbsd\n"
       ]
      }
     ],
     "prompt_number": 2
    },
    {
     "cell_type": "code",
     "collapsed": false,
     "input": [
      "!git log --reverse | head -10"
     ],
     "language": "python",
     "metadata": {},
     "outputs": [
      {
       "output_type": "stream",
       "stream": "stdout",
       "text": [
        "commit dcac718930cb87c958bb05ea34b0ef6284f5e10b\r\n",
        "Author: deraadt <>\r\n",
        "Date:   Wed Oct 18 08:42:23 1995 +0000\r\n",
        "\r\n",
        "    initial import of NetBSD tree\r\n",
        "\r\n",
        "commit bf056200690ad2990feba19909f02f57687666fb\r\n",
        "Author: deraadt <>\r\n",
        "Date:   Wed Oct 18 08:49:34 1995 +0000\r\n",
        "\r\n"
       ]
      }
     ],
     "prompt_number": 3
    },
    {
     "cell_type": "code",
     "collapsed": false,
     "input": [
      "!git log -1"
     ],
     "language": "python",
     "metadata": {},
     "outputs": [
      {
       "output_type": "stream",
       "stream": "stdout",
       "text": [
        "\u001b[33mcommit ea6dfc7cc887f405dc17af99e705e3082ea177e9\u001b[m\r\n",
        "Author: beck <>\r\n",
        "Date:   Fri Jul 11 17:18:11 2014 +0000\r\n",
        "\r\n",
        "    formatting\r\n",
        "    ok bcook@\r\n"
       ]
      }
     ],
     "prompt_number": 4
    },
    {
     "cell_type": "markdown",
     "metadata": {},
     "source": [
      "So we have commits from 1995 to today. "
     ]
    },
    {
     "cell_type": "code",
     "collapsed": false,
     "input": [
      "!git log --oneline | wc -l"
     ],
     "language": "python",
     "metadata": {},
     "outputs": [
      {
       "output_type": "stream",
       "stream": "stdout",
       "text": [
        "    3002\r\n"
       ]
      }
     ],
     "prompt_number": 5
    },
    {
     "cell_type": "heading",
     "level": 2,
     "metadata": {},
     "source": [
      "How large is the code base?"
     ]
    },
    {
     "cell_type": "markdown",
     "metadata": {},
     "source": [
      "First let's see how much space the current checkout (excluding the .git repo) takes:"
     ]
    },
    {
     "cell_type": "code",
     "collapsed": false,
     "input": [
      "!du -hs -I\\.git"
     ],
     "language": "python",
     "metadata": {},
     "outputs": [
      {
       "output_type": "stream",
       "stream": "stdout",
       "text": [
        " 19M\t.\r\n"
       ]
      }
     ],
     "prompt_number": 6
    },
    {
     "cell_type": "markdown",
     "metadata": {},
     "source": [
      "For a deeper analysis, we use [CLOC](http://cloc.sourceforge.net/). Compared with [SLOCCount](http://www.dwheeler.com/sloccount/) it has nicer output, and is well maintained."
     ]
    },
    {
     "cell_type": "code",
     "collapsed": false,
     "input": [
      "!cloc ."
     ],
     "language": "python",
     "metadata": {},
     "outputs": [
      {
       "output_type": "stream",
       "stream": "stdout",
       "text": [
        "     100 files\r"
       ]
      },
      {
       "output_type": "stream",
       "stream": "stdout",
       "text": [
        "     200 files\r"
       ]
      },
      {
       "output_type": "stream",
       "stream": "stdout",
       "text": [
        "     300 files\r"
       ]
      },
      {
       "output_type": "stream",
       "stream": "stdout",
       "text": [
        "     400 files\r"
       ]
      },
      {
       "output_type": "stream",
       "stream": "stdout",
       "text": [
        "     500 files\r"
       ]
      },
      {
       "output_type": "stream",
       "stream": "stdout",
       "text": [
        "     600 files\r"
       ]
      },
      {
       "output_type": "stream",
       "stream": "stdout",
       "text": [
        "     700 files\r"
       ]
      },
      {
       "output_type": "stream",
       "stream": "stdout",
       "text": [
        "     800 files\r"
       ]
      },
      {
       "output_type": "stream",
       "stream": "stdout",
       "text": [
        "     900 files\r"
       ]
      },
      {
       "output_type": "stream",
       "stream": "stdout",
       "text": [
        "    1000 files\r"
       ]
      },
      {
       "output_type": "stream",
       "stream": "stdout",
       "text": [
        "    1100 files\r"
       ]
      },
      {
       "output_type": "stream",
       "stream": "stdout",
       "text": [
        "    1200 files\r"
       ]
      },
      {
       "output_type": "stream",
       "stream": "stdout",
       "text": [
        "    1300 files\r"
       ]
      },
      {
       "output_type": "stream",
       "stream": "stdout",
       "text": [
        "    1400 files\r"
       ]
      },
      {
       "output_type": "stream",
       "stream": "stdout",
       "text": [
        "    1500 files\r"
       ]
      },
      {
       "output_type": "stream",
       "stream": "stdout",
       "text": [
        "    1600 files\r"
       ]
      },
      {
       "output_type": "stream",
       "stream": "stdout",
       "text": [
        "    1700 files\r"
       ]
      },
      {
       "output_type": "stream",
       "stream": "stdout",
       "text": [
        "    1800 files\r"
       ]
      },
      {
       "output_type": "stream",
       "stream": "stdout",
       "text": [
        "    1900 files\r"
       ]
      },
      {
       "output_type": "stream",
       "stream": "stdout",
       "text": [
        "    1933 text files.\r\n"
       ]
      },
      {
       "output_type": "stream",
       "stream": "stdout",
       "text": [
        "classified 1918 files\r"
       ]
      },
      {
       "output_type": "stream",
       "stream": "stdout",
       "text": [
        "Duplicate file check 1918 files (1725 known unique)\r",
        "Unique:      100 files                                          \r",
        "Unique:      200 files                                          \r",
        "Unique:      300 files                                          \r",
        "Unique:      400 files                                          \r",
        "Unique:      500 files                                          \r",
        "Unique:      600 files                                          \r",
        "Unique:      700 files                                          \r",
        "Unique:      800 files                                          \r",
        "Unique:      900 files                                          \r",
        "Unique:     1000 files                                          \r",
        "Unique:     1100 files                                          \r",
        "Unique:     1200 files                                          \r",
        "Unique:     1300 files                                          \r",
        "Unique:     1400 files                                          \r",
        "Unique:     1500 files                                          \r",
        "Unique:     1600 files                                          \r",
        "Unique:     1700 files                                          \r",
        "    1865 unique files.                              \r\n"
       ]
      },
      {
       "output_type": "stream",
       "stream": "stdout",
       "text": [
        "Counting:  100\r"
       ]
      },
      {
       "output_type": "stream",
       "stream": "stdout",
       "text": [
        "Counting:  200\r"
       ]
      },
      {
       "output_type": "stream",
       "stream": "stdout",
       "text": [
        "Counting:  300\r"
       ]
      },
      {
       "output_type": "stream",
       "stream": "stdout",
       "text": [
        "Counting:  400\r"
       ]
      },
      {
       "output_type": "stream",
       "stream": "stdout",
       "text": [
        "Counting:  500\r"
       ]
      },
      {
       "output_type": "stream",
       "stream": "stdout",
       "text": [
        "Counting:  600\r"
       ]
      },
      {
       "output_type": "stream",
       "stream": "stdout",
       "text": [
        "Counting:  700\r"
       ]
      },
      {
       "output_type": "stream",
       "stream": "stdout",
       "text": [
        "Counting:  800\r"
       ]
      },
      {
       "output_type": "stream",
       "stream": "stdout",
       "text": [
        "Counting:  900\r"
       ]
      },
      {
       "output_type": "stream",
       "stream": "stdout",
       "text": [
        "Counting:  1000\r"
       ]
      },
      {
       "output_type": "stream",
       "stream": "stdout",
       "text": [
        "Counting:  1100\r"
       ]
      },
      {
       "output_type": "stream",
       "stream": "stdout",
       "text": [
        "Counting:  1200\r",
        "Counting:  1300\r",
        "Counting:  1400\r",
        "Counting:  1500\r"
       ]
      },
      {
       "output_type": "stream",
       "stream": "stdout",
       "text": [
        "Counting:  1600\r"
       ]
      },
      {
       "output_type": "stream",
       "stream": "stdout",
       "text": [
        "Counting:  1700\r"
       ]
      },
      {
       "output_type": "stream",
       "stream": "stdout",
       "text": [
        "Counting:  1800\r"
       ]
      },
      {
       "output_type": "stream",
       "stream": "stdout",
       "text": [
        "     595 files ignored.\r\n",
        "\r\n",
        "http://cloc.sourceforge.net v 1.60  T=15.03 s (88.2 files/s, 28688.5 lines/s)\r\n",
        "-------------------------------------------------------------------------------\r\n",
        "Language                     files          blank        comment           code\r\n",
        "-------------------------------------------------------------------------------\r\n",
        "C                              939          28728          63620         200170\r\n",
        "Perl                           116           7275           6966          60669\r\n",
        "C/C++ Header                   138           4781          11844          26481\r\n",
        "Assembly                        13           1223           1350           9027\r\n",
        "Bourne Shell                    25            481            406           2901\r\n",
        "make                            90            376            217           2331\r\n",
        "m4                               1            514              0           1585\r\n",
        "C++                              3             24             48             55\r\n",
        "-------------------------------------------------------------------------------\r\n",
        "SUM:                          1325          43402          84451         303219\r\n",
        "-------------------------------------------------------------------------------\r\n"
       ]
      }
     ],
     "prompt_number": 7
    },
    {
     "cell_type": "heading",
     "level": 2,
     "metadata": {},
     "source": [
      "Who contributed?"
     ]
    },
    {
     "cell_type": "markdown",
     "metadata": {},
     "source": [
      "I'll save the commit authors and timestamps as a CSV file, that can be imported and analysed using the excellent [pandas](http://pandas.pydata.org/) library:"
     ]
    },
    {
     "cell_type": "code",
     "collapsed": false,
     "input": [
      "!git log --format=format:\"%ai,%an,%H\" > ../commits"
     ],
     "language": "python",
     "metadata": {},
     "outputs": [],
     "prompt_number": 8
    },
    {
     "cell_type": "code",
     "collapsed": false,
     "input": [
      "cd .."
     ],
     "language": "python",
     "metadata": {},
     "outputs": [
      {
       "output_type": "stream",
       "stream": "stdout",
       "text": [
        "/Users/dirk/projekte/repo-libressl\n"
       ]
      }
     ],
     "prompt_number": 9
    },
    {
     "cell_type": "code",
     "collapsed": false,
     "input": [
      "import pandas as pd"
     ],
     "language": "python",
     "metadata": {},
     "outputs": [],
     "prompt_number": 10
    },
    {
     "cell_type": "code",
     "collapsed": false,
     "input": [
      "df=pd.read_csv(\"commits\", header=None, names=[\"time\", \"author\", \"id\"], index_col=\"time\", parse_dates=True)\n",
      "df.sort(ascending=True, inplace=True)\n",
      "df.head()"
     ],
     "language": "python",
     "metadata": {},
     "outputs": [
      {
       "html": [
        "<div style=\"max-height:1000px;max-width:1500px;overflow:auto;\">\n",
        "<table border=\"1\" class=\"dataframe\">\n",
        "  <thead>\n",
        "    <tr style=\"text-align: right;\">\n",
        "      <th></th>\n",
        "      <th>author</th>\n",
        "      <th>id</th>\n",
        "    </tr>\n",
        "    <tr>\n",
        "      <th>time</th>\n",
        "      <th></th>\n",
        "      <th></th>\n",
        "    </tr>\n",
        "  </thead>\n",
        "  <tbody>\n",
        "    <tr>\n",
        "      <th>1995-10-18 08:42:23</th>\n",
        "      <td> deraadt</td>\n",
        "      <td> dcac718930cb87c958bb05ea34b0ef6284f5e10b</td>\n",
        "    </tr>\n",
        "    <tr>\n",
        "      <th>1995-10-18 08:49:34</th>\n",
        "      <td> deraadt</td>\n",
        "      <td> bf056200690ad2990feba19909f02f57687666fb</td>\n",
        "    </tr>\n",
        "    <tr>\n",
        "      <th>1995-11-01 16:43:27</th>\n",
        "      <td> deraadt</td>\n",
        "      <td> cb274af2d57ba262232e24a6b348a75e4ddf39c3</td>\n",
        "    </tr>\n",
        "    <tr>\n",
        "      <th>1995-12-14 02:16:48</th>\n",
        "      <td> deraadt</td>\n",
        "      <td> 8eb715a636f0c8677814890f93cd9fbd1dc2d0cb</td>\n",
        "    </tr>\n",
        "    <tr>\n",
        "      <th>1995-12-15 01:46:48</th>\n",
        "      <td> deraadt</td>\n",
        "      <td> 0e76731307f064af3c9f5201066a17f720f5935d</td>\n",
        "    </tr>\n",
        "  </tbody>\n",
        "</table>\n",
        "</div>"
       ],
       "metadata": {},
       "output_type": "pyout",
       "prompt_number": 11,
       "text": [
        "                      author                                        id\n",
        "time                                                                  \n",
        "1995-10-18 08:42:23  deraadt  dcac718930cb87c958bb05ea34b0ef6284f5e10b\n",
        "1995-10-18 08:49:34  deraadt  bf056200690ad2990feba19909f02f57687666fb\n",
        "1995-11-01 16:43:27  deraadt  cb274af2d57ba262232e24a6b348a75e4ddf39c3\n",
        "1995-12-14 02:16:48  deraadt  8eb715a636f0c8677814890f93cd9fbd1dc2d0cb\n",
        "1995-12-15 01:46:48  deraadt  0e76731307f064af3c9f5201066a17f720f5935d"
       ]
      }
     ],
     "prompt_number": 11
    },
    {
     "cell_type": "markdown",
     "metadata": {},
     "source": [
      "We are only interested in the commits since the OpenSSL valhalla rampage started. That was in April 2014:"
     ]
    },
    {
     "cell_type": "code",
     "collapsed": false,
     "input": [
      "df = df[\"2014-04-01\":]"
     ],
     "language": "python",
     "metadata": {},
     "outputs": [],
     "prompt_number": 12
    },
    {
     "cell_type": "markdown",
     "metadata": {},
     "source": [
      "Pandas provides a convenience function that shows how often each value occurs in a given column:"
     ]
    },
    {
     "cell_type": "code",
     "collapsed": false,
     "input": [
      "commits_per_author=df.author.value_counts()\n",
      "commits_per_author"
     ],
     "language": "python",
     "metadata": {},
     "outputs": [
      {
       "metadata": {},
       "output_type": "pyout",
       "prompt_number": 13,
       "text": [
        "jsing       384\n",
        "miod        265\n",
        "tedu        201\n",
        "deraadt     141\n",
        "beck         80\n",
        "guenther     33\n",
        "bcook        21\n",
        "matthew      18\n",
        "jsg          17\n",
        "reyk         16\n",
        "logan        14\n",
        "sthen        11\n",
        "jim           8\n",
        "otto          8\n",
        "mpi           6\n",
        "lteo          6\n",
        "jmc           5\n",
        "afresh1       4\n",
        "giovanni      4\n",
        "mcbride       4\n",
        "tobiasu       2\n",
        "schwarze      2\n",
        "chl           2\n",
        "jca           2\n",
        "djm           2\n",
        "kettenis      2\n",
        "espie         1\n",
        "millert       1\n",
        "avsm          1\n",
        "naddy         1\n",
        "halex         1\n",
        "dtype: int64"
       ]
      }
     ],
     "prompt_number": 13
    },
    {
     "cell_type": "markdown",
     "metadata": {},
     "source": [
      "Let's visualize the commit counts with [Matplotlib](http://matplotlib.org/). But first import [seaborn](http://www.stanford.edu/~mwaskom/software/seaborn/), which gives us much prettier graphics:"
     ]
    },
    {
     "cell_type": "code",
     "collapsed": false,
     "input": [
      "import seaborn as sns"
     ],
     "language": "python",
     "metadata": {},
     "outputs": [],
     "prompt_number": 14
    },
    {
     "cell_type": "code",
     "collapsed": false,
     "input": [
      "%matplotlib inline"
     ],
     "language": "python",
     "metadata": {},
     "outputs": [],
     "prompt_number": 15
    },
    {
     "cell_type": "code",
     "collapsed": false,
     "input": [
      "commits_per_author.plot(kind=\"bar\", figsize=(10,6))"
     ],
     "language": "python",
     "metadata": {},
     "outputs": [
      {
       "metadata": {},
       "output_type": "pyout",
       "prompt_number": 16,
       "text": [
        "<matplotlib.axes.AxesSubplot at 0x10962ec10>"
       ]
      },
      {
       "metadata": {},
       "output_type": "display_data",
       "png": "[encoded data removed]",
       "text": [
        "<matplotlib.figure.Figure at 0x10962e590>"
       ]
      }
     ],
     "prompt_number": 16
    },
    {
     "cell_type": "heading",
     "level": 2,
     "metadata": {},
     "source": [
      "Has development speed increased or slowed down over time?"
     ]
    },
    {
     "cell_type": "markdown",
     "metadata": {},
     "source": [
      "Introduce counter:"
     ]
    },
    {
     "cell_type": "code",
     "collapsed": false,
     "input": [
      "df[\"c\"]=1   # counter\n",
      "commits_over_time=df.c.cumsum().plot()\n",
      "commits_over_time"
     ],
     "language": "python",
     "metadata": {},
     "outputs": [
      {
       "metadata": {},
       "output_type": "pyout",
       "prompt_number": 17,
       "text": [
        "<matplotlib.axes.AxesSubplot at 0x10979ff10>"
       ]
      },
      {
       "metadata": {},
       "output_type": "display_data",
       "png": "[encoded data removed]",
       "text": [
        "<matplotlib.figure.Figure at 0x1097424d0>"
       ]
      }
     ],
     "prompt_number": 17
    },
    {
     "cell_type": "heading",
     "level": 2,
     "metadata": {},
     "source": [
      "Has the number of authors increased or decreased over time?"
     ]
    },
    {
     "cell_type": "code",
     "collapsed": false,
     "input": [
      "authors = commits_per_author.index\n",
      "timelines=pd.DataFrame(index=df.index)\n",
      "for author in authors:\n",
      "    timelines[author]=df.c.where(df.author==author)"
     ],
     "language": "python",
     "metadata": {},
     "outputs": [],
     "prompt_number": 18
    },
    {
     "cell_type": "code",
     "collapsed": false,
     "input": [
      "default_palette = sns.color_palette()"
     ],
     "language": "python",
     "metadata": {},
     "outputs": [],
     "prompt_number": 19
    },
    {
     "cell_type": "code",
     "collapsed": false,
     "input": [
      "top = 10\n",
      "sns.set_palette(\"Set1\", top)\n",
      "top_authors=authors[:top]\n",
      "timelines[top_authors].cumsum().plot(style=\"o\",figsize=(20,10), title=\"Commit activity of the Top%s authors to LibreSSL\" % top)"
     ],
     "language": "python",
     "metadata": {},
     "outputs": [
      {
       "metadata": {},
       "output_type": "pyout",
       "prompt_number": 20,
       "text": [
        "<matplotlib.axes.AxesSubplot at 0x1098972d0>"
       ]
      },
      {
       "metadata": {},
       "output_type": "display_data",
       "png": "[encoded data removed]",
       "text": [
        "<matplotlib.figure.Figure at 0x109bc27d0>"
       ]
      }
     ],
     "prompt_number": 20
    },
    {
     "cell_type": "code",
     "collapsed": false,
     "input": [
      "sns.set_palette(default_palette)"
     ],
     "language": "python",
     "metadata": {},
     "outputs": [],
     "prompt_number": 21
    },
    {
     "cell_type": "markdown",
     "metadata": {},
     "source": [
      "Let's see how many authors where active together, e.g. during a 3 month period:"
     ]
    },
    {
     "cell_type": "code",
     "collapsed": false,
     "input": [
      "per_months=timelines.resample(\"1D\", how=\"sum\")\n",
      "per_months[\"nauthors\"]=per_months.applymap(lambda x: min(x, 1)).sum(axis=1)\n",
      "per_months[\"nauthors\"].plot(kind=\"bar\", figsize=(20,5))"
     ],
     "language": "python",
     "metadata": {},
     "outputs": [
      {
       "metadata": {},
       "output_type": "pyout",
       "prompt_number": 22,
       "text": [
        "<matplotlib.axes.AxesSubplot at 0x10a248350>"
       ]
      },
      {
       "metadata": {},
       "output_type": "display_data",
       "png": "[encoded data removed]",
       "text": [
        "<matplotlib.figure.Figure at 0x10a251810>"
       ]
      }
     ],
     "prompt_number": 22
    },
    {
     "cell_type": "markdown",
     "metadata": {},
     "source": [
      "Seems like the valhalla rampage started on 2014-04-13."
     ]
    },
    {
     "cell_type": "heading",
     "level": 2,
     "metadata": {},
     "source": [
      "How much has the code base increased over time?"
     ]
    },
    {
     "cell_type": "code",
     "collapsed": false,
     "input": [
      "cd openbsd/"
     ],
     "language": "python",
     "metadata": {},
     "outputs": [
      {
       "output_type": "stream",
       "stream": "stdout",
       "text": [
        "/Users/dirk/projekte/repo-libressl/openbsd\n"
       ]
      }
     ],
     "prompt_number": 23
    },
    {
     "cell_type": "markdown",
     "metadata": {},
     "source": [
      "For now we just cound the number of files:"
     ]
    },
    {
     "cell_type": "code",
     "collapsed": false,
     "input": [
      "%%time \n",
      "filecounts = []\n",
      "for commit in df[\"id\"]:\n",
      "    cfiles =! git ls-tree -r --name-only $commit\n",
      "    filecounts.append(len(cfiles))"
     ],
     "language": "python",
     "metadata": {},
     "outputs": [
      {
       "output_type": "stream",
       "stream": "stdout",
       "text": [
        "CPU times: user 2.01 s, sys: 4.16 s, total: 6.17 s\n",
        "Wall time: 23.6 s\n"
       ]
      }
     ],
     "prompt_number": 24
    },
    {
     "cell_type": "code",
     "collapsed": false,
     "input": [
      "filestats=pd.DataFrame({\"filecount\": filecounts}, index=df.index)\n",
      "filestats.plot(figsize=(10,6))"
     ],
     "language": "python",
     "metadata": {},
     "outputs": [
      {
       "metadata": {},
       "output_type": "pyout",
       "prompt_number": 25,
       "text": [
        "<matplotlib.axes.AxesSubplot at 0x10b1e4510>"
       ]
      },
      {
       "metadata": {},
       "output_type": "display_data",
       "png": "[encoded data removed]",
       "text": [
        "<matplotlib.figure.Figure at 0x109d5eed0>"
       ]
      }
     ],
     "prompt_number": 25
    },
    {
     "cell_type": "heading",
     "level": 2,
     "metadata": {},
     "source": [
      "Which files have been changed most often?"
     ]
    },
    {
     "cell_type": "markdown",
     "metadata": {},
     "source": [
      "The idea for the following git command comes from Gary Bernhardt's [gitchurn](https://github.com/garybernhardt/dotfiles/blob/master/bin/git-churn). We can simplify it though, because we have Python and pandas:"
     ]
    },
    {
     "cell_type": "code",
     "collapsed": false,
     "input": [
      "file_changes =! git log --all -M -C --name-only --since \"2014-04-01\" --format='format:' | grep -v '^$'\n",
      "dfc = pd.Series(list(file_changes))\n",
      "dfc.value_counts()"
     ],
     "language": "python",
     "metadata": {},
     "outputs": [
      {
       "metadata": {},
       "output_type": "pyout",
       "prompt_number": 26,
       "text": [
        "src/lib/libssl/src/ssl/s3_clnt.c          52\n",
        "src/lib/libssl/src/ssl/ssl_lib.c          51\n",
        "src/lib/libssl/src/ssl/t1_enc.c           50\n",
        "src/lib/libssl/src/ssl/s3_lib.c           50\n",
        "src/lib/libssl/src/apps/apps.c            46\n",
        "src/lib/libssl/src/ssl/s3_srvr.c          46\n",
        "src/lib/libssl/src/apps/s_server.c        44\n",
        "src/lib/libcrypto/crypto/Makefile         44\n",
        "src/lib/libssl/src/ssl/ssl_ciph.c         43\n",
        "src/lib/libssl/src/ssl/ssl.h              43\n",
        "src/lib/libssl/src/apps/s_client.c        43\n",
        "src/lib/libssl/src/ssl/ssl_locl.h         40\n",
        "src/lib/libssl/src/crypto/bio/b_sock.c    40\n",
        "src/lib/libssl/src/ssl/t1_lib.c           38\n",
        "src/lib/libssl/src/apps/ca.c              38\n",
        "...\n",
        "src/lib/libssl/src/crypto/des/des_enc.c       1\n",
        "src/lib/libssl/src/demos/x509/mkcert.c        1\n",
        "src/lib/libssl/src/times/sparc2               1\n",
        "src/lib/libssl/src/crypto/threads/README      1\n",
        "src/lib/libssl/src/crypto/ripemd/rmd_one.c    1\n",
        "src/lib/libssl/src/demos/tunala/ip.c          1\n",
        "src/lib/libssl/src/crypto/bn/asm/mips3.s      1\n",
        "src/lib/libssl/src/times/486-66.dos           1\n",
        "src/lib/libssl/src/ms/bcb4.bat                1\n",
        "src/lib/libssl/src/demos/prime/Makefile       1\n",
        "src/lib/libssl/src/bugs/MS                    1\n",
        "src/lib/libssl/src/apps/tsget                 1\n",
        "src/lib/libssl/src/crypto/des/rpw.c           1\n",
        "src/lib/libssl/src/crypto/des/DES.xs          1\n",
        "src/lib/libc/string/bzero.c                   1\n",
        "Length: 2216, dtype: int64"
       ]
      }
     ],
     "prompt_number": 26
    },
    {
     "cell_type": "code",
     "collapsed": false,
     "input": [
      "c_changes=dfc.where(dfc.str.endswith(\".c\")).value_counts()\n",
      "c_changes"
     ],
     "language": "python",
     "metadata": {},
     "outputs": [
      {
       "metadata": {},
       "output_type": "pyout",
       "prompt_number": 27,
       "text": [
        "src/lib/libssl/src/ssl/s3_clnt.c          52\n",
        "src/lib/libssl/src/ssl/ssl_lib.c          51\n",
        "src/lib/libssl/src/ssl/s3_lib.c           50\n",
        "src/lib/libssl/src/ssl/t1_enc.c           50\n",
        "src/lib/libssl/src/ssl/s3_srvr.c          46\n",
        "src/lib/libssl/src/apps/apps.c            46\n",
        "src/lib/libssl/src/apps/s_server.c        44\n",
        "src/lib/libssl/src/apps/s_client.c        43\n",
        "src/lib/libssl/src/ssl/ssl_ciph.c         43\n",
        "src/lib/libssl/src/crypto/bio/b_sock.c    40\n",
        "src/lib/libssl/src/ssl/t1_lib.c           38\n",
        "src/lib/libssl/src/apps/ca.c              38\n",
        "src/lib/libssl/src/ssl/s3_enc.c           35\n",
        "src/lib/libssl/src/ssl/s3_pkt.c           30\n",
        "src/lib/libssl/src/apps/req.c             30\n",
        "...\n",
        "src/lib/libssl/src/demos/smime/smenc.c                   1\n",
        "src/lib/libssl/src/demos/asn1/ocsp.c                     1\n",
        "src/lib/libssl/src/crypto/bn/exp.c                       1\n",
        "src/lib/libc/string/strnlen.c                            1\n",
        "src/lib/libssl/src/apps/winrand.c                        1\n",
        "src/lib/libssl/src/demos/cms/cms_ver.c                   1\n",
        "src/lib/libssl/src/crypto/dh/p192.c                      1\n",
        "src/lib/libssl/src/demos/engines/ibmca/hw_ibmca_err.c    1\n",
        "src/lib/libssl/src/crypto/ecdsa/ecs_asn1.c               1\n",
        "src/regress/lib/libcrypto/hmac/hmactest.c                1\n",
        "src/lib/libssl/src/crypto/idea/i_ofb64.c                 1\n",
        "src/lib/libssl/src/engines/ccgost/gost_ctl.c             1\n",
        "src/lib/libssl/src/demos/sign/sign.c                     1\n",
        "src/lib/libssl/src/engines/e_atalla.c                    1\n",
        "src/lib/libssl/src/demos/tunala/sm.c                     1\n",
        "Length: 982, dtype: int64"
       ]
      }
     ],
     "prompt_number": 27
    },
    {
     "cell_type": "code",
     "collapsed": false,
     "input": [
      "c_changes.plot()"
     ],
     "language": "python",
     "metadata": {},
     "outputs": [
      {
       "metadata": {},
       "output_type": "pyout",
       "prompt_number": 28,
       "text": [
        "<matplotlib.axes.AxesSubplot at 0x1072e5850>"
       ]
      },
      {
       "metadata": {},
       "output_type": "display_data",
       "png": "[encoded data removed]",
       "text": [
        "<matplotlib.figure.Figure at 0x109e38fd0>"
       ]
      }
     ],
     "prompt_number": 28
    },
    {
     "cell_type": "markdown",
     "metadata": {},
     "source": [
      "As expected, a few files are changed very often and most files are changed infrequently."
     ]
    },
    {
     "cell_type": "markdown",
     "metadata": {},
     "source": [
      "What about header files?"
     ]
    },
    {
     "cell_type": "code",
     "collapsed": false,
     "input": [
      "h_changes=dfc.where(dfc.str.endswith(\".h\")).value_counts()\n",
      "h_changes"
     ],
     "language": "python",
     "metadata": {},
     "outputs": [
      {
       "metadata": {},
       "output_type": "pyout",
       "prompt_number": 29,
       "text": [
        "src/lib/libssl/src/ssl/ssl.h                 43\n",
        "src/lib/libssl/src/ssl/ssl_locl.h            40\n",
        "src/lib/libssl/src/apps/apps.h               21\n",
        "src/lib/libssl/src/crypto/crypto.h           19\n",
        "src/lib/libssl/src/crypto/engine/engine.h    17\n",
        "src/lib/libssl/src/crypto/evp/evp.h          16\n",
        "src/lib/libssl/src/ssl/ssl3.h                15\n",
        "src/lib/libssl/src/crypto/asn1/asn1.h        14\n",
        "src/lib/libssl/src/crypto/cryptlib.h         14\n",
        "src/lib/libssl/src/crypto/bio/bio.h          11\n",
        "src/lib/libssl/src/ssl/dtls1.h               11\n",
        "src/lib/libssl/src/ssl/tls1.h                11\n",
        "src/lib/libssl/src/crypto/bn/bn_lcl.h        10\n",
        "src/lib/libssl/src/e_os.h                    10\n",
        "src/lib/libssl/src/crypto/bn/bn.h            10\n",
        "...\n",
        "src/lib/libssl/src/engines/vendor_defns/aep.h                   1\n",
        "src/lib/libssl/src/engines/e_aep_err.h                          1\n",
        "src/lib/libssl/src/engines/e_sureware_err.h                     1\n",
        "src/lib/libssl/src/demos/engines/zencod/hw_zencod.h             1\n",
        "src/lib/libssl/src/demos/engines/zencod/hw_zencod_err.h         1\n",
        "src/lib/libssl/src/crypto/ebcdic.h                              1\n",
        "src/lib/libssl/src/demos/engines/cluster_labs/cluster_labs.h    1\n",
        "src/lib/libssl/src/crypto/dsa/dsa_locl.h                        1\n",
        "src/lib/libssl/src/engines/vendor_defns/atalla.h                1\n",
        "src/lib/libssl/src/MacOS/_MWERKS_GUSI_prefix.h                  1\n",
        "src/lib/libssl/src/crypto/modes/modes.h                         1\n",
        "src/lib/libssl/src/crypto/rand/rand_lcl.h                       1\n",
        "src/lib/libssl/src/engines/vendor_defns/cswift.h                1\n",
        "src/lib/libssl/src/engines/vendor_defns/hw_ubsec.h              1\n",
        "src/lib/libssl/src/engines/ccgost/gost2001_keyx.h               1\n",
        "Length: 203, dtype: int64"
       ]
      }
     ],
     "prompt_number": 29
    },
    {
     "cell_type": "markdown",
     "metadata": {},
     "source": [
      "To be continued... ;-)"
     ]
    },
    {
     "cell_type": "code",
     "collapsed": false,
     "input": [],
     "language": "python",
     "metadata": {},
     "outputs": [],
     "prompt_number": 29
    }
   ],
   "metadata": {}
  }
 ]
}