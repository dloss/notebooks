{
 "metadata": {
  "name": "bundesliga"
 },
 "nbformat": 3,
 "nbformat_minor": 0,
 "worksheets": [
  {
   "cells": [
    {
     "cell_type": "heading",
     "level": 1,
     "metadata": {},
     "source": [
      "Vorbereitungen"
     ]
    },
    {
     "cell_type": "code",
     "collapsed": false,
     "input": [
      "%pylab inline"
     ],
     "language": "python",
     "metadata": {},
     "outputs": [
      {
       "output_type": "stream",
       "stream": "stdout",
       "text": [
        "\n",
        "Welcome to pylab, a matplotlib-based Python environment [backend: module://IPython.zmq.pylab.backend_inline].\n",
        "For more information, type 'help(pylab)'.\n"
       ]
      }
     ],
     "prompt_number": 1
    },
    {
     "cell_type": "code",
     "collapsed": false,
     "input": [
      "import pandas as pd"
     ],
     "language": "python",
     "metadata": {},
     "outputs": [],
     "prompt_number": 2
    },
    {
     "cell_type": "code",
     "collapsed": false,
     "input": [
      "pd.version.version"
     ],
     "language": "python",
     "metadata": {},
     "outputs": [
      {
       "output_type": "pyout",
       "prompt_number": 3,
       "text": [
        "'0.11.0'"
       ]
      }
     ],
     "prompt_number": 3
    },
    {
     "cell_type": "code",
     "collapsed": false,
     "input": [
      "np.version.version"
     ],
     "language": "python",
     "metadata": {},
     "outputs": [
      {
       "output_type": "pyout",
       "prompt_number": 4,
       "text": [
        "'1.7.1'"
       ]
      }
     ],
     "prompt_number": 4
    },
    {
     "cell_type": "code",
     "collapsed": false,
     "input": [
      "pd.set_option(\"max_rows\", 100)\n",
      "pd.set_option(\"max_columns\", 25)\n",
      "np.set_printoptions(linewidth=200)\n",
      "figsize(12,9)"
     ],
     "language": "python",
     "metadata": {},
     "outputs": [],
     "prompt_number": 5
    },
    {
     "cell_type": "heading",
     "level": 1,
     "metadata": {},
     "source": [
      "Datenbeschaffung"
     ]
    },
    {
     "cell_type": "code",
     "collapsed": false,
     "input": [
      "from IPython.display import HTML\n",
      "HTML('<iframe src=\"http://botliga.de/datenquellen\" width=1200 height=400></iframe>')"
     ],
     "language": "python",
     "metadata": {},
     "outputs": [
      {
       "html": [
        "<iframe src=\"http://botliga.de/datenquellen\" width=1200 height=400></iframe>"
       ],
       "output_type": "pyout",
       "prompt_number": 6,
       "text": [
        "<IPython.core.display.HTML at 0x45fe990>"
       ]
      }
     ],
     "prompt_number": 6
    },
    {
     "cell_type": "code",
     "collapsed": false,
     "input": [
      "#!curl -O http://dl.dropbox.com/u/90393/botliga/ergebnisse-1963-2010.zip\n",
      "#!unzip -qq ergebnisse-*.zip\n",
      "#cd tippkick/\n",
      "#!psql -q < tippkick.sql"
     ],
     "language": "python",
     "metadata": {},
     "outputs": [],
     "prompt_number": 7
    },
    {
     "cell_type": "heading",
     "level": 1,
     "metadata": {},
     "source": [
      "Zugriff auf die Datenbank"
     ]
    },
    {
     "cell_type": "code",
     "collapsed": false,
     "input": [
      "import psycopg2\n",
      "conn = psycopg2.connect(\"dbname=tippkick\")"
     ],
     "language": "python",
     "metadata": {},
     "outputs": [],
     "prompt_number": 8
    },
    {
     "cell_type": "code",
     "collapsed": false,
     "input": [
      "import pandas.io.sql as psql"
     ],
     "language": "python",
     "metadata": {},
     "outputs": [],
     "prompt_number": 9
    },
    {
     "cell_type": "code",
     "collapsed": false,
     "input": [
      "vereine = psql.frame_query('select * from vereine', con=conn)\n",
      "vereine.head()"
     ],
     "language": "python",
     "metadata": {},
     "outputs": [
      {
       "html": [
        "<div style=\"max-height:1000px;max-width:1500px;overflow:auto;\">\n",
        "<table border=\"1\" class=\"dataframe\">\n",
        "  <thead>\n",
        "    <tr style=\"text-align: right;\">\n",
        "      <th></th>\n",
        "      <th>id</th>\n",
        "      <th>name</th>\n",
        "    </tr>\n",
        "  </thead>\n",
        "  <tbody>\n",
        "    <tr>\n",
        "      <th>0</th>\n",
        "      <td> 1</td>\n",
        "      <td>     Werder Bremen</td>\n",
        "    </tr>\n",
        "    <tr>\n",
        "      <th>1</th>\n",
        "      <td> 2</td>\n",
        "      <td> Borussia Dortmund</td>\n",
        "    </tr>\n",
        "    <tr>\n",
        "      <th>2</th>\n",
        "      <td> 3</td>\n",
        "      <td> 1. FC Saarbr\u00fccken</td>\n",
        "    </tr>\n",
        "    <tr>\n",
        "      <th>3</th>\n",
        "      <td> 4</td>\n",
        "      <td>        1. FC K\u00f6ln</td>\n",
        "    </tr>\n",
        "    <tr>\n",
        "      <th>4</th>\n",
        "      <td> 5</td>\n",
        "      <td>  TSV 1860 M\u00fcnchen</td>\n",
        "    </tr>\n",
        "  </tbody>\n",
        "</table>\n",
        "</div>"
       ],
       "output_type": "pyout",
       "prompt_number": 10,
       "text": [
        "   id               name\n",
        "0   1      Werder Bremen\n",
        "1   2  Borussia Dortmund\n",
        "2   3  1. FC Saarbr\u00fccken\n",
        "3   4         1. FC K\u00f6ln\n",
        "4   5   TSV 1860 M\u00fcnchen"
       ]
      }
     ],
     "prompt_number": 10
    },
    {
     "cell_type": "code",
     "collapsed": false,
     "input": [
      "spiele = psql.frame_query('select * from spiele', con=conn)\n",
      "spiele.head()"
     ],
     "language": "python",
     "metadata": {},
     "outputs": [
      {
       "html": [
        "<div style=\"max-height:1000px;max-width:1500px;overflow:auto;\">\n",
        "<table border=\"1\" class=\"dataframe\">\n",
        "  <thead>\n",
        "    <tr style=\"text-align: right;\">\n",
        "      <th></th>\n",
        "      <th>heim</th>\n",
        "      <th>gast</th>\n",
        "      <th>saison</th>\n",
        "      <th>tore_heim</th>\n",
        "      <th>tore_gast</th>\n",
        "      <th>spieltag</th>\n",
        "      <th>zeit</th>\n",
        "    </tr>\n",
        "  </thead>\n",
        "  <tbody>\n",
        "    <tr>\n",
        "      <th>0</th>\n",
        "      <td> 1</td>\n",
        "      <td>  2</td>\n",
        "      <td> 1963</td>\n",
        "      <td> 3</td>\n",
        "      <td> 2</td>\n",
        "      <td> 1</td>\n",
        "      <td>1963-08-24 17:00:00</td>\n",
        "    </tr>\n",
        "    <tr>\n",
        "      <th>1</th>\n",
        "      <td> 3</td>\n",
        "      <td>  4</td>\n",
        "      <td> 1963</td>\n",
        "      <td> 0</td>\n",
        "      <td> 2</td>\n",
        "      <td> 1</td>\n",
        "      <td>1963-08-24 17:00:00</td>\n",
        "    </tr>\n",
        "    <tr>\n",
        "      <th>2</th>\n",
        "      <td> 5</td>\n",
        "      <td>  6</td>\n",
        "      <td> 1963</td>\n",
        "      <td> 1</td>\n",
        "      <td> 1</td>\n",
        "      <td> 1</td>\n",
        "      <td>1963-08-24 17:00:00</td>\n",
        "    </tr>\n",
        "    <tr>\n",
        "      <th>3</th>\n",
        "      <td> 7</td>\n",
        "      <td>  8</td>\n",
        "      <td> 1963</td>\n",
        "      <td> 1</td>\n",
        "      <td> 1</td>\n",
        "      <td> 1</td>\n",
        "      <td>1963-08-24 17:00:00</td>\n",
        "    </tr>\n",
        "    <tr>\n",
        "      <th>4</th>\n",
        "      <td> 9</td>\n",
        "      <td> 10</td>\n",
        "      <td> 1963</td>\n",
        "      <td> 2</td>\n",
        "      <td> 0</td>\n",
        "      <td> 1</td>\n",
        "      <td>1963-08-24 17:00:00</td>\n",
        "    </tr>\n",
        "  </tbody>\n",
        "</table>\n",
        "</div>"
       ],
       "output_type": "pyout",
       "prompt_number": 11,
       "text": [
        "   heim  gast  saison  tore_heim  tore_gast  spieltag                zeit\n",
        "0     1     2    1963          3          2         1 1963-08-24 17:00:00\n",
        "1     3     4    1963          0          2         1 1963-08-24 17:00:00\n",
        "2     5     6    1963          1          1         1 1963-08-24 17:00:00\n",
        "3     7     8    1963          1          1         1 1963-08-24 17:00:00\n",
        "4     9    10    1963          2          0         1 1963-08-24 17:00:00"
       ]
      }
     ],
     "prompt_number": 11
    },
    {
     "cell_type": "heading",
     "level": 3,
     "metadata": {},
     "source": [
      "Joins der Tabellen"
     ]
    },
    {
     "cell_type": "code",
     "collapsed": false,
     "input": [
      "temp = pd.merge(spiele, vereine, left_on=\"heim\", right_on=\"id\")\n",
      "temp.head()"
     ],
     "language": "python",
     "metadata": {},
     "outputs": [
      {
       "html": [
        "<pre>\n",
        "&ltclass 'pandas.core.frame.DataFrame'&gt\n",
        "Int64Index: 5 entries, 0 to 4\n",
        "Data columns (total 9 columns):\n",
        "heim         5  non-null values\n",
        "gast         5  non-null values\n",
        "saison       5  non-null values\n",
        "tore_heim    5  non-null values\n",
        "tore_gast    5  non-null values\n",
        "spieltag     5  non-null values\n",
        "zeit         5  non-null values\n",
        "id           5  non-null values\n",
        "name         5  non-null values\n",
        "dtypes: datetime64[ns](1), int64(7), object(1)\n",
        "</pre>"
       ],
       "output_type": "pyout",
       "prompt_number": 12,
       "text": [
        "   heim  gast  saison  tore_heim  tore_gast  spieltag                zeit  id  \\\n",
        "0     1     2    1963          3          2         1 1963-08-24 17:00:00   1   \n",
        "1     1    10    1963          2          2         3 1963-09-07 16:30:00   1   \n",
        "2     1    14    1963          1          1         5 1963-09-21 16:30:00   1   \n",
        "3     1    12    1963          4          2         7 1963-10-12 17:00:00   1   \n",
        "4     1    15    1963          2          2        10 1963-11-09 17:00:00   1   \n",
        "\n",
        "            name  \n",
        "0  Werder Bremen  \n",
        "1  Werder Bremen  \n",
        "2  Werder Bremen  \n",
        "3  Werder Bremen  \n",
        "4  Werder Bremen  "
       ]
      }
     ],
     "prompt_number": 12
    },
    {
     "cell_type": "code",
     "collapsed": false,
     "input": [
      "temp2 = pd.merge(temp, vereine, left_on=\"gast\", right_on=\"id\")\n",
      "temp2.head()"
     ],
     "language": "python",
     "metadata": {},
     "outputs": [
      {
       "html": [
        "<pre>\n",
        "&ltclass 'pandas.core.frame.DataFrame'&gt\n",
        "Int64Index: 5 entries, 0 to 4\n",
        "Data columns (total 11 columns):\n",
        "heim         5  non-null values\n",
        "gast         5  non-null values\n",
        "saison       5  non-null values\n",
        "tore_heim    5  non-null values\n",
        "tore_gast    5  non-null values\n",
        "spieltag     5  non-null values\n",
        "zeit         5  non-null values\n",
        "id_x         5  non-null values\n",
        "name_x       5  non-null values\n",
        "id_y         5  non-null values\n",
        "name_y       5  non-null values\n",
        "dtypes: datetime64[ns](1), int64(8), object(2)\n",
        "</pre>"
       ],
       "output_type": "pyout",
       "prompt_number": 13,
       "text": [
        "   heim  gast  saison  tore_heim  tore_gast  spieltag                zeit  \\\n",
        "0     1     2    1963          3          2         1 1963-08-24 17:00:00   \n",
        "1     1     2    1964          3          0        29 1965-05-08 16:00:00   \n",
        "2     1     2    1965          1          0        32 1966-05-14 16:00:00   \n",
        "3     1     2    1966          2          1        24 1967-03-04 16:00:00   \n",
        "4     1     2    1967          2          1        32 1968-05-11 15:30:00   \n",
        "\n",
        "   id_x         name_x  id_y             name_y  \n",
        "0     1  Werder Bremen     2  Borussia Dortmund  \n",
        "1     1  Werder Bremen     2  Borussia Dortmund  \n",
        "2     1  Werder Bremen     2  Borussia Dortmund  \n",
        "3     1  Werder Bremen     2  Borussia Dortmund  \n",
        "4     1  Werder Bremen     2  Borussia Dortmund  "
       ]
      }
     ],
     "prompt_number": 13
    },
    {
     "cell_type": "heading",
     "level": 3,
     "metadata": {},
     "source": [
      "Spaltennamen neu setzen"
     ]
    },
    {
     "cell_type": "code",
     "collapsed": false,
     "input": [
      "df = temp2[\"name_y name_x saison tore_heim tore_gast spieltag zeit\".split()]\n",
      "df.columns = \"heim gast saison tore_heim tore_gast spieltag zeit\".split()\n",
      "df"
     ],
     "language": "python",
     "metadata": {},
     "outputs": [
      {
       "html": [
        "<pre>\n",
        "&ltclass 'pandas.core.frame.DataFrame'&gt\n",
        "Int64Index: 14630 entries, 0 to 14629\n",
        "Data columns (total 7 columns):\n",
        "heim         14630  non-null values\n",
        "gast         14630  non-null values\n",
        "saison       14630  non-null values\n",
        "tore_heim    14630  non-null values\n",
        "tore_gast    14630  non-null values\n",
        "spieltag     14630  non-null values\n",
        "zeit         14630  non-null values\n",
        "dtypes: datetime64[ns](1), int64(4), object(2)\n",
        "</pre>"
       ],
       "output_type": "pyout",
       "prompt_number": 14,
       "text": [
        "<class 'pandas.core.frame.DataFrame'>\n",
        "Int64Index: 14630 entries, 0 to 14629\n",
        "Data columns (total 7 columns):\n",
        "heim         14630  non-null values\n",
        "gast         14630  non-null values\n",
        "saison       14630  non-null values\n",
        "tore_heim    14630  non-null values\n",
        "tore_gast    14630  non-null values\n",
        "spieltag     14630  non-null values\n",
        "zeit         14630  non-null values\n",
        "dtypes: datetime64[ns](1), int64(4), object(2)"
       ]
      }
     ],
     "prompt_number": 14
    },
    {
     "cell_type": "code",
     "collapsed": false,
     "input": [
      "df.set_index(\"zeit\")"
     ],
     "language": "python",
     "metadata": {},
     "outputs": [
      {
       "html": [
        "<pre>\n",
        "&ltclass 'pandas.core.frame.DataFrame'&gt\n",
        "DatetimeIndex: 14630 entries, 1963-08-24 17:00:00 to 2010-08-21 15:30:00\n",
        "Data columns (total 6 columns):\n",
        "heim         14630  non-null values\n",
        "gast         14630  non-null values\n",
        "saison       14630  non-null values\n",
        "tore_heim    14630  non-null values\n",
        "tore_gast    14630  non-null values\n",
        "spieltag     14630  non-null values\n",
        "dtypes: int64(4), object(2)\n",
        "</pre>"
       ],
       "output_type": "pyout",
       "prompt_number": 15,
       "text": [
        "<class 'pandas.core.frame.DataFrame'>\n",
        "DatetimeIndex: 14630 entries, 1963-08-24 17:00:00 to 2010-08-21 15:30:00\n",
        "Data columns (total 6 columns):\n",
        "heim         14630  non-null values\n",
        "gast         14630  non-null values\n",
        "saison       14630  non-null values\n",
        "tore_heim    14630  non-null values\n",
        "tore_gast    14630  non-null values\n",
        "spieltag     14630  non-null values\n",
        "dtypes: int64(4), object(2)"
       ]
      }
     ],
     "prompt_number": 15
    },
    {
     "cell_type": "heading",
     "level": 1,
     "metadata": {},
     "source": [
      "Tore"
     ]
    },
    {
     "cell_type": "code",
     "collapsed": false,
     "input": [
      "df[\"tore\"] = df[\"tore_heim\"] + df[\"tore_gast\"]"
     ],
     "language": "python",
     "metadata": {},
     "outputs": [],
     "prompt_number": 16
    },
    {
     "cell_type": "code",
     "collapsed": false,
     "input": [
      "saison_spieltag = df.set_index([\"saison\", \"spieltag\"])"
     ],
     "language": "python",
     "metadata": {},
     "outputs": [],
     "prompt_number": 17
    },
    {
     "cell_type": "code",
     "collapsed": false,
     "input": [
      "print saison_spieltag.head().to_string()"
     ],
     "language": "python",
     "metadata": {},
     "outputs": [
      {
       "output_type": "stream",
       "stream": "stdout",
       "text": [
        "                              heim           gast  tore_heim  tore_gast                zeit  tore\n",
        "saison spieltag                                                                                  \n",
        "1963   1         Borussia Dortmund  Werder Bremen          3          2 1963-08-24 17:00:00     5\n",
        "1964   29        Borussia Dortmund  Werder Bremen          3          0 1965-05-08 16:00:00     3\n",
        "1965   32        Borussia Dortmund  Werder Bremen          1          0 1966-05-14 16:00:00     1\n",
        "1966   24        Borussia Dortmund  Werder Bremen          2          1 1967-03-04 16:00:00     3\n",
        "1967   32        Borussia Dortmund  Werder Bremen          2          1 1968-05-11 15:30:00     3\n"
       ]
      }
     ],
     "prompt_number": 18
    },
    {
     "cell_type": "code",
     "collapsed": false,
     "input": [
      "grouped = saison_spieltag[\"tore\"].groupby(level=0)"
     ],
     "language": "python",
     "metadata": {},
     "outputs": [],
     "prompt_number": 19
    },
    {
     "cell_type": "code",
     "collapsed": false,
     "input": [
      "grouped.sum().plot(kind=\"bar\")"
     ],
     "language": "python",
     "metadata": {},
     "outputs": [
      {
       "output_type": "pyout",
       "prompt_number": 20,
       "text": [
        "<matplotlib.axes.AxesSubplot at 0x4b7e390>"
       ]
      },
      {
       "output_type": "display_data",
       "png": "[encoded data removed]"
      }
     ],
     "prompt_number": 20
    },
    {
     "cell_type": "code",
     "collapsed": false,
     "input": [
      "df[df[\"tore\"] > 10].sort(\"tore\", ascending=False)"
     ],
     "language": "python",
     "metadata": {},
     "outputs": [
      {
       "html": [
        "<pre>\n",
        "&ltclass 'pandas.core.frame.DataFrame'&gt\n",
        "Int64Index: 15 entries, 11542 to 2052\n",
        "Data columns (total 8 columns):\n",
        "heim         15  non-null values\n",
        "gast         15  non-null values\n",
        "saison       15  non-null values\n",
        "tore_heim    15  non-null values\n",
        "tore_gast    15  non-null values\n",
        "spieltag     15  non-null values\n",
        "zeit         15  non-null values\n",
        "tore         15  non-null values\n",
        "dtypes: datetime64[ns](1), int64(5), object(2)\n",
        "</pre>"
       ],
       "output_type": "pyout",
       "prompt_number": 21,
       "text": [
        "                       heim                  gast  saison  tore_heim  \\\n",
        "11542           TeBe Berlin            1. FC K\u00f6ln    1976          8   \n",
        "10665     Arminia Bielefeld     Borussia Dortmund    1982         11   \n",
        "5132   1. FC Kaiserslautern     Borussia Dortmund    1963          9   \n",
        "498       Borussia Dortmund        Bayern M\u00fcnchen    1971         11   \n",
        "461       Borussia Dortmund  Bor. M\u00f6nchengladbach    1977         12   \n",
        "13874         Werder Bremen   Eintracht Frankfurt    1981          9   \n",
        "12063      Bayer Leverkusen         FC Schalke 04    2005          7   \n",
        "9673         Bayern M\u00fcnchen            VfL Bochum    1976          5   \n",
        "9611         Bayern M\u00fcnchen    Fortuna D\u00fcsseldorf    1974          6   \n",
        "9418         Bayern M\u00fcnchen  1. FC Kaiserslautern    1973          7   \n",
        "8327   Bor. M\u00f6nchengladbach         Werder Bremen    1968          6   \n",
        "7167          FC Schalke 04  Bor. M\u00f6nchengladbach    1966         11   \n",
        "4753         1. FC N\u00fcrnberg  Bor. M\u00f6nchengladbach    1965          8   \n",
        "3146             Hertha BSC        Bayern M\u00fcnchen    1975          7   \n",
        "2052           Hamburger SV      TSV 1860 M\u00fcnchen    1963          9   \n",
        "\n",
        "       tore_gast  spieltag                zeit  tore  \n",
        "11542          4        23 1977-02-26 15:30:00    12  \n",
        "10665          1        12 1982-11-06 15:30:00    12  \n",
        "5132           3        11 1963-11-16 17:30:00    12  \n",
        "498            1        16 1971-11-27 15:30:00    12  \n",
        "461            0        34 1978-04-29 15:30:00    12  \n",
        "13874          2        14 1981-11-14 15:30:00    11  \n",
        "12063          4        21 2006-02-11 15:30:00    11  \n",
        "9673           6         6 1976-09-18 15:30:00    11  \n",
        "9611           5        33 1975-06-07 15:30:00    11  \n",
        "9418           4        12 1973-10-20 15:30:00    11  \n",
        "8327           5        34 1969-06-07 15:30:00    11  \n",
        "7167           0        18 1967-01-07 15:00:00    11  \n",
        "4753           3        25 1966-03-12 16:00:00    11  \n",
        "3146           4        34 1976-06-12 15:30:00    11  \n",
        "2052           2        23 1964-03-07 16:30:00    11  "
       ]
      }
     ],
     "prompt_number": 21
    },
    {
     "cell_type": "code",
     "collapsed": false,
     "input": [
      "from IPython.display import YouTubeVideo\n",
      "YouTubeVideo('VfvWX4bHSb0')"
     ],
     "language": "python",
     "metadata": {},
     "outputs": [
      {
       "html": [
        "\n",
        "            <iframe\n",
        "                width=\"400\"\n",
        "                height=\"300\"\n",
        "                src=\"http://www.youtube.com/embed/VfvWX4bHSb0\"\n",
        "                frameborder=\"0\"\n",
        "                allowfullscreen\n",
        "            ></iframe>\n",
        "        "
       ],
       "output_type": "pyout",
       "prompt_number": 22,
       "text": [
        "<IPython.lib.display.YouTubeVideo at 0x4684d50>"
       ]
      }
     ],
     "prompt_number": 22
    },
    {
     "cell_type": "heading",
     "level": 1,
     "metadata": {},
     "source": [
      "Uhrzeiten der Spiele"
     ]
    },
    {
     "cell_type": "code",
     "collapsed": false,
     "input": [
      "df.ix[2558]"
     ],
     "language": "python",
     "metadata": {},
     "outputs": [
      {
       "output_type": "pyout",
       "prompt_number": 23,
       "text": [
        "heim                Hamburger SV\n",
        "gast              Bayern M\u00fcnchen\n",
        "saison                      1989\n",
        "tore_heim                      4\n",
        "tore_gast                      0\n",
        "spieltag                       7\n",
        "zeit         1989-08-31 19:30:00\n",
        "tore                           4\n",
        "Name: 2558, dtype: object"
       ]
      }
     ],
     "prompt_number": 23
    },
    {
     "cell_type": "code",
     "collapsed": false,
     "input": [
      "df.ix[0][\"zeit\"].hour"
     ],
     "language": "python",
     "metadata": {},
     "outputs": [
      {
       "output_type": "pyout",
       "prompt_number": 24,
       "text": [
        "17"
       ]
      }
     ],
     "prompt_number": 24
    },
    {
     "cell_type": "code",
     "collapsed": false,
     "input": [
      "df[\"uhrzeit\"]=df[\"zeit\"].apply(lambda x: str(x).split()[1])"
     ],
     "language": "python",
     "metadata": {},
     "outputs": [],
     "prompt_number": 25
    },
    {
     "cell_type": "code",
     "collapsed": false,
     "input": [
      "startzeiten = df[\"uhrzeit\"].value_counts()"
     ],
     "language": "python",
     "metadata": {},
     "outputs": [],
     "prompt_number": 26
    },
    {
     "cell_type": "code",
     "collapsed": false,
     "input": [
      "startzeiten"
     ],
     "language": "python",
     "metadata": {},
     "outputs": [
      {
       "output_type": "pyout",
       "prompt_number": 27,
       "text": [
        "15:30:00    9670\n",
        "20:00:00    2349\n",
        "16:00:00     650\n",
        "17:30:00     487\n",
        "17:00:00     248\n",
        "15:00:00     231\n",
        "19:30:00     198\n",
        "18:00:00     177\n",
        "20:30:00     148\n",
        "14:30:00     104\n",
        "20:15:00      86\n",
        "18:30:00      76\n",
        "16:30:00      49\n",
        "14:15:00      35\n",
        "19:00:00      25\n",
        "15:15:00      24\n",
        "14:00:00      18\n",
        "18:15:00      12\n",
        "18:45:00       7\n",
        "17:45:00       6\n",
        "06:00:00       4\n",
        "19:45:00       4\n",
        "15:45:00       4\n",
        "20:45:00       2\n",
        "16:45:00       2\n",
        "09:30:00       2\n",
        "17:25:00       2\n",
        "06:30:00       2\n",
        "21:00:00       2\n",
        "11:30:00       1\n",
        "19:15:00       1\n",
        "16:15:00       1\n",
        "22:30:00       1\n",
        "17:40:00       1\n",
        "19:55:00       1\n",
        "dtype: int64"
       ]
      }
     ],
     "prompt_number": 27
    },
    {
     "cell_type": "code",
     "collapsed": false,
     "input": [
      "startzeiten.plot(kind=\"barh\")"
     ],
     "language": "python",
     "metadata": {},
     "outputs": [
      {
       "output_type": "pyout",
       "prompt_number": 28,
       "text": [
        "<matplotlib.axes.AxesSubplot at 0x4b48c50>"
       ]
      },
      {
       "output_type": "display_data",
       "png": "[encoded data removed]"
      }
     ],
     "prompt_number": 28
    },
    {
     "cell_type": "code",
     "collapsed": false,
     "input": [
      "df[df[\"uhrzeit\"] == \"19:30:00\"].sort(\"saison\", ascending=False).head(10)"
     ],
     "language": "python",
     "metadata": {},
     "outputs": [
      {
       "html": [
        "<pre>\n",
        "&ltclass 'pandas.core.frame.DataFrame'&gt\n",
        "Int64Index: 10 entries, 2634 to 2404\n",
        "Data columns (total 9 columns):\n",
        "heim         10  non-null values\n",
        "gast         10  non-null values\n",
        "saison       10  non-null values\n",
        "tore_heim    10  non-null values\n",
        "tore_gast    10  non-null values\n",
        "spieltag     10  non-null values\n",
        "zeit         10  non-null values\n",
        "tore         10  non-null values\n",
        "uhrzeit      10  non-null values\n",
        "dtypes: datetime64[ns](1), int64(5), object(3)\n",
        "</pre>"
       ],
       "output_type": "pyout",
       "prompt_number": 29,
       "text": [
        "                       heim                gast  saison  tore_heim  tore_gast  \\\n",
        "2634           Hamburger SV   Arminia Bielefeld    1999          3          0   \n",
        "5520   1. FC Kaiserslautern   Arminia Bielefeld    1999          1          2   \n",
        "12915         Hansa Rostock       VfB Stuttgart    1999          3          1   \n",
        "10860     Arminia Bielefeld         SC Freiburg    1999          1          1   \n",
        "10753     Arminia Bielefeld        MSV Duisburg    1999          0          3   \n",
        "1997           MSV Duisburg  SpVgg Unterhaching    1999          2          0   \n",
        "3880    Eintracht Frankfurt   Arminia Bielefeld    1999          1          1   \n",
        "13580    SpVgg Unterhaching        MSV Duisburg    1999          2          0   \n",
        "13555          SSV Ulm 1846   Arminia Bielefeld    1999          4          1   \n",
        "2404           Hamburger SV       VfB Stuttgart    1999          1          3   \n",
        "\n",
        "       spieltag                zeit  tore   uhrzeit  \n",
        "2634         29 2000-04-12 19:30:00     3  19:30:00  \n",
        "5520         20 2000-02-11 19:30:00     3  19:30:00  \n",
        "12915        16 1999-12-14 19:30:00     4  19:30:00  \n",
        "10860        23 2000-03-03 19:30:00     2  19:30:00  \n",
        "10753        32 2000-04-27 19:30:00     3  19:30:00  \n",
        "1997          2 1999-08-20 19:30:00     2  19:30:00  \n",
        "3880         10 1999-10-29 19:30:00     2  19:30:00  \n",
        "13580        19 2000-02-09 19:30:00     2  19:30:00  \n",
        "13555        22 2000-02-28 19:30:00     5  19:30:00  \n",
        "2404         19 2000-02-09 19:30:00     4  19:30:00  "
       ]
      }
     ],
     "prompt_number": 29
    }
   ],
   "metadata": {}
  }
 ]
}